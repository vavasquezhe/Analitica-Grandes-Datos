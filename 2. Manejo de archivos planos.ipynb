{
 "cells": [
  {
   "cell_type": "markdown",
   "metadata": {
    "tags": []
   },
   "source": [
    "## Intro Linux: Manejo de archivos planos\n",
    "---"
   ]
  },
  {
   "cell_type": "markdown",
   "metadata": {
    "tags": []
   },
   "source": [
    "## Analítica de Grandes Datos\n",
    "* ##### Facultad de Minas\n",
    "* ##### Universidad Nacional de Colombia\n",
    "* ##### Autor: Valentina Vásquez Hernandez"
   ]
  },
  {
   "cell_type": "markdown",
   "metadata": {},
   "source": [
    "<img src=\"memes/meme2.png\" alt=\"drawing\" width=\"300\"/>"
   ]
  },
  {
   "cell_type": "markdown",
   "metadata": {},
   "source": [
    "---"
   ]
  },
  {
   "cell_type": "markdown",
   "metadata": {
    "tags": []
   },
   "source": [
    "### 1. ¿Cómo obtengo datos?"
   ]
  },
  {
   "cell_type": "markdown",
   "metadata": {},
   "source": [
    "Existen distintos metodos para ingresar datos y almacenarlos en BASH:\n",
    "\n",
    "* `wget`: este comando permite realizar request a una página web y retornar el resultado.\n",
    "* `echo`: este comando permite ingresar los datos directamente en la consola a través de un string y asignarlo a una variable o archivo.\n",
    "* `archivo`: los archivos de texto plano locales en BASH se toman como un objeto operable desde el pipeline. Esta es la opción que mas se utiliza en el curso. "
   ]
  },
  {
   "cell_type": "code",
   "execution_count": 1,
   "metadata": {},
   "outputs": [
    {
     "name": "stdout",
     "output_type": "stream",
     "text": [
      "total 24\n",
      "-rw-rw-r--@ 1 valentinavasquezhernandez  staff  11322 May 18 06:23 pacientes.txt\n"
     ]
    }
   ],
   "source": [
    "%%bash\n",
    "cd data\n",
    "ls -l "
   ]
  },
  {
   "cell_type": "code",
   "execution_count": 2,
   "metadata": {},
   "outputs": [
    {
     "name": "stdout",
     "output_type": "stream",
     "text": [
      "fullname,email,drug,phone,birthdate,city,bill\n",
      "Bert Joyner,Sed@eratsemperrutrum.com,Premarin,16110619-8573,2000-07-11T08:57:17-07:00,Haasdonk,43908\n",
      "Igor Yates,urna.Nullam.lobortis@lectusquismassa.edu,Namenda,16640818-9113,1985-02-24T02:13:13-08:00,Wilmont,43682\n",
      "Christian Savage,imperdiet@at.org,Amlodipine Besylate,16610609-4276,1984-03-05T20:51:57-08:00,Pamplona,13601\n",
      "Zia Hooper,sem.Pellentesque.ut@molestiedapibus.org,Metoprolol Tartrate ,16060507-3121,2009-12-27T13:06:26-08:00,Oostende,59905\n",
      "Colette Mcclain,egestas@Etiamgravida.org,Folic Acid,16340721-4661,1986-06-30T05:23:50-07:00,Saumur,57966\n",
      "Boris Strong,tincidunt.dui.augue@ProinmiAliquam.edu,Promethazine HCl,16511224-2796,2006-10-06T14:05:18-07:00,Beaumaris,74102\n",
      "Tallulah Cain,a.auctor@Donec.org,Metformin HCl,16150821-4358,1978-11-30T04:17:15-08:00,Verres,80813\n",
      "Lucy Snow,Aliquam@Mauris.net,Metoprolol Succinate,16920126-8985,2007-12-08T06:42:00-08:00,Villa Latina,2842\n",
      "Jasmine Curtis,sapien@sit.edu,Amlodipine Besylate,16930312-2726,2007-10-07T22:27:34-07:00,Chilliwack,68878\n"
     ]
    }
   ],
   "source": [
    "%%bash\n",
    "cd data\n",
    "head pacientes.txt"
   ]
  },
  {
   "cell_type": "code",
   "execution_count": 3,
   "metadata": {},
   "outputs": [
    {
     "name": "stdout",
     "output_type": "stream",
     "text": [
      "Kessie Hampton,adipiscing.fringilla.porttitor@inhendrerit.com,Fluoxetine HCl,16161110-7218,1997-04-20T17:53:53-07:00,Saumur,65120\n",
      "Russell Velasquez,massa@atarcu.co.uk,Simvastatin,16860116-2715,2012-03-21T12:12:25-07:00,Essene,73506\n",
      "Lael Mccullough,vitae.orci.Phasellus@feugiatnonlobortis.edu,Warfarin Sodium,16270413-2154,2014-11-17T02:09:20-08:00,Rae Lakes,72754\n",
      "Eugenia Kent,lorem.eu@tellusimperdietnon.net,Doxycycline Hyclate,16830901-5439,1976-06-21T19:40:49-07:00,Worcester,33659\n",
      "Elvis Mitchell,rutrum@malesuada.net,Ibuprofen (Rx),16490829-6298,2002-06-22T13:07:08-07:00,Chiusanico,0743\n",
      "Hiram Weber,mi@blanditmattisCras.ca,Fluconazole,16540129-5158,2012-11-08T12:18:23-08:00,Schwedt,43796\n",
      "Piper Livingston,amet.consectetuer.adipiscing@orciluctuset.net,Furosemide,16580409-6120,2017-09-27T12:00:36-07:00,Des Moines,19273\n",
      "Camden Hernandez,Etiam.vestibulum@luctusipsum.edu,Nexium,16480115-5120,2017-01-28T05:03:22-08:00,Orbais,28980\n",
      "Patrick Kidd,nisl.sem@vitaesemper.co.uk,Venlafaxine HCl ER,16220612-8023,2012-01-25T09:55:25-08:00,Jammu,23846\n",
      "Aileen Sutton,auctor@ipsum.edu,Lisinopril,16140923-2384,2015-07-02T19:12:04-07:00,Sibret,4729"
     ]
    }
   ],
   "source": [
    "%%bash\n",
    "tail data/pacientes.txt"
   ]
  },
  {
   "cell_type": "markdown",
   "metadata": {},
   "source": [
    "Con los comandos `mkdir`, `rmdir` y `mv` es posible crear y modificar directorios. A continuación se crea el directorio `data_muestra`:"
   ]
  },
  {
   "cell_type": "code",
   "execution_count": 4,
   "metadata": {},
   "outputs": [
    {
     "name": "stdout",
     "output_type": "stream",
     "text": [
      "/Users/valentinavasquezhernandez/Desktop/Maestría Ingeniería - Analítica/2022-01_Monitoria_AnaliticaGrandesDatos/Taller_1_IntroLinux/data_muestra\n"
     ]
    }
   ],
   "source": [
    "%%bash\n",
    "mkdir data_muestra \n",
    "cd data_muestra\n",
    "pwd"
   ]
  },
  {
   "cell_type": "markdown",
   "metadata": {},
   "source": [
    "Con los comandos `cp` y `rm` es posible copiar y eliminar archivos. A continuación se copia el archivo `pacientes.txt` y se ubica en el nuevo directorio: "
   ]
  },
  {
   "cell_type": "code",
   "execution_count": 5,
   "metadata": {},
   "outputs": [],
   "source": [
    "%%bash\n",
    "cp data/pacientes.txt data_muestra/pacientes.txt"
   ]
  },
  {
   "cell_type": "markdown",
   "metadata": {},
   "source": [
    "A continuación se genera una muestra del archivo `pacientes.txt` y se crear un nuevo archivo: "
   ]
  },
  {
   "cell_type": "code",
   "execution_count": 6,
   "metadata": {},
   "outputs": [
    {
     "name": "stdout",
     "output_type": "stream",
     "text": [
      "Jasmine Curtis,sapien@sit.edu,Amlodipine Besylate,16930312-2726,2007-10-07T22:27:34-07:00,Chilliwack,68878\n",
      "Grace Campbell,Aenean.sed.pede@velitduisemper.co.uk,Ciprofloxacin HCl,16730316-3005,1987-03-05T19:11:56-08:00,Vancouver,62013\n",
      "Lamar Shields,pharetra.nibh@Vivamus.co.uk,Glyburide,16790801-5808,2015-03-12T01:18:20-07:00,Geraldton-Greenough,95639\n",
      "Yeo Lara,a.aliquet@utdolor.org,LevothyroxineSodium,16160101-5546,2005-06-17T11:09:41-07:00,Lingen,31825\n",
      "Buffy Hughes,Etiam.vestibulum@lacus.co.uk,Pantoprazole Sodium,16800427-1584,1984-06-10T11:39:05-07:00,Pieve di Cadore,38209\n",
      "Naida Dalton,tincidunt.nibh.Phasellus@Duisrisusodio.edu,Pantoprazole Sodium,16141211-9834,2001-07-30T21:13:45-07:00,Dunbar,5020\n",
      "Caldwell Mccarthy,nisi.sem.semper@mattissemperdui.net,Tramadol HCl,16761212-6529,1992-03-21T09:30:19-08:00,Sannazzaro de' Burgondi,45331\n",
      "Byron Kirby,nascetur.ridiculus@ridiculus.com,Vyvanse,16820925-0227,2006-07-28T13:43:59-07:00,LaSalle,43618\n",
      "Elijah Garcia,eu@nibhDonec.com,Bystolic,16520629-0032,2009-12-17T11:34:59-08:00,Pitlochry,27455\n",
      "Nash Stanley,adipiscing.fringilla@Duisvolutpatnunc.net,Azithromycin,16660207-8831,1998-11-19T04:26:17-08:00,Porpetto,44955\n",
      "Blaze Fitzpatrick,nulla.ante@enim.net,Sulfamethoxazole/Trimethoprim,16180402-4337,1993-04-23T05:22:07-07:00,Valera Fratta,37243\n"
     ]
    }
   ],
   "source": [
    "%%bash\n",
    "awk '(NR >= 10) && (NR <= 20) {print $0}' data/pacientes.txt"
   ]
  },
  {
   "cell_type": "code",
   "execution_count": 7,
   "metadata": {},
   "outputs": [],
   "source": [
    "%%bash\n",
    "awk '(NR >= 10) && (NR <= 20) {print $0}' data/pacientes.txt > data_muestra/pacientes_muestra.txt"
   ]
  },
  {
   "cell_type": "code",
   "execution_count": 8,
   "metadata": {},
   "outputs": [
    {
     "name": "stdout",
     "output_type": "stream",
     "text": [
      "Jasmine Curtis,sapien@sit.edu,Amlodipine Besylate,16930312-2726,2007-10-07T22:27:34-07:00,Chilliwack,68878\n",
      "Grace Campbell,Aenean.sed.pede@velitduisemper.co.uk,Ciprofloxacin HCl,16730316-3005,1987-03-05T19:11:56-08:00,Vancouver,62013\n",
      "Lamar Shields,pharetra.nibh@Vivamus.co.uk,Glyburide,16790801-5808,2015-03-12T01:18:20-07:00,Geraldton-Greenough,95639\n",
      "Yeo Lara,a.aliquet@utdolor.org,LevothyroxineSodium,16160101-5546,2005-06-17T11:09:41-07:00,Lingen,31825\n",
      "Buffy Hughes,Etiam.vestibulum@lacus.co.uk,Pantoprazole Sodium,16800427-1584,1984-06-10T11:39:05-07:00,Pieve di Cadore,38209\n",
      "Naida Dalton,tincidunt.nibh.Phasellus@Duisrisusodio.edu,Pantoprazole Sodium,16141211-9834,2001-07-30T21:13:45-07:00,Dunbar,5020\n",
      "Caldwell Mccarthy,nisi.sem.semper@mattissemperdui.net,Tramadol HCl,16761212-6529,1992-03-21T09:30:19-08:00,Sannazzaro de' Burgondi,45331\n",
      "Byron Kirby,nascetur.ridiculus@ridiculus.com,Vyvanse,16820925-0227,2006-07-28T13:43:59-07:00,LaSalle,43618\n",
      "Elijah Garcia,eu@nibhDonec.com,Bystolic,16520629-0032,2009-12-17T11:34:59-08:00,Pitlochry,27455\n",
      "Nash Stanley,adipiscing.fringilla@Duisvolutpatnunc.net,Azithromycin,16660207-8831,1998-11-19T04:26:17-08:00,Porpetto,44955\n",
      "Blaze Fitzpatrick,nulla.ante@enim.net,Sulfamethoxazole/Trimethoprim,16180402-4337,1993-04-23T05:22:07-07:00,Valera Fratta,37243\n"
     ]
    }
   ],
   "source": [
    "%%bash\n",
    "cat data_muestra/pacientes_muestra.txt"
   ]
  },
  {
   "cell_type": "markdown",
   "metadata": {},
   "source": [
    "A continuación se agregan dos lineas el archivo `pacientes_muestra.txt`:"
   ]
  },
  {
   "cell_type": "code",
   "execution_count": 12,
   "metadata": {},
   "outputs": [
    {
     "name": "stdout",
     "output_type": "stream",
     "text": [
      "fullname,email,drug,phone,birthdate,city,bill\n",
      "Bert Joyner,Sed@eratsemperrutrum.com,Premarin,16110619-8573,2000-07-11T08:57:17-07:00,Haasdonk,43908\n"
     ]
    }
   ],
   "source": [
    "%%bash\n",
    "head -n +2 data/pacientes.txt"
   ]
  },
  {
   "cell_type": "code",
   "execution_count": 13,
   "metadata": {},
   "outputs": [
    {
     "name": "stdout",
     "output_type": "stream",
     "text": [
      "fullname,email,drug,phone,birthdate,city,bill\n",
      "Bert Joyner,Sed@eratsemperrutrum.com,Premarin,16110619-8573,2000-07-11T08:57:17-07:00,Haasdonk,43908\n",
      "Igor Yates,urna.Nullam.lobortis@lectusquismassa.edu,Namenda,16640818-9113,1985-02-24T02:13:13-08:00,Wilmont,43682\n",
      "Christian Savage,imperdiet@at.org,Amlodipine Besylate,16610609-4276,1984-03-05T20:51:57-08:00,Pamplona,13601\n",
      "Zia Hooper,sem.Pellentesque.ut@molestiedapibus.org,Metoprolol Tartrate ,16060507-3121,2009-12-27T13:06:26-08:00,Oostende,59905\n"
     ]
    }
   ],
   "source": [
    "%%bash\n",
    "head -n +5 data/pacientes.txt"
   ]
  },
  {
   "cell_type": "code",
   "execution_count": 14,
   "metadata": {},
   "outputs": [
    {
     "name": "stdout",
     "output_type": "stream",
     "text": [
      "Hiram Weber,mi@blanditmattisCras.ca,Fluconazole,16540129-5158,2012-11-08T12:18:23-08:00,Schwedt,43796\n",
      "Piper Livingston,amet.consectetuer.adipiscing@orciluctuset.net,Furosemide,16580409-6120,2017-09-27T12:00:36-07:00,Des Moines,19273\n",
      "Camden Hernandez,Etiam.vestibulum@luctusipsum.edu,Nexium,16480115-5120,2017-01-28T05:03:22-08:00,Orbais,28980\n",
      "Patrick Kidd,nisl.sem@vitaesemper.co.uk,Venlafaxine HCl ER,16220612-8023,2012-01-25T09:55:25-08:00,Jammu,23846\n",
      "Aileen Sutton,auctor@ipsum.edu,Lisinopril,16140923-2384,2015-07-02T19:12:04-07:00,Sibret,4729"
     ]
    }
   ],
   "source": [
    "%%bash\n",
    "tail -n -5 data/pacientes.txt"
   ]
  },
  {
   "cell_type": "code",
   "execution_count": 15,
   "metadata": {},
   "outputs": [
    {
     "name": "stdout",
     "output_type": "stream",
     "text": [
      "Yeo Lara,a.aliquet@utdolor.org,LevothyroxineSodium,16160101-5546,2005-06-17T11:09:41-07:00,Lingen,31825\n",
      "Buffy Hughes,Etiam.vestibulum@lacus.co.uk,Pantoprazole Sodium,16800427-1584,1984-06-10T11:39:05-07:00,Pieve di Cadore,38209\n",
      "Naida Dalton,tincidunt.nibh.Phasellus@Duisrisusodio.edu,Pantoprazole Sodium,16141211-9834,2001-07-30T21:13:45-07:00,Dunbar,5020\n",
      "Caldwell Mccarthy,nisi.sem.semper@mattissemperdui.net,Tramadol HCl,16761212-6529,1992-03-21T09:30:19-08:00,Sannazzaro de' Burgondi,45331\n",
      "Byron Kirby,nascetur.ridiculus@ridiculus.com,Vyvanse,16820925-0227,2006-07-28T13:43:59-07:00,LaSalle,43618\n",
      "Elijah Garcia,eu@nibhDonec.com,Bystolic,16520629-0032,2009-12-17T11:34:59-08:00,Pitlochry,27455\n",
      "Nash Stanley,adipiscing.fringilla@Duisvolutpatnunc.net,Azithromycin,16660207-8831,1998-11-19T04:26:17-08:00,Porpetto,44955\n",
      "Blaze Fitzpatrick,nulla.ante@enim.net,Sulfamethoxazole/Trimethoprim,16180402-4337,1993-04-23T05:22:07-07:00,Valera Fratta,37243\n",
      "fullname,email,drug,phone,birthdate,city,bill\n",
      "Bert Joyner,Sed@eratsemperrutrum.com,Premarin,16110619-8573,2000-07-11T08:57:17-07:00,Haasdonk,43908\n"
     ]
    }
   ],
   "source": [
    "%%bash\n",
    "head -n +2 data/pacientes.txt >> data_muestra/pacientes_muestra.txt\n",
    "tail data_muestra/pacientes_muestra.txt"
   ]
  },
  {
   "cell_type": "markdown",
   "metadata": {},
   "source": [
    "A continuación se eliminar el directorio `data_muestra` con todos los archivos que contenga:"
   ]
  },
  {
   "cell_type": "code",
   "execution_count": 16,
   "metadata": {},
   "outputs": [
    {
     "name": "stderr",
     "output_type": "stream",
     "text": [
      "rm: data_muestra: is a directory\n"
     ]
    },
    {
     "ename": "CalledProcessError",
     "evalue": "Command 'b'rm data_muestra\\n'' returned non-zero exit status 1.",
     "output_type": "error",
     "traceback": [
      "\u001b[0;31m---------------------------------------------------------------------------\u001b[0m",
      "\u001b[0;31mCalledProcessError\u001b[0m                        Traceback (most recent call last)",
      "\u001b[0;32m<ipython-input-16-2644e3be5a53>\u001b[0m in \u001b[0;36m<module>\u001b[0;34m\u001b[0m\n\u001b[0;32m----> 1\u001b[0;31m \u001b[0mget_ipython\u001b[0m\u001b[0;34m(\u001b[0m\u001b[0;34m)\u001b[0m\u001b[0;34m.\u001b[0m\u001b[0mrun_cell_magic\u001b[0m\u001b[0;34m(\u001b[0m\u001b[0;34m'bash'\u001b[0m\u001b[0;34m,\u001b[0m \u001b[0;34m''\u001b[0m\u001b[0;34m,\u001b[0m \u001b[0;34m'rm data_muestra\\n'\u001b[0m\u001b[0;34m)\u001b[0m\u001b[0;34m\u001b[0m\u001b[0;34m\u001b[0m\u001b[0m\n\u001b[0m",
      "\u001b[0;32m~/opt/anaconda3/lib/python3.8/site-packages/IPython/core/interactiveshell.py\u001b[0m in \u001b[0;36mrun_cell_magic\u001b[0;34m(self, magic_name, line, cell)\u001b[0m\n\u001b[1;32m   2380\u001b[0m             \u001b[0;32mwith\u001b[0m \u001b[0mself\u001b[0m\u001b[0;34m.\u001b[0m\u001b[0mbuiltin_trap\u001b[0m\u001b[0;34m:\u001b[0m\u001b[0;34m\u001b[0m\u001b[0;34m\u001b[0m\u001b[0m\n\u001b[1;32m   2381\u001b[0m                 \u001b[0margs\u001b[0m \u001b[0;34m=\u001b[0m \u001b[0;34m(\u001b[0m\u001b[0mmagic_arg_s\u001b[0m\u001b[0;34m,\u001b[0m \u001b[0mcell\u001b[0m\u001b[0;34m)\u001b[0m\u001b[0;34m\u001b[0m\u001b[0;34m\u001b[0m\u001b[0m\n\u001b[0;32m-> 2382\u001b[0;31m                 \u001b[0mresult\u001b[0m \u001b[0;34m=\u001b[0m \u001b[0mfn\u001b[0m\u001b[0;34m(\u001b[0m\u001b[0;34m*\u001b[0m\u001b[0margs\u001b[0m\u001b[0;34m,\u001b[0m \u001b[0;34m**\u001b[0m\u001b[0mkwargs\u001b[0m\u001b[0;34m)\u001b[0m\u001b[0;34m\u001b[0m\u001b[0;34m\u001b[0m\u001b[0m\n\u001b[0m\u001b[1;32m   2383\u001b[0m             \u001b[0;32mreturn\u001b[0m \u001b[0mresult\u001b[0m\u001b[0;34m\u001b[0m\u001b[0;34m\u001b[0m\u001b[0m\n\u001b[1;32m   2384\u001b[0m \u001b[0;34m\u001b[0m\u001b[0m\n",
      "\u001b[0;32m~/opt/anaconda3/lib/python3.8/site-packages/IPython/core/magics/script.py\u001b[0m in \u001b[0;36mnamed_script_magic\u001b[0;34m(line, cell)\u001b[0m\n\u001b[1;32m    140\u001b[0m             \u001b[0;32melse\u001b[0m\u001b[0;34m:\u001b[0m\u001b[0;34m\u001b[0m\u001b[0;34m\u001b[0m\u001b[0m\n\u001b[1;32m    141\u001b[0m                 \u001b[0mline\u001b[0m \u001b[0;34m=\u001b[0m \u001b[0mscript\u001b[0m\u001b[0;34m\u001b[0m\u001b[0;34m\u001b[0m\u001b[0m\n\u001b[0;32m--> 142\u001b[0;31m             \u001b[0;32mreturn\u001b[0m \u001b[0mself\u001b[0m\u001b[0;34m.\u001b[0m\u001b[0mshebang\u001b[0m\u001b[0;34m(\u001b[0m\u001b[0mline\u001b[0m\u001b[0;34m,\u001b[0m \u001b[0mcell\u001b[0m\u001b[0;34m)\u001b[0m\u001b[0;34m\u001b[0m\u001b[0;34m\u001b[0m\u001b[0m\n\u001b[0m\u001b[1;32m    143\u001b[0m \u001b[0;34m\u001b[0m\u001b[0m\n\u001b[1;32m    144\u001b[0m         \u001b[0;31m# write a basic docstring:\u001b[0m\u001b[0;34m\u001b[0m\u001b[0;34m\u001b[0m\u001b[0;34m\u001b[0m\u001b[0m\n",
      "\u001b[0;32m<decorator-gen-103>\u001b[0m in \u001b[0;36mshebang\u001b[0;34m(self, line, cell)\u001b[0m\n",
      "\u001b[0;32m~/opt/anaconda3/lib/python3.8/site-packages/IPython/core/magic.py\u001b[0m in \u001b[0;36m<lambda>\u001b[0;34m(f, *a, **k)\u001b[0m\n\u001b[1;32m    185\u001b[0m     \u001b[0;31m# but it's overkill for just that one bit of state.\u001b[0m\u001b[0;34m\u001b[0m\u001b[0;34m\u001b[0m\u001b[0;34m\u001b[0m\u001b[0m\n\u001b[1;32m    186\u001b[0m     \u001b[0;32mdef\u001b[0m \u001b[0mmagic_deco\u001b[0m\u001b[0;34m(\u001b[0m\u001b[0marg\u001b[0m\u001b[0;34m)\u001b[0m\u001b[0;34m:\u001b[0m\u001b[0;34m\u001b[0m\u001b[0;34m\u001b[0m\u001b[0m\n\u001b[0;32m--> 187\u001b[0;31m         \u001b[0mcall\u001b[0m \u001b[0;34m=\u001b[0m \u001b[0;32mlambda\u001b[0m \u001b[0mf\u001b[0m\u001b[0;34m,\u001b[0m \u001b[0;34m*\u001b[0m\u001b[0ma\u001b[0m\u001b[0;34m,\u001b[0m \u001b[0;34m**\u001b[0m\u001b[0mk\u001b[0m\u001b[0;34m:\u001b[0m \u001b[0mf\u001b[0m\u001b[0;34m(\u001b[0m\u001b[0;34m*\u001b[0m\u001b[0ma\u001b[0m\u001b[0;34m,\u001b[0m \u001b[0;34m**\u001b[0m\u001b[0mk\u001b[0m\u001b[0;34m)\u001b[0m\u001b[0;34m\u001b[0m\u001b[0;34m\u001b[0m\u001b[0m\n\u001b[0m\u001b[1;32m    188\u001b[0m \u001b[0;34m\u001b[0m\u001b[0m\n\u001b[1;32m    189\u001b[0m         \u001b[0;32mif\u001b[0m \u001b[0mcallable\u001b[0m\u001b[0;34m(\u001b[0m\u001b[0marg\u001b[0m\u001b[0;34m)\u001b[0m\u001b[0;34m:\u001b[0m\u001b[0;34m\u001b[0m\u001b[0;34m\u001b[0m\u001b[0m\n",
      "\u001b[0;32m~/opt/anaconda3/lib/python3.8/site-packages/IPython/core/magics/script.py\u001b[0m in \u001b[0;36mshebang\u001b[0;34m(self, line, cell)\u001b[0m\n\u001b[1;32m    243\u001b[0m             \u001b[0msys\u001b[0m\u001b[0;34m.\u001b[0m\u001b[0mstderr\u001b[0m\u001b[0;34m.\u001b[0m\u001b[0mflush\u001b[0m\u001b[0;34m(\u001b[0m\u001b[0;34m)\u001b[0m\u001b[0;34m\u001b[0m\u001b[0;34m\u001b[0m\u001b[0m\n\u001b[1;32m    244\u001b[0m         \u001b[0;32mif\u001b[0m \u001b[0margs\u001b[0m\u001b[0;34m.\u001b[0m\u001b[0mraise_error\u001b[0m \u001b[0;32mand\u001b[0m \u001b[0mp\u001b[0m\u001b[0;34m.\u001b[0m\u001b[0mreturncode\u001b[0m\u001b[0;34m!=\u001b[0m\u001b[0;36m0\u001b[0m\u001b[0;34m:\u001b[0m\u001b[0;34m\u001b[0m\u001b[0;34m\u001b[0m\u001b[0m\n\u001b[0;32m--> 245\u001b[0;31m             \u001b[0;32mraise\u001b[0m \u001b[0mCalledProcessError\u001b[0m\u001b[0;34m(\u001b[0m\u001b[0mp\u001b[0m\u001b[0;34m.\u001b[0m\u001b[0mreturncode\u001b[0m\u001b[0;34m,\u001b[0m \u001b[0mcell\u001b[0m\u001b[0;34m,\u001b[0m \u001b[0moutput\u001b[0m\u001b[0;34m=\u001b[0m\u001b[0mout\u001b[0m\u001b[0;34m,\u001b[0m \u001b[0mstderr\u001b[0m\u001b[0;34m=\u001b[0m\u001b[0merr\u001b[0m\u001b[0;34m)\u001b[0m\u001b[0;34m\u001b[0m\u001b[0;34m\u001b[0m\u001b[0m\n\u001b[0m\u001b[1;32m    246\u001b[0m \u001b[0;34m\u001b[0m\u001b[0m\n\u001b[1;32m    247\u001b[0m     \u001b[0;32mdef\u001b[0m \u001b[0m_run_script\u001b[0m\u001b[0;34m(\u001b[0m\u001b[0mself\u001b[0m\u001b[0;34m,\u001b[0m \u001b[0mp\u001b[0m\u001b[0;34m,\u001b[0m \u001b[0mcell\u001b[0m\u001b[0;34m,\u001b[0m \u001b[0mto_close\u001b[0m\u001b[0;34m)\u001b[0m\u001b[0;34m:\u001b[0m\u001b[0;34m\u001b[0m\u001b[0;34m\u001b[0m\u001b[0m\n",
      "\u001b[0;31mCalledProcessError\u001b[0m: Command 'b'rm data_muestra\\n'' returned non-zero exit status 1."
     ]
    }
   ],
   "source": [
    "%%bash\n",
    "rm data_muestra"
   ]
  },
  {
   "cell_type": "code",
   "execution_count": 17,
   "metadata": {},
   "outputs": [],
   "source": [
    "%%bash\n",
    "rm -rf data_muestra"
   ]
  },
  {
   "cell_type": "markdown",
   "metadata": {},
   "source": [
    "### 2. ¿Cómo proceso los datos?"
   ]
  },
  {
   "cell_type": "markdown",
   "metadata": {},
   "source": [
    "Los comandos `wc`, `grep` y `cut` permiten realizar operaciones basicas sobre los archivos de texto.\n",
    "### 2. ¿Cómo proceso los datos?"
   ]
  },
  {
   "cell_type": "code",
   "execution_count": 19,
   "metadata": {},
   "outputs": [
    {
     "name": "stdout",
     "output_type": "stream",
     "text": [
      "Usage: wc [OPTION]... [FILE]...\n",
      "  or:  wc [OPTION]... --files0-from=F\n",
      "Print newline, word, and byte counts for each FILE, and a total line if\n",
      "more than one FILE is specified.  A word is a non-zero-length sequence of\n",
      "characters delimited by white space.\n",
      "\n",
      "With no FILE, or when FILE is -, read standard input.\n",
      "\n",
      "The options below may be used to select which counts are printed, always in\n",
      "the following order: newline, word, character, byte, maximum line length.\n",
      "  -c, --bytes            print the byte counts\n",
      "  -m, --chars            print the character counts\n",
      "  -l, --lines            print the newline counts\n",
      "      --files0-from=F    read input from the files specified by\n",
      "                           NUL-terminated names in file F;\n",
      "                           If F is - then read names from standard input\n",
      "  -L, --max-line-length  print the maximum display width\n",
      "  -w, --words            print the word counts\n",
      "      --help     display this help and exit\n",
      "      --version  output version information and exit\n",
      "\n",
      "GNU coreutils online help: <https://www.gnu.org/software/coreutils/>\n",
      "Report wc translation bugs to <https://translationproject.org/team/>\n",
      "Full documentation at: <https://www.gnu.org/software/coreutils/wc>\n",
      "or available locally via: info '(coreutils) wc invocation'\n"
     ]
    }
   ],
   "source": [
    "%%bash\n",
    "wc --help"
   ]
  },
  {
   "cell_type": "code",
   "execution_count": 11,
   "metadata": {},
   "outputs": [
    {
     "name": "stdout",
     "output_type": "stream",
     "text": [
      "100 data/pacientes.txt\n"
     ]
    }
   ],
   "source": [
    "%%bash\n",
    "wc -l data/pacientes.txt"
   ]
  },
  {
   "cell_type": "code",
   "execution_count": 12,
   "metadata": {},
   "outputs": [
    {
     "name": "stdout",
     "output_type": "stream",
     "text": [
      "11314 data/pacientes.txt\n"
     ]
    }
   ],
   "source": [
    "%%bash\n",
    "wc -m data/pacientes.txt"
   ]
  },
  {
   "cell_type": "code",
   "execution_count": 13,
   "metadata": {},
   "outputs": [
    {
     "name": "stdout",
     "output_type": "stream",
     "text": [
      "266 data/pacientes.txt\n"
     ]
    }
   ],
   "source": [
    "%%bash\n",
    "wc -w data/pacientes.txt"
   ]
  },
  {
   "cell_type": "markdown",
   "metadata": {},
   "source": [
    "A continuación se extraen todos los pacientes cuya droga contiene la palabra Metropolol:"
   ]
  },
  {
   "cell_type": "code",
   "execution_count": 20,
   "metadata": {},
   "outputs": [
    {
     "name": "stdout",
     "output_type": "stream",
     "text": [
      "Usage: cut OPTION... [FILE]...\n",
      "Print selected parts of lines from each FILE to standard output.\n",
      "\n",
      "With no FILE, or when FILE is -, read standard input.\n",
      "\n",
      "Mandatory arguments to long options are mandatory for short options too.\n",
      "  -b, --bytes=LIST        select only these bytes\n",
      "  -c, --characters=LIST   select only these characters\n",
      "  -d, --delimiter=DELIM   use DELIM instead of TAB for field delimiter\n",
      "  -f, --fields=LIST       select only these fields;  also print any line\n",
      "                            that contains no delimiter character, unless\n",
      "                            the -s option is specified\n",
      "  -n                      (ignored)\n",
      "      --complement        complement the set of selected bytes, characters\n",
      "                            or fields\n",
      "  -s, --only-delimited    do not print lines not containing delimiters\n",
      "      --output-delimiter=STRING  use STRING as the output delimiter\n",
      "                            the default is to use the input delimiter\n",
      "  -z, --zero-terminated    line delimiter is NUL, not newline\n",
      "      --help     display this help and exit\n",
      "      --version  output version information and exit\n",
      "\n",
      "Use one, and only one of -b, -c or -f.  Each LIST is made up of one\n",
      "range, or many ranges separated by commas.  Selected input is written\n",
      "in the same order that it is read, and is written exactly once.\n",
      "Each range is one of:\n",
      "\n",
      "  N     N'th byte, character or field, counted from 1\n",
      "  N-    from N'th byte, character or field, to end of line\n",
      "  N-M   from N'th to M'th (included) byte, character or field\n",
      "  -M    from first to M'th (included) byte, character or field\n",
      "\n",
      "GNU coreutils online help: <https://www.gnu.org/software/coreutils/>\n",
      "Report cut translation bugs to <https://translationproject.org/team/>\n",
      "Full documentation at: <https://www.gnu.org/software/coreutils/cut>\n",
      "or available locally via: info '(coreutils) cut invocation'\n"
     ]
    }
   ],
   "source": [
    "%%bash\n",
    "cut --help"
   ]
  },
  {
   "cell_type": "code",
   "execution_count": 21,
   "metadata": {},
   "outputs": [
    {
     "name": "stdout",
     "output_type": "stream",
     "text": [
      "fullname,email,drug,phone,birthdate,city,bill\n",
      "Bert Joyner,Sed@eratsemperrutrum.com,Premarin,16110619-8573,2000-07-11T08:57:17-07:00,Haasdonk,43908\n",
      "Igor Yates,urna.Nullam.lobortis@lectusquismassa.edu,Namenda,16640818-9113,1985-02-24T02:13:13-08:00,Wilmont,43682\n",
      "Christian Savage,imperdiet@at.org,Amlodipine Besylate,16610609-4276,1984-03-05T20:51:57-08:00,Pamplona,13601\n",
      "Zia Hooper,sem.Pellentesque.ut@molestiedapibus.org,Metoprolol Tartrate ,16060507-3121,2009-12-27T13:06:26-08:00,Oostende,59905\n",
      "Colette Mcclain,egestas@Etiamgravida.org,Folic Acid,16340721-4661,1986-06-30T05:23:50-07:00,Saumur,57966\n",
      "Boris Strong,tincidunt.dui.augue@ProinmiAliquam.edu,Promethazine HCl,16511224-2796,2006-10-06T14:05:18-07:00,Beaumaris,74102\n",
      "Tallulah Cain,a.auctor@Donec.org,Metformin HCl,16150821-4358,1978-11-30T04:17:15-08:00,Verres,80813\n",
      "Lucy Snow,Aliquam@Mauris.net,Metoprolol Succinate,16920126-8985,2007-12-08T06:42:00-08:00,Villa Latina,2842\n",
      "Jasmine Curtis,sapien@sit.edu,Amlodipine Besylate,16930312-2726,2007-10-07T22:27:34-07:00,Chilliwack,68878\n"
     ]
    }
   ],
   "source": [
    "%%bash\n",
    "head data/pacientes.txt"
   ]
  },
  {
   "cell_type": "code",
   "execution_count": 23,
   "metadata": {},
   "outputs": [
    {
     "name": "stdout",
     "output_type": "stream",
     "text": [
      "drug\n",
      "Premarin\n",
      "Namenda\n",
      "Amlodipine Besylate\n",
      "Metoprolol Tartrate \n"
     ]
    }
   ],
   "source": [
    "%%bash\n",
    "cut -d, -f3 data/pacientes.txt | head -n 5"
   ]
  },
  {
   "cell_type": "code",
   "execution_count": 24,
   "metadata": {},
   "outputs": [
    {
     "name": "stdout",
     "output_type": "stream",
     "text": [
      "Usage: grep [OPTION]... PATTERNS [FILE]...\n",
      "Search for PATTERNS in each FILE.\n",
      "Example: grep -i 'hello world' menu.h main.c\n",
      "PATTERNS can contain multiple patterns separated by newlines.\n",
      "\n",
      "Pattern selection and interpretation:\n",
      "  -E, --extended-regexp     PATTERNS are extended regular expressions\n",
      "  -F, --fixed-strings       PATTERNS are strings\n",
      "  -G, --basic-regexp        PATTERNS are basic regular expressions\n",
      "  -P, --perl-regexp         PATTERNS are Perl regular expressions\n",
      "  -e, --regexp=PATTERNS     use PATTERNS for matching\n",
      "  -f, --file=FILE           take PATTERNS from FILE\n",
      "  -i, --ignore-case         ignore case distinctions in patterns and data\n",
      "      --no-ignore-case      do not ignore case distinctions (default)\n",
      "  -w, --word-regexp         match only whole words\n",
      "  -x, --line-regexp         match only whole lines\n",
      "  -z, --null-data           a data line ends in 0 byte, not newline\n",
      "\n",
      "Miscellaneous:\n",
      "  -s, --no-messages         suppress error messages\n",
      "  -v, --invert-match        select non-matching lines\n",
      "  -V, --version             display version information and exit\n",
      "      --help                display this help text and exit\n",
      "\n",
      "Output control:\n",
      "  -m, --max-count=NUM       stop after NUM selected lines\n",
      "  -b, --byte-offset         print the byte offset with output lines\n",
      "  -n, --line-number         print line number with output lines\n",
      "      --line-buffered       flush output on every line\n",
      "  -H, --with-filename       print file name with output lines\n",
      "  -h, --no-filename         suppress the file name prefix on output\n",
      "      --label=LABEL         use LABEL as the standard input file name prefix\n",
      "  -o, --only-matching       show only nonempty parts of lines that match\n",
      "  -q, --quiet, --silent     suppress all normal output\n",
      "      --binary-files=TYPE   assume that binary files are TYPE;\n",
      "                            TYPE is 'binary', 'text', or 'without-match'\n",
      "  -a, --text                equivalent to --binary-files=text\n",
      "  -I                        equivalent to --binary-files=without-match\n",
      "  -d, --directories=ACTION  how to handle directories;\n",
      "                            ACTION is 'read', 'recurse', or 'skip'\n",
      "  -D, --devices=ACTION      how to handle devices, FIFOs and sockets;\n",
      "                            ACTION is 'read' or 'skip'\n",
      "  -r, --recursive           like --directories=recurse\n",
      "  -R, --dereference-recursive  likewise, but follow all symlinks\n",
      "      --include=GLOB        search only files that match GLOB (a file pattern)\n",
      "      --exclude=GLOB        skip files that match GLOB\n",
      "      --exclude-from=FILE   skip files that match any file pattern from FILE\n",
      "      --exclude-dir=GLOB    skip directories that match GLOB\n",
      "  -L, --files-without-match  print only names of FILEs with no selected lines\n",
      "  -l, --files-with-matches  print only names of FILEs with selected lines\n",
      "  -c, --count               print only a count of selected lines per FILE\n",
      "  -T, --initial-tab         make tabs line up (if needed)\n",
      "  -Z, --null                print 0 byte after FILE name\n",
      "\n",
      "Context control:\n",
      "  -B, --before-context=NUM  print NUM lines of leading context\n",
      "  -A, --after-context=NUM   print NUM lines of trailing context\n",
      "  -C, --context=NUM         print NUM lines of output context\n",
      "  -NUM                      same as --context=NUM\n",
      "      --color[=WHEN],\n",
      "      --colour[=WHEN]       use markers to highlight the matching strings;\n",
      "                            WHEN is 'always', 'never', or 'auto'\n",
      "  -U, --binary              do not strip CR characters at EOL (MSDOS/Windows)\n",
      "\n",
      "When FILE is '-', read standard input.  With no FILE, read '.' if\n",
      "recursive, '-' otherwise.  With fewer than two FILEs, assume -h.\n",
      "Exit status is 0 if any line (or file if -L) is selected, 1 otherwise;\n",
      "if any error occurs and -q is not given, the exit status is 2.\n",
      "\n",
      "Report bugs to: bug-grep@gnu.org\n",
      "GNU grep home page: <http://www.gnu.org/software/grep/>\n",
      "General help using GNU software: <https://www.gnu.org/gethelp/>\n"
     ]
    }
   ],
   "source": [
    "%%bash\n",
    "grep --help"
   ]
  },
  {
   "cell_type": "code",
   "execution_count": 27,
   "metadata": {},
   "outputs": [
    {
     "name": "stdout",
     "output_type": "stream",
     "text": [
      "Zia Hooper,sem.Pellentesque.ut@molestiedapibus.org,Metoprolol Tartrate ,16060507-3121,2009-12-27T13:06:26-08:00,Oostende,59905\n",
      "Lucy Snow,Aliquam@Mauris.net,Metoprolol Succinate,16920126-8985,2007-12-08T06:42:00-08:00,Villa Latina,2842\n",
      "Elmo Stewart,amet.ultricies@parturient.com,Metoprolol Tartrate ,16690117-4257,1979-01-15T13:24:34-08:00,Aosta,26774\n",
      "Binary file data/pacientes.txt matches\n"
     ]
    }
   ],
   "source": [
    "%%bash\n",
    "grep --color Metoprolol data/pacientes.txt | "
   ]
  },
  {
   "cell_type": "code",
   "execution_count": 28,
   "metadata": {},
   "outputs": [
    {
     "name": "stdout",
     "output_type": "stream",
     "text": [
      "5:Metoprolol Tartrate \n",
      "9:Metoprolol Succinate\n",
      "48:Metoprolol Succinatee\n",
      "86:Metoprolol Tartrate \n"
     ]
    }
   ],
   "source": [
    "%%bash\n",
    "cut -d, -f3 data/pacientes.txt | grep -n --color Metoprolol  #la opcion -n muestra el número de la linea y --color señala la busqueda."
   ]
  },
  {
   "cell_type": "code",
   "execution_count": 16,
   "metadata": {},
   "outputs": [
    {
     "name": "stdout",
     "output_type": "stream",
     "text": [
      "Usage: grep [OPTION]... PATTERNS [FILE]...\n",
      "Search for PATTERNS in each FILE.\n",
      "Example: grep -i 'hello world' menu.h main.c\n",
      "PATTERNS can contain multiple patterns separated by newlines.\n",
      "\n",
      "Pattern selection and interpretation:\n",
      "  -E, --extended-regexp     PATTERNS are extended regular expressions\n",
      "  -F, --fixed-strings       PATTERNS are strings\n",
      "  -G, --basic-regexp        PATTERNS are basic regular expressions\n",
      "  -P, --perl-regexp         PATTERNS are Perl regular expressions\n",
      "  -e, --regexp=PATTERNS     use PATTERNS for matching\n",
      "  -f, --file=FILE           take PATTERNS from FILE\n",
      "  -i, --ignore-case         ignore case distinctions in patterns and data\n",
      "      --no-ignore-case      do not ignore case distinctions (default)\n",
      "  -w, --word-regexp         match only whole words\n",
      "  -x, --line-regexp         match only whole lines\n",
      "  -z, --null-data           a data line ends in 0 byte, not newline\n",
      "\n",
      "Miscellaneous:\n",
      "  -s, --no-messages         suppress error messages\n",
      "  -v, --invert-match        select non-matching lines\n",
      "  -V, --version             display version information and exit\n",
      "      --help                display this help text and exit\n",
      "\n",
      "Output control:\n",
      "  -m, --max-count=NUM       stop after NUM selected lines\n",
      "  -b, --byte-offset         print the byte offset with output lines\n",
      "  -n, --line-number         print line number with output lines\n",
      "      --line-buffered       flush output on every line\n",
      "  -H, --with-filename       print file name with output lines\n",
      "  -h, --no-filename         suppress the file name prefix on output\n",
      "      --label=LABEL         use LABEL as the standard input file name prefix\n",
      "  -o, --only-matching       show only nonempty parts of lines that match\n",
      "  -q, --quiet, --silent     suppress all normal output\n",
      "      --binary-files=TYPE   assume that binary files are TYPE;\n",
      "                            TYPE is 'binary', 'text', or 'without-match'\n",
      "  -a, --text                equivalent to --binary-files=text\n",
      "  -I                        equivalent to --binary-files=without-match\n",
      "  -d, --directories=ACTION  how to handle directories;\n",
      "                            ACTION is 'read', 'recurse', or 'skip'\n",
      "  -D, --devices=ACTION      how to handle devices, FIFOs and sockets;\n",
      "                            ACTION is 'read' or 'skip'\n",
      "  -r, --recursive           like --directories=recurse\n",
      "  -R, --dereference-recursive  likewise, but follow all symlinks\n",
      "      --include=GLOB        search only files that match GLOB (a file pattern)\n",
      "      --exclude=GLOB        skip files that match GLOB\n",
      "      --exclude-from=FILE   skip files that match any file pattern from FILE\n",
      "      --exclude-dir=GLOB    skip directories that match GLOB\n",
      "  -L, --files-without-match  print only names of FILEs with no selected lines\n",
      "  -l, --files-with-matches  print only names of FILEs with selected lines\n",
      "  -c, --count               print only a count of selected lines per FILE\n",
      "  -T, --initial-tab         make tabs line up (if needed)\n",
      "  -Z, --null                print 0 byte after FILE name\n",
      "\n",
      "Context control:\n",
      "  -B, --before-context=NUM  print NUM lines of leading context\n",
      "  -A, --after-context=NUM   print NUM lines of trailing context\n",
      "  -C, --context=NUM         print NUM lines of output context\n",
      "  -NUM                      same as --context=NUM\n",
      "      --color[=WHEN],\n",
      "      --colour[=WHEN]       use markers to highlight the matching strings;\n",
      "                            WHEN is 'always', 'never', or 'auto'\n",
      "  -U, --binary              do not strip CR characters at EOL (MSDOS/Windows)\n",
      "\n",
      "When FILE is '-', read standard input.  With no FILE, read '.' if\n",
      "recursive, '-' otherwise.  With fewer than two FILEs, assume -h.\n",
      "Exit status is 0 if any line (or file if -L) is selected, 1 otherwise;\n",
      "if any error occurs and -q is not given, the exit status is 2.\n",
      "\n",
      "Report bugs to: bug-grep@gnu.org\n",
      "GNU grep home page: <http://www.gnu.org/software/grep/>\n",
      "General help using GNU software: <https://www.gnu.org/gethelp/>\n"
     ]
    }
   ],
   "source": [
    "%%bash \n",
    "grep --help"
   ]
  },
  {
   "cell_type": "code",
   "execution_count": 17,
   "metadata": {},
   "outputs": [
    {
     "name": "stdout",
     "output_type": "stream",
     "text": [
      "4\n"
     ]
    }
   ],
   "source": [
    "%%bash\n",
    "grep -c 'Metoprolol' data/pacientes.txt #la opción -c muestra cuantas veces está la busqueda en el archivo."
   ]
  },
  {
   "cell_type": "code",
   "execution_count": 18,
   "metadata": {},
   "outputs": [
    {
     "name": "stdout",
     "output_type": "stream",
     "text": [
      "Bert Joyner,Sed@eratsemperrutrum.com,Premarin,16110619-8573,2000-07-11T08:57:17-07:00,Haasdonk,43908\n"
     ]
    }
   ],
   "source": [
    "%%bash\n",
    "grep -E '^Bert' data/pacientes.txt "
   ]
  },
  {
   "cell_type": "markdown",
   "metadata": {},
   "source": [
    "A continuación se reemplaza el separador en las primeras 10 lineas del archivo y se almacena en una variable:"
   ]
  },
  {
   "cell_type": "code",
   "execution_count": 19,
   "metadata": {},
   "outputs": [
    {
     "name": "stderr",
     "output_type": "stream",
     "text": [
      "shell-init: error retrieving current directory: getcwd: cannot access parent directories: No such file or directory\n"
     ]
    },
    {
     "name": "stdout",
     "output_type": "stream",
     "text": [
      "fullname;email;drug;phone;birthdate;city;bill\n",
      "Bert Joyner;Sed@eratsemperrutrum.com;Premarin;16110619-8573;2000-07-11T08:57:17-07:00;Haasdonk;43908\n",
      "Igor Yates;urna.Nullam.lobortis@lectusquismassa.edu;Namenda;16640818-9113;1985-02-24T02:13:13-08:00;Wilmont;43682\n",
      "Christian Savage;imperdiet@at.org;Amlodipine Besylate;16610609-4276;1984-03-05T20:51:57-08:00;Pamplona;13601\n",
      "Zia Hooper;sem.Pellentesque.ut@molestiedapibus.org;Metoprolol Tartrate ;16060507-3121;2009-12-27T13:06:26-08:00;Oostende;59905\n",
      "Colette Mcclain;egestas@Etiamgravida.org;Folic Acid;16340721-4661;1986-06-30T05:23:50-07:00;Saumur;57966\n",
      "Boris Strong;tincidunt.dui.augue@ProinmiAliquam.edu;Promethazine HCl;16511224-2796;2006-10-06T14:05:18-07:00;Beaumaris;74102\n",
      "Tallulah Cain;a.auctor@Donec.org;Metformin HCl;16150821-4358;1978-11-30T04:17:15-08:00;Verres;80813\n",
      "Lucy Snow;Aliquam@Mauris.net;Metoprolol Succinate;16920126-8985;2007-12-08T06:42:00-08:00;Villa Latina;2842\n",
      "Jasmine Curtis;sapien@sit.edu;Amlodipine Besylate;16930312-2726;2007-10-07T22:27:34-07:00;Chilliwack;68878\n"
     ]
    }
   ],
   "source": [
    "%%bash\n",
    "head -n 10 data/pacientes.txt | tr ',' ';' > out.1\n",
    "cat out.1"
   ]
  },
  {
   "cell_type": "markdown",
   "metadata": {},
   "source": [
    "A continuación se obtienen los tipos de drogas que consumen los pacientes organizadas en orden alfabético:"
   ]
  },
  {
   "cell_type": "code",
   "execution_count": 20,
   "metadata": {},
   "outputs": [
    {
     "name": "stdout",
     "output_type": "stream",
     "text": [
      "Abilify\n",
      "Advair Diskus\n",
      "Allopurinol\n",
      "Alprazolam\n",
      "Alprazolam\n",
      "Alprazolam\n",
      "Amlodipine Besylate\n",
      "Amlodipine Besylate\n",
      "Amlodipine Besylate\n",
      "Amlodipine Besylate\n",
      "Amlodipine Besylate\n",
      "Amlodipine Besylate\n",
      "Amoxicillin\n",
      "Amoxicillin\n",
      "Amoxicillin\n",
      "Amoxicillin\n",
      "Amoxicillin Trihydrate/Potassium Clavulanate\n",
      "Amphetamine Salts\n",
      "Atenolol\n",
      "Atenolol\n",
      "Atenolol\n",
      "Azithromycin\n",
      "Bystolic\n",
      "Bystolic\n",
      "Cephalexin\n",
      "Cephalexin\n",
      "Ciprofloxacin HCl\n",
      "Ciprofloxacin HCl\n",
      "Citalopram HBR\n",
      "Clonazepam\n",
      "Cyclobenzaprin HCl\n",
      "Cymbalta\n",
      "Cymbalta\n",
      "Cymbalta\n",
      "Diazepam\n",
      "Diazepam\n",
      "Diovan\n",
      "Doxycycline Hyclate\n",
      "Flovent HFA\n",
      "Fluconazole\n",
      "Fluconazole\n",
      "Fluoxetine HCl\n",
      "Fluoxetine HCl\n",
      "Folic Acid\n",
      "Furosemide\n",
      "Furosemide\n",
      "Furosemide\n",
      "Gabapentin\n",
      "Gabapentin\n",
      "Gabapentin\n",
      "Glipizide\n",
      "Glyburide\n",
      "Hydrochlorothiazide\n",
      "Ibuprofen (Rx)\n",
      "LevothyroxineSodium\n",
      "LevothyroxineSodium\n",
      "LevothyroxineSodium\n",
      "Lisinopril\n",
      "Metformin HCl\n",
      "Metformin HCl\n",
      "Metformin HCl\n",
      "Methylprednisolone\n",
      "Metoprolol Succinate\n",
      "Metoprolol Succinatee\n",
      "Metoprolol Tartrate \n",
      "Metoprolol Tartrate \n",
      "Namenda\n",
      "Namenda\n",
      "Nasonex\n",
      "Nexium\n",
      "Nexium\n",
      "Oxycodone HCl\n",
      "Pantoprazole Sodium\n",
      "Penicillin VK\n",
      "Potassium Chloride\n",
      "Prednisone\n",
      "Premarin\n",
      "Premarin\n",
      "Promethazine HCl\n",
      "Seroquel\n",
      "Simvastatin\n",
      "Simvastatin\n",
      "Simvastatin\n",
      "Simvastatin\n",
      "Suboxone\n",
      "Suboxone\n",
      "Sulfamethoxazole/Trimethoprim\n",
      "Tamsulosin HCl\n",
      "Tramadol HCl\n",
      "Triamterene/Hydrochlorothiazide\n",
      "Triamterene/Hydrochlorothiazide\n",
      "Tricor\n",
      "Venlafaxine HCl ER\n",
      "Viagra\n",
      "Vyvanse\n",
      "Warfarin Sodium\n",
      "Zetia\n",
      "Zolpidem Tartrate\n",
      "drug\n"
     ]
    }
   ],
   "source": [
    "%%bash\n",
    "#cut -d, -f3 data/pacientes.txt | sort | uniq\n",
    "cut -d, -f3 data/pacientes.txt | uniq | sort"
   ]
  },
  {
   "cell_type": "markdown",
   "metadata": {},
   "source": [
    "A continuación se extrae el nombre y cuenta de cada paciente:"
   ]
  },
  {
   "cell_type": "code",
   "execution_count": 21,
   "metadata": {},
   "outputs": [
    {
     "name": "stdout",
     "output_type": "stream",
     "text": [
      "fullname;bill\n",
      "Bert Joyner;43908\n",
      "Igor Yates;43682\n",
      "Christian Savage;13601\n",
      "Zia Hooper;59905\n"
     ]
    }
   ],
   "source": [
    "%%bash\n",
    "awk -F',' '{print $1 \";\" $7}' data/pacientes.txt | head -n5"
   ]
  },
  {
   "cell_type": "code",
   "execution_count": 22,
   "metadata": {},
   "outputs": [
    {
     "name": "stdout",
     "output_type": "stream",
     "text": [
      "Boris Strong,tincidunt.dui.augue@ProinmiAliquam.edu,Promethazine HCl,16511224-2796,2006-10-06T14:05:18-07:00,Beaumaris,74102\n",
      "Tallulah Cain,a.auctor@Donec.org,Metformin HCl,16150821-4358,1978-11-30T04:17:15-08:00,Verres,80813\n",
      "Wesley Head,et@Donectempor.edu,Metformin HCl,16070604-4211,1995-10-28T11:46:15-07:00,Moradabad,89326\n",
      "Ursa Peters,netus@amet.edu,Amoxicillin,16820919-0126,2014-09-30T12:56:49-07:00,Innisfail,72497\n",
      "Oprah Larsen,eu@nonenimcommodo.org,Bystolic,16520726-8474,1998-03-28T02:09:21-08:00,Sierning,90019\n",
      "Wynne Roberts,ultricies@vitaepurusgravida.edu,Fluoxetine HCl,16800807-0743,1986-12-29T11:42:59-08:00,Rosolini,99116\n",
      "Austin Larsen,augue@pharetraNamac.edu,Diazepam,16371001-0707,2002-11-08T16:31:56-08:00,Deutschkreutz,94057\n",
      "Paula Carlson,sed@vitaerisus.edu,Cephalexin,16870516-8774,1994-11-19T22:07:26-08:00,Anzegem,76082\n",
      "Lael Mccullough,vitae.orci.Phasellus@feugiatnonlobortis.edu,Warfarin Sodium,16270413-2154,2014-11-17T02:09:20-08:00,Rae Lakes,72754\n"
     ]
    }
   ],
   "source": [
    "%%bash \n",
    "awk '/\\.(org|edu)/' data/pacientes.txt| awk -F',' '$7 > 70000'"
   ]
  },
  {
   "cell_type": "code",
   "execution_count": 48,
   "metadata": {},
   "outputs": [
    {
     "name": "stdout",
     "output_type": "stream",
     "text": [
      "Eugenia Kent,lorem.eu@tellusimperdietnon.net,Doxycycline Hyclate,16830901-5439,19WARNINGT19:40:49-07:00,Worcester,33659\n",
      "Elvis Mitchell,rutrum@malesuada.net,Ibuprofen (Rx),16490829-6298,20WARNINGT13:07:08-07:00,Chiusanico,0743\n",
      "Hiram Weber,mi@blanditmattisCras.ca,Fluconazole,16540129-5158,20WARNINGT12:18:23-08:00,Schwedt,43796\n",
      "Piper Livingston,amet.consectetuer.adipiscing@orciluctuset.net,Furosemide,16580409-6120,20WARNINGT12:00:36-07:00,Des Moines,19273\n",
      "Camden Hernandez,Etiam.vestibulum@luctusipsum.edu,Nexium,16480115-5120,20WARNINGT05:03:22-08:00,Orbais,28980\n",
      "Patrick Kidd,nisl.sem@vitaesemper.co.uk,Venlafaxine HCl ER,16220612-8023,20WARNINGT09:55:25-08:00,Jammu,23846\n",
      "Aileen Sutton,auctor@ipsum.edu,Lisinopril,16140923-2384,20WARNINGT19:12:04-07:00,Sibret,4729\n"
     ]
    }
   ],
   "source": [
    "%%bash\n",
    "tail -n +95  data/pacientes.txt | awk '{gsub(/([0-9].)-([0-9].)-([0-9].)/, \"WARNING\"); print}' "
   ]
  },
  {
   "cell_type": "code",
   "execution_count": 49,
   "metadata": {},
   "outputs": [
    {
     "name": "stdout",
     "output_type": "stream",
     "text": [
      "WARNING\n",
      "WARNING\n",
      "WARNING\n",
      "WARNING\n",
      "WARNING\n",
      "WARNING\n",
      "WARNING\n"
     ]
    }
   ],
   "source": [
    "%%bash\n",
    "tail -n +95  data/pacientes.txt | awk '{gsub(/.*/, \"WARNING\"); print}' "
   ]
  },
  {
   "cell_type": "code",
   "execution_count": 51,
   "metadata": {},
   "outputs": [
    {
     "name": "stdout",
     "output_type": "stream",
     "text": [
      "WARNING\n",
      "WARNING\n",
      "WARNING\n",
      "WARNING\n",
      "WARNING\n",
      "WARNING\n",
      "WARNING\n"
     ]
    }
   ],
   "source": [
    "%%bash\n",
    "tail -n +95  data/pacientes.txt | awk '{gsub(/.+/, \"WARNING\"); print}' "
   ]
  },
  {
   "cell_type": "code",
   "execution_count": 52,
   "metadata": {},
   "outputs": [
    {
     "name": "stdout",
     "output_type": "stream",
     "text": [
      "Eugenia Kent,lorem.eu@tellusimperdietnon.net,Doxycycline Hyclate,16830901-5439,1976-06-21T19:40:49-07:00,Worcester,33659\n",
      "Elvis Mitchell,rutrum@malesuada.net,Ibuprofen (Rx),16490829-6298,2002-06-22T13:07:08-07:00,Chiusanico,0743\n",
      "Hiram Weber,mi@blanditmattisCras.ca,Fluconazole,16540129-5158,2012-11-08T12:18:23-08:00,Schwedt,43796\n",
      "Piper Livingston,amet.consectetuer.adipiscing@orciluctuset.net,Furosemide,16580409-6120,2017-09-27T12:00:36-07:00,Des Moines,19273\n",
      "Camden Hernandez,Etiam.vestibulum@luctusipsum.edu,Nexium,16480115-5120,2017-01-28T05:03:22-08:00,Orbais,28980\n",
      "Patrick WARNINGnisl.sem@vitaesemper.co.uk,Venlafaxine HCl ER,16220612-8023,2012-01-25T09:55:25-08:00,Jammu,23846\n",
      "Aileen Sutton,auctor@ipsum.edu,Lisinopril,16140923-2384,2015-07-02T19:12:04-07:00,Sibret,4729\n"
     ]
    }
   ],
   "source": [
    "%%bash\n",
    "tail -n +95  data/pacientes.txt | awk '{gsub(/(Kidd.)/, \"WARNING\"); print}' "
   ]
  },
  {
   "cell_type": "code",
   "execution_count": 53,
   "metadata": {},
   "outputs": [
    {
     "name": "stdout",
     "output_type": "stream",
     "text": [
      "Eugenia Kent,lorem.eu@tellusimperdietnon.net,Doxycycline Hyclate,WARNING,WARNING-21T19:40:WARNING:00,Worcester,33659\n",
      "Elvis Mitchell,rutrum@malesuada.net,Ibuprofen (Rx),WARNING,WARNING-22T13:07:WARNING:00,Chiusanico,0743\n",
      "Hiram Weber,mi@blanditmattisCras.ca,Fluconazole,WARNING,WARNING-08T12:18:WARNING:00,Schwedt,43796\n",
      "Piper Livingston,amet.consectetuer.adipiscing@orciluctuset.net,Furosemide,WARNING,WARNING-27T12:00:WARNING:00,Des Moines,19273\n",
      "Camden Hernandez,Etiam.vestibulum@luctusipsum.edu,Nexium,WARNING,WARNING-28T05:03:WARNING:00,Orbais,28980\n",
      "Patrick Kidd,nisl.sem@vitaesemper.co.uk,Venlafaxine HCl ER,WARNING,WARNING-25T09:55:WARNING:00,Jammu,23846\n",
      "Aileen Sutton,auctor@ipsum.edu,Lisinopril,WARNING,WARNING-02T19:12:WARNING:00,Sibret,4729\n"
     ]
    }
   ],
   "source": [
    "%%bash\n",
    "tail -n +95  data/pacientes.txt | awk '{gsub(/([0-9]+-[0-9]+)/, \"WARNING\"); print}' "
   ]
  },
  {
   "cell_type": "markdown",
   "metadata": {},
   "source": [
    "### 3. ¿Cómo consulto los datos?"
   ]
  },
  {
   "cell_type": "markdown",
   "metadata": {},
   "source": [
    "A través de `csvkit` es posible manejar archivos en estructura columnar como si estuviesen cargadas en una BD relacional"
   ]
  },
  {
   "cell_type": "code",
   "execution_count": 58,
   "metadata": {},
   "outputs": [
    {
     "name": "stdout",
     "output_type": "stream",
     "text": [
      "Collecting csvkit\n",
      "  Downloading csvkit-1.0.7-py2.py3-none-any.whl (42 kB)\n",
      "\u001b[K     |████████████████████████████████| 42 kB 1.3 MB/s eta 0:00:011\n",
      "\u001b[?25hCollecting agate-dbf>=0.2.2\n",
      "  Downloading agate_dbf-0.2.2-py2.py3-none-any.whl (3.5 kB)\n",
      "Requirement already satisfied: six>=1.6.1 in /Users/valentinavasquezhernandez/opt/anaconda3/lib/python3.8/site-packages (from csvkit) (1.15.0)\n",
      "Collecting agate>=1.6.1\n",
      "  Downloading agate-1.6.3-py2.py3-none-any.whl (100 kB)\n",
      "\u001b[K     |████████████████████████████████| 100 kB 701 kB/s ta 0:00:01\n",
      "\u001b[?25hCollecting agate-excel>=0.2.2\n",
      "  Downloading agate_excel-0.2.5-py2.py3-none-any.whl (7.1 kB)\n",
      "Collecting agate-sql>=0.5.3\n",
      "  Downloading agate_sql-0.5.8-py2.py3-none-any.whl (7.1 kB)\n",
      "Collecting dbfread>=2.0.5\n",
      "  Downloading dbfread-2.0.7-py2.py3-none-any.whl (20 kB)\n",
      "Collecting parsedatetime!=2.5,!=2.6,>=2.1\n",
      "  Downloading parsedatetime-2.4.tar.gz (58 kB)\n",
      "\u001b[K     |████████████████████████████████| 58 kB 5.2 MB/s eta 0:00:01\n",
      "\u001b[?25hRequirement already satisfied: Babel>=2.0 in /Users/valentinavasquezhernandez/opt/anaconda3/lib/python3.8/site-packages (from agate>=1.6.1->csvkit) (2.8.1)\n",
      "Collecting python-slugify>=1.2.1\n",
      "  Downloading python_slugify-6.1.2-py2.py3-none-any.whl (9.4 kB)\n",
      "Collecting leather>=0.3.2\n",
      "  Downloading leather-0.3.4-py2.py3-none-any.whl (31 kB)\n",
      "Collecting pytimeparse>=1.1.5\n",
      "  Downloading pytimeparse-1.1.8-py2.py3-none-any.whl (10.0 kB)\n",
      "Collecting isodate>=0.5.4\n",
      "  Downloading isodate-0.6.1-py2.py3-none-any.whl (41 kB)\n",
      "\u001b[K     |████████████████████████████████| 41 kB 1.7 MB/s eta 0:00:01\n",
      "\u001b[?25hRequirement already satisfied: olefile in /Users/valentinavasquezhernandez/opt/anaconda3/lib/python3.8/site-packages (from agate-excel>=0.2.2->csvkit) (0.46)\n",
      "Requirement already satisfied: openpyxl>=2.3.0 in /Users/valentinavasquezhernandez/opt/anaconda3/lib/python3.8/site-packages (from agate-excel>=0.2.2->csvkit) (3.0.5)\n",
      "Requirement already satisfied: xlrd>=0.9.4 in /Users/valentinavasquezhernandez/opt/anaconda3/lib/python3.8/site-packages (from agate-excel>=0.2.2->csvkit) (1.2.0)\n",
      "Requirement already satisfied: sqlalchemy>=1.0.8 in /Users/valentinavasquezhernandez/opt/anaconda3/lib/python3.8/site-packages (from agate-sql>=0.5.3->csvkit) (1.3.20)\n",
      "Requirement already satisfied: future in /Users/valentinavasquezhernandez/opt/anaconda3/lib/python3.8/site-packages (from parsedatetime!=2.5,!=2.6,>=2.1->agate>=1.6.1->csvkit) (0.18.2)\n",
      "Requirement already satisfied: pytz>=2015.7 in /Users/valentinavasquezhernandez/opt/anaconda3/lib/python3.8/site-packages (from Babel>=2.0->agate>=1.6.1->csvkit) (2020.1)\n",
      "Collecting text-unidecode>=1.3\n",
      "  Downloading text_unidecode-1.3-py2.py3-none-any.whl (78 kB)\n",
      "\u001b[K     |████████████████████████████████| 78 kB 10.3 MB/s eta 0:00:01\n",
      "\u001b[?25hRequirement already satisfied: et-xmlfile in /Users/valentinavasquezhernandez/opt/anaconda3/lib/python3.8/site-packages (from openpyxl>=2.3.0->agate-excel>=0.2.2->csvkit) (1.0.1)\n",
      "Requirement already satisfied: jdcal in /Users/valentinavasquezhernandez/opt/anaconda3/lib/python3.8/site-packages (from openpyxl>=2.3.0->agate-excel>=0.2.2->csvkit) (1.4.1)\n",
      "Building wheels for collected packages: parsedatetime\n",
      "  Building wheel for parsedatetime (setup.py) ... \u001b[?25ldone\n",
      "\u001b[?25h  Created wheel for parsedatetime: filename=parsedatetime-2.4-py3-none-any.whl size=42746 sha256=bdcd99d5222434d8398e6e3ff87e20a0a198b843adca29a2dac9ff9fcf4255c7\n",
      "  Stored in directory: /Users/valentinavasquezhernandez/Library/Caches/pip/wheels/e5/2b/42/2b5388ce43276783c42176a76229c21f74e4433a8e2a0daae6\n",
      "Successfully built parsedatetime\n",
      "Installing collected packages: parsedatetime, text-unidecode, python-slugify, leather, pytimeparse, isodate, agate, dbfread, agate-dbf, agate-excel, agate-sql, csvkit\n",
      "Successfully installed agate-1.6.3 agate-dbf-0.2.2 agate-excel-0.2.5 agate-sql-0.5.8 csvkit-1.0.7 dbfread-2.0.7 isodate-0.6.1 leather-0.3.4 parsedatetime-2.4 python-slugify-6.1.2 pytimeparse-1.1.8 text-unidecode-1.3\n"
     ]
    }
   ],
   "source": [
    "!pip install csvkit"
   ]
  },
  {
   "cell_type": "code",
   "execution_count": 61,
   "metadata": {},
   "outputs": [
    {
     "name": "stdout",
     "output_type": "stream",
     "text": [
      "| fullname         | email                                    | drug                 | phone         |                 birthdate | city         |   bill |\n",
      "| ---------------- | ---------------------------------------- | -------------------- | ------------- | ------------------------- | ------------ | ------ |\n",
      "| Bert Joyner      | Sed@eratsemperrutrum.com                 | Premarin             | 16110619-8573 | 2000-07-11 08:57:17-07:00 | Haasdonk     | 43,908 |\n",
      "| Igor Yates       | urna.Nullam.lobortis@lectusquismassa.edu | Namenda              | 16640818-9113 | 1985-02-24 02:13:13-08:00 | Wilmont      | 43,682 |\n",
      "| Christian Savage | imperdiet@at.org                         | Amlodipine Besylate  | 16610609-4276 | 1984-03-05 20:51:57-08:00 | Pamplona     | 13,601 |\n",
      "| Zia Hooper       | sem.Pellentesque.ut@molestiedapibus.org  | Metoprolol Tartrate  | 16060507-3121 | 2009-12-27 13:06:26-08:00 | Oostende     | 59,905 |\n",
      "| Colette Mcclain  | egestas@Etiamgravida.org                 | Folic Acid           | 16340721-4661 | 1986-06-30 05:23:50-07:00 | Saumur       | 57,966 |\n",
      "| Boris Strong     | tincidunt.dui.augue@ProinmiAliquam.edu   | Promethazine HCl     | 16511224-2796 | 2006-10-06 14:05:18-07:00 | Beaumaris    | 74,102 |\n",
      "| Tallulah Cain    | a.auctor@Donec.org                       | Metformin HCl        | 16150821-4358 | 1978-11-30 04:17:15-08:00 | Verres       | 80,813 |\n",
      "| Lucy Snow        | Aliquam@Mauris.net                       | Metoprolol Succinate | 16920126-8985 | 2007-12-08 06:42:00-08:00 | Villa Latina |  2,842 |\n",
      "| Jasmine Curtis   | sapien@sit.edu                           | Amlodipine Besylate  | 16930312-2726 | 2007-10-07 22:27:34-07:00 | Chilliwack   | 68,878 |\n"
     ]
    },
    {
     "name": "stderr",
     "output_type": "stream",
     "text": [
      "/Users/valentinavasquezhernandez/opt/anaconda3/lib/python3.8/site-packages/agate/table/from_csv.py:74: RuntimeWarning: Error sniffing CSV dialect: Could not determine delimiter\n"
     ]
    }
   ],
   "source": [
    "%%bash\n",
    "head data/pacientes.txt | csvlook "
   ]
  },
  {
   "cell_type": "code",
   "execution_count": 64,
   "metadata": {},
   "outputs": [
    {
     "name": "stdout",
     "output_type": "stream",
     "text": [
      "email,birthdate,city\n",
      "Sed@eratsemperrutrum.com,2000-07-11T08:57:17-07:00,Haasdonk\n",
      "urna.Nullam.lobortis@lectusquismassa.edu,1985-02-24T02:13:13-08:00,Wilmont\n",
      "imperdiet@at.org,1984-03-05T20:51:57-08:00,Pamplona\n",
      "sem.Pellentesque.ut@molestiedapibus.org,2009-12-27T13:06:26-08:00,Oostende\n",
      "egestas@Etiamgravida.org,1986-06-30T05:23:50-07:00,Saumur\n",
      "tincidunt.dui.augue@ProinmiAliquam.edu,2006-10-06T14:05:18-07:00,Beaumaris\n",
      "a.auctor@Donec.org,1978-11-30T04:17:15-08:00,Verres\n",
      "Aliquam@Mauris.net,2007-12-08T06:42:00-08:00,Villa Latina\n",
      "sapien@sit.edu,2007-10-07T22:27:34-07:00,Chilliwack\n"
     ]
    }
   ],
   "source": [
    "%%bash\n",
    "head data/pacientes.txt | csvcut -c 2,5,6"
   ]
  },
  {
   "cell_type": "markdown",
   "metadata": {},
   "source": [
    "---"
   ]
  }
 ],
 "metadata": {
  "kernelspec": {
   "display_name": "Python 3",
   "language": "python",
   "name": "python3"
  },
  "language_info": {
   "codemirror_mode": {
    "name": "ipython",
    "version": 3
   },
   "file_extension": ".py",
   "mimetype": "text/x-python",
   "name": "python",
   "nbconvert_exporter": "python",
   "pygments_lexer": "ipython3",
   "version": "3.8.5"
  }
 },
 "nbformat": 4,
 "nbformat_minor": 5
}
