{
 "cells": [
  {
   "cell_type": "markdown",
   "id": "6e36dbf9-bc65-42a2-8682-ed38fe6de8f1",
   "metadata": {
    "tags": []
   },
   "source": [
    "## Intro Linux: Manejo de archivos planos\n",
    "---"
   ]
  },
  {
   "cell_type": "markdown",
   "id": "32afd4dc-294e-4f97-9a03-a2d2dfabba84",
   "metadata": {
    "tags": []
   },
   "source": [
    "## Analítica de Grandes Datos\n",
    "* ##### Facultad de Minas\n",
    "* ##### Universidad Nacional de Colombia\n",
    "* ##### Autor: Valentina Vásquez Hernandez"
   ]
  },
  {
   "cell_type": "markdown",
   "id": "86bb679c-265b-4002-9e1d-4e7335bc910b",
   "metadata": {},
   "source": [
    "<img src=\"memes/meme2.png\" alt=\"drawing\" width=\"300\"/>"
   ]
  },
  {
   "cell_type": "markdown",
   "id": "4c266e7d-191d-4ee4-9308-5ff2f9d8ab95",
   "metadata": {},
   "source": [
    "---"
   ]
  },
  {
   "cell_type": "markdown",
   "id": "b6773e0a-7ccc-4761-87fd-35a446670bd1",
   "metadata": {
    "tags": []
   },
   "source": [
    "### 1. ¿Cómo obtengo datos?"
   ]
  },
  {
   "cell_type": "markdown",
   "id": "08c57e12-bb1f-4881-bf83-70c7bc323055",
   "metadata": {},
   "source": [
    "Existen distintos metodos para ingresar datos y almacenarlos en BASH:\n",
    "\n",
    "* `wget`: este comando permite realizar request a una página web y retornar el resultado.\n",
    "* `echo`: este comando permite ingresar los datos directamente en la consola a través de un string y asignarlo a una variable o archivo.\n",
    "* `archivo`: los archivos de texto plano locales en BASH se toman como un objeto operable desde el pipeline. Esta es la opción que mas se utiliza en el curso. "
   ]
  },
  {
   "cell_type": "code",
   "execution_count": 1,
   "id": "59da54c5-fdad-467d-bd76-8124ef7bfbcd",
   "metadata": {},
   "outputs": [
    {
     "name": "stdout",
     "output_type": "stream",
     "text": [
      "total 12\n",
      "-rw-rw-r-- 1 root root 11322 May 18 11:23 pacientes.txt\n"
     ]
    }
   ],
   "source": [
    "%%bash\n",
    "cd data\n",
    "ls -l "
   ]
  },
  {
   "cell_type": "code",
   "execution_count": 2,
   "id": "8dd5cb40-6534-4a15-af6d-7c7e6d29d295",
   "metadata": {},
   "outputs": [
    {
     "name": "stdout",
     "output_type": "stream",
     "text": [
      "fullname,email,drug,phone,birthdate,city,bill\n",
      "Bert Joyner,Sed@eratsemperrutrum.com,Premarin,16110619-8573,2000-07-11T08:57:17-07:00,Haasdonk,43908\n",
      "Igor Yates,urna.Nullam.lobortis@lectusquismassa.edu,Namenda,16640818-9113,1985-02-24T02:13:13-08:00,Wilmont,43682\n",
      "Christian Savage,imperdiet@at.org,Amlodipine Besylate,16610609-4276,1984-03-05T20:51:57-08:00,Pamplona,13601\n",
      "Zia Hooper,sem.Pellentesque.ut@molestiedapibus.org,Metoprolol Tartrate ,16060507-3121,2009-12-27T13:06:26-08:00,Oostende,59905\n",
      "Colette Mcclain,egestas@Etiamgravida.org,Folic Acid,16340721-4661,1986-06-30T05:23:50-07:00,Saumur,57966\n",
      "Boris Strong,tincidunt.dui.augue@ProinmiAliquam.edu,Promethazine HCl,16511224-2796,2006-10-06T14:05:18-07:00,Beaumaris,74102\n",
      "Tallulah Cain,a.auctor@Donec.org,Metformin HCl,16150821-4358,1978-11-30T04:17:15-08:00,Verres,80813\n",
      "Lucy Snow,Aliquam@Mauris.net,Metoprolol Succinate,16920126-8985,2007-12-08T06:42:00-08:00,Villa Latina,2842\n",
      "Jasmine Curtis,sapien@sit.edu,Amlodipine Besylate,16930312-2726,2007-10-07T22:27:34-07:00,Chilliwack,68878\n"
     ]
    }
   ],
   "source": [
    "%%bash\n",
    "cd data\n",
    "head pacientes.txt"
   ]
  },
  {
   "cell_type": "code",
   "execution_count": 3,
   "id": "b2c7a7a5-c0d1-49ee-a486-8788d642fbb5",
   "metadata": {},
   "outputs": [
    {
     "name": "stdout",
     "output_type": "stream",
     "text": [
      "Kessie Hampton,adipiscing.fringilla.porttitor@inhendrerit.com,Fluoxetine HCl,16161110-7218,1997-04-20T17:53:53-07:00,Saumur,65120\n",
      "Russell Velasquez,massa@atarcu.co.uk,Simvastatin,16860116-2715,2012-03-21T12:12:25-07:00,Essene,73506\n",
      "Lael Mccullough,vitae.orci.Phasellus@feugiatnonlobortis.edu,Warfarin Sodium,16270413-2154,2014-11-17T02:09:20-08:00,Rae Lakes,72754\n",
      "Eugenia Kent,lorem.eu@tellusimperdietnon.net,Doxycycline Hyclate,16830901-5439,1976-06-21T19:40:49-07:00,Worcester,33659\n",
      "Elvis Mitchell,rutrum@malesuada.net,Ibuprofen (Rx),16490829-6298,2002-06-22T13:07:08-07:00,Chiusanico,0743\n",
      "Hiram Weber,mi@blanditmattisCras.ca,Fluconazole,16540129-5158,2012-11-08T12:18:23-08:00,Schwedt,43796\n",
      "Piper Livingston,amet.consectetuer.adipiscing@orciluctuset.net,Furosemide,16580409-6120,2017-09-27T12:00:36-07:00,Des Moines,19273\n",
      "Camden Hernandez,Etiam.vestibulum@luctusipsum.edu,Nexium,16480115-5120,2017-01-28T05:03:22-08:00,Orbais,28980\n",
      "Patrick Kidd,nisl.sem@vitaesemper.co.uk,Venlafaxine HCl ER,16220612-8023,2012-01-25T09:55:25-08:00,Jammu,23846\n",
      "Aileen Sutton,auctor@ipsum.edu,Lisinopril,16140923-2384,2015-07-02T19:12:04-07:00,Sibret,4729"
     ]
    }
   ],
   "source": [
    "%%bash\n",
    "tail data/pacientes.txt"
   ]
  },
  {
   "cell_type": "markdown",
   "id": "f7f108cb-d3db-4b37-a8c5-e677d9a7d954",
   "metadata": {},
   "source": [
    "Con los comandos `mkdir`, `rmdir` y `mv` es posible crear y modificar directorios. A continuación se crea el directorio `data_muestra`:"
   ]
  },
  {
   "cell_type": "code",
   "execution_count": 4,
   "id": "442a43aa-51a1-4b16-b419-f91588d13580",
   "metadata": {},
   "outputs": [
    {
     "name": "stdout",
     "output_type": "stream",
     "text": [
      "/workspace/Desktop/Maestría Ingeniería - Analítica/2022-01_Monitoria_AnaliticaGrandesDatos/Taller_1_IntroLinux/data_muestra\n"
     ]
    }
   ],
   "source": [
    "%%bash\n",
    "mkdir data_muestra \n",
    "cd data_muestra\n",
    "pwd"
   ]
  },
  {
   "cell_type": "markdown",
   "id": "a421ee5a-7bcc-419c-8a85-db34090f4870",
   "metadata": {},
   "source": [
    "Con los comandos `cp` y `rm` es posible copiar y eliminar archivos. A continuación se copia el archivo `pacientes.txt` y se ubica en el nuevo directorio: "
   ]
  },
  {
   "cell_type": "code",
   "execution_count": 5,
   "id": "b186389f-9628-47e7-bb0f-2da90811f151",
   "metadata": {},
   "outputs": [],
   "source": [
    "%%bash\n",
    "cp data/pacientes.txt data_muestra/pacientes.txt"
   ]
  },
  {
   "cell_type": "markdown",
   "id": "16ca1470-9724-4450-b239-df30d13b7403",
   "metadata": {},
   "source": [
    "A continuación se genera una muestra del archivo `pacientes.txt` y se crear un nuevo archivo: "
   ]
  },
  {
   "cell_type": "code",
   "execution_count": 6,
   "id": "df8aecc4-619f-44c4-9feb-3297374baaed",
   "metadata": {},
   "outputs": [],
   "source": [
    "%%bash\n",
    "awk '(NR >= 10) && (NR <= 20) {print $0}' data/pacientes.txt > data_muestra/pacientes_muestra.txt"
   ]
  },
  {
   "cell_type": "code",
   "execution_count": 7,
   "id": "e4ee70ef-72a7-4c6c-bf52-5d7572cdd63f",
   "metadata": {},
   "outputs": [
    {
     "name": "stdout",
     "output_type": "stream",
     "text": [
      "Jasmine Curtis,sapien@sit.edu,Amlodipine Besylate,16930312-2726,2007-10-07T22:27:34-07:00,Chilliwack,68878\n",
      "Grace Campbell,Aenean.sed.pede@velitduisemper.co.uk,Ciprofloxacin HCl,16730316-3005,1987-03-05T19:11:56-08:00,Vancouver,62013\n",
      "Lamar Shields,pharetra.nibh@Vivamus.co.uk,Glyburide,16790801-5808,2015-03-12T01:18:20-07:00,Geraldton-Greenough,95639\n",
      "Yeo Lara,a.aliquet@utdolor.org,LevothyroxineSodium,16160101-5546,2005-06-17T11:09:41-07:00,Lingen,31825\n",
      "Buffy Hughes,Etiam.vestibulum@lacus.co.uk,Pantoprazole Sodium,16800427-1584,1984-06-10T11:39:05-07:00,Pieve di Cadore,38209\n",
      "Naida Dalton,tincidunt.nibh.Phasellus@Duisrisusodio.edu,Pantoprazole Sodium,16141211-9834,2001-07-30T21:13:45-07:00,Dunbar,5020\n",
      "Caldwell Mccarthy,nisi.sem.semper@mattissemperdui.net,Tramadol HCl,16761212-6529,1992-03-21T09:30:19-08:00,Sannazzaro de' Burgondi,45331\n",
      "Byron Kirby,nascetur.ridiculus@ridiculus.com,Vyvanse,16820925-0227,2006-07-28T13:43:59-07:00,LaSalle,43618\n",
      "Elijah Garcia,eu@nibhDonec.com,Bystolic,16520629-0032,2009-12-17T11:34:59-08:00,Pitlochry,27455\n",
      "Nash Stanley,adipiscing.fringilla@Duisvolutpatnunc.net,Azithromycin,16660207-8831,1998-11-19T04:26:17-08:00,Porpetto,44955\n",
      "Blaze Fitzpatrick,nulla.ante@enim.net,Sulfamethoxazole/Trimethoprim,16180402-4337,1993-04-23T05:22:07-07:00,Valera Fratta,37243\n"
     ]
    }
   ],
   "source": [
    "%%bash\n",
    "cat data_muestra/pacientes_muestra.txt"
   ]
  },
  {
   "cell_type": "markdown",
   "id": "67d5cc0c-4fd5-408c-82ec-80c5dcb635ff",
   "metadata": {},
   "source": [
    "A continuación se agregan dos lineas el archivo `pacientes_muestra.txt`:"
   ]
  },
  {
   "cell_type": "code",
   "execution_count": 8,
   "id": "51314fc7-d511-42d8-a775-a4ec96674c93",
   "metadata": {},
   "outputs": [
    {
     "name": "stdout",
     "output_type": "stream",
     "text": [
      "fullname,email,drug,phone,birthdate,city,bill\n",
      "Bert Joyner,Sed@eratsemperrutrum.com,Premarin,16110619-8573,2000-07-11T08:57:17-07:00,Haasdonk,43908\n"
     ]
    }
   ],
   "source": [
    "%%bash\n",
    "head -n +2 data/pacientes.txt"
   ]
  },
  {
   "cell_type": "code",
   "execution_count": 9,
   "id": "55c40f30-6003-4717-a0cb-f4aa3f117ced",
   "metadata": {},
   "outputs": [
    {
     "name": "stdout",
     "output_type": "stream",
     "text": [
      "Yeo Lara,a.aliquet@utdolor.org,LevothyroxineSodium,16160101-5546,2005-06-17T11:09:41-07:00,Lingen,31825\n",
      "Buffy Hughes,Etiam.vestibulum@lacus.co.uk,Pantoprazole Sodium,16800427-1584,1984-06-10T11:39:05-07:00,Pieve di Cadore,38209\n",
      "Naida Dalton,tincidunt.nibh.Phasellus@Duisrisusodio.edu,Pantoprazole Sodium,16141211-9834,2001-07-30T21:13:45-07:00,Dunbar,5020\n",
      "Caldwell Mccarthy,nisi.sem.semper@mattissemperdui.net,Tramadol HCl,16761212-6529,1992-03-21T09:30:19-08:00,Sannazzaro de' Burgondi,45331\n",
      "Byron Kirby,nascetur.ridiculus@ridiculus.com,Vyvanse,16820925-0227,2006-07-28T13:43:59-07:00,LaSalle,43618\n",
      "Elijah Garcia,eu@nibhDonec.com,Bystolic,16520629-0032,2009-12-17T11:34:59-08:00,Pitlochry,27455\n",
      "Nash Stanley,adipiscing.fringilla@Duisvolutpatnunc.net,Azithromycin,16660207-8831,1998-11-19T04:26:17-08:00,Porpetto,44955\n",
      "Blaze Fitzpatrick,nulla.ante@enim.net,Sulfamethoxazole/Trimethoprim,16180402-4337,1993-04-23T05:22:07-07:00,Valera Fratta,37243\n",
      "fullname,email,drug,phone,birthdate,city,bill\n",
      "Bert Joyner,Sed@eratsemperrutrum.com,Premarin,16110619-8573,2000-07-11T08:57:17-07:00,Haasdonk,43908\n"
     ]
    }
   ],
   "source": [
    "%%bash\n",
    "head -n +2 data/pacientes.txt >> data_muestra/pacientes_muestra.txt\n",
    "tail data_muestra/pacientes_muestra.txt"
   ]
  },
  {
   "cell_type": "markdown",
   "id": "24d6f382-a5ca-46f2-bff6-392813147d34",
   "metadata": {},
   "source": [
    "A continuación se eliminar el directorio `data_muestra` con todos los archivos que contenga:"
   ]
  },
  {
   "cell_type": "code",
   "execution_count": 10,
   "id": "e6312e39-9c4b-484b-aae6-5af667b31916",
   "metadata": {},
   "outputs": [],
   "source": [
    "%%bash\n",
    "rm -rf data_muestra"
   ]
  },
  {
   "cell_type": "markdown",
   "id": "7d26b0e0-c28f-474a-8562-761049a131c9",
   "metadata": {},
   "source": [
    "### 2. ¿Cómo proceso los datos?"
   ]
  },
  {
   "cell_type": "markdown",
   "id": "96d757ca-f656-4b47-bcfc-634cbeeb7256",
   "metadata": {},
   "source": [
    "Los comandos `wc`, `grep` y `cut` permiten realizar operaciones basicas sobre los archivos de texto."
   ]
  },
  {
   "cell_type": "code",
   "execution_count": 11,
   "id": "e2a526b8-2f0a-4680-be31-012e0cecc056",
   "metadata": {},
   "outputs": [
    {
     "name": "stdout",
     "output_type": "stream",
     "text": [
      "100 data/pacientes.txt\n"
     ]
    }
   ],
   "source": [
    "%%bash\n",
    "wc -l data/pacientes.txt"
   ]
  },
  {
   "cell_type": "code",
   "execution_count": 12,
   "id": "37d14ce3-6423-4fda-8461-72ab65897153",
   "metadata": {},
   "outputs": [
    {
     "name": "stdout",
     "output_type": "stream",
     "text": [
      "11314 data/pacientes.txt\n"
     ]
    }
   ],
   "source": [
    "%%bash\n",
    "wc -m data/pacientes.txt"
   ]
  },
  {
   "cell_type": "code",
   "execution_count": 13,
   "id": "71084e12-c22d-4724-8f19-3b9985c709f7",
   "metadata": {},
   "outputs": [
    {
     "name": "stdout",
     "output_type": "stream",
     "text": [
      "266 data/pacientes.txt\n"
     ]
    }
   ],
   "source": [
    "%%bash\n",
    "wc -w data/pacientes.txt"
   ]
  },
  {
   "cell_type": "markdown",
   "id": "f10ff955-cf23-4bf3-bc75-df845096b3c7",
   "metadata": {},
   "source": [
    "A continuación se extraen todos los pacientes cuya droga contiene la palabra Metropolol:"
   ]
  },
  {
   "cell_type": "code",
   "execution_count": 14,
   "id": "bb8b4d5d-5b85-47bd-83c6-6e88a9f30d7b",
   "metadata": {},
   "outputs": [
    {
     "name": "stdout",
     "output_type": "stream",
     "text": [
      "drug\n",
      "Premarin\n",
      "Namenda\n",
      "Amlodipine Besylate\n",
      "Metoprolol Tartrate \n"
     ]
    }
   ],
   "source": [
    "%%bash\n",
    "cut -d, -f3 data/pacientes.txt | head -n5"
   ]
  },
  {
   "cell_type": "code",
   "execution_count": 15,
   "id": "7073cac6-e96d-4441-af9a-55ed65c58e79",
   "metadata": {},
   "outputs": [
    {
     "name": "stdout",
     "output_type": "stream",
     "text": [
      "5:Metoprolol Tartrate \n",
      "9:Metoprolol Succinate\n",
      "48:Metoprolol Succinatee\n",
      "86:Metoprolol Tartrate \n"
     ]
    }
   ],
   "source": [
    "%%bash\n",
    "cut -d, -f3 data/pacientes.txt | grep -n --color Metoprolol  #la opcion -n muestra el número de la linea y --color señala la busqueda."
   ]
  },
  {
   "cell_type": "code",
   "execution_count": 16,
   "id": "92a53e22-e615-420a-b020-70e3fc98aac5",
   "metadata": {},
   "outputs": [
    {
     "name": "stdout",
     "output_type": "stream",
     "text": [
      "Usage: grep [OPTION]... PATTERNS [FILE]...\n",
      "Search for PATTERNS in each FILE.\n",
      "Example: grep -i 'hello world' menu.h main.c\n",
      "PATTERNS can contain multiple patterns separated by newlines.\n",
      "\n",
      "Pattern selection and interpretation:\n",
      "  -E, --extended-regexp     PATTERNS are extended regular expressions\n",
      "  -F, --fixed-strings       PATTERNS are strings\n",
      "  -G, --basic-regexp        PATTERNS are basic regular expressions\n",
      "  -P, --perl-regexp         PATTERNS are Perl regular expressions\n",
      "  -e, --regexp=PATTERNS     use PATTERNS for matching\n",
      "  -f, --file=FILE           take PATTERNS from FILE\n",
      "  -i, --ignore-case         ignore case distinctions in patterns and data\n",
      "      --no-ignore-case      do not ignore case distinctions (default)\n",
      "  -w, --word-regexp         match only whole words\n",
      "  -x, --line-regexp         match only whole lines\n",
      "  -z, --null-data           a data line ends in 0 byte, not newline\n",
      "\n",
      "Miscellaneous:\n",
      "  -s, --no-messages         suppress error messages\n",
      "  -v, --invert-match        select non-matching lines\n",
      "  -V, --version             display version information and exit\n",
      "      --help                display this help text and exit\n",
      "\n",
      "Output control:\n",
      "  -m, --max-count=NUM       stop after NUM selected lines\n",
      "  -b, --byte-offset         print the byte offset with output lines\n",
      "  -n, --line-number         print line number with output lines\n",
      "      --line-buffered       flush output on every line\n",
      "  -H, --with-filename       print file name with output lines\n",
      "  -h, --no-filename         suppress the file name prefix on output\n",
      "      --label=LABEL         use LABEL as the standard input file name prefix\n",
      "  -o, --only-matching       show only nonempty parts of lines that match\n",
      "  -q, --quiet, --silent     suppress all normal output\n",
      "      --binary-files=TYPE   assume that binary files are TYPE;\n",
      "                            TYPE is 'binary', 'text', or 'without-match'\n",
      "  -a, --text                equivalent to --binary-files=text\n",
      "  -I                        equivalent to --binary-files=without-match\n",
      "  -d, --directories=ACTION  how to handle directories;\n",
      "                            ACTION is 'read', 'recurse', or 'skip'\n",
      "  -D, --devices=ACTION      how to handle devices, FIFOs and sockets;\n",
      "                            ACTION is 'read' or 'skip'\n",
      "  -r, --recursive           like --directories=recurse\n",
      "  -R, --dereference-recursive  likewise, but follow all symlinks\n",
      "      --include=GLOB        search only files that match GLOB (a file pattern)\n",
      "      --exclude=GLOB        skip files that match GLOB\n",
      "      --exclude-from=FILE   skip files that match any file pattern from FILE\n",
      "      --exclude-dir=GLOB    skip directories that match GLOB\n",
      "  -L, --files-without-match  print only names of FILEs with no selected lines\n",
      "  -l, --files-with-matches  print only names of FILEs with selected lines\n",
      "  -c, --count               print only a count of selected lines per FILE\n",
      "  -T, --initial-tab         make tabs line up (if needed)\n",
      "  -Z, --null                print 0 byte after FILE name\n",
      "\n",
      "Context control:\n",
      "  -B, --before-context=NUM  print NUM lines of leading context\n",
      "  -A, --after-context=NUM   print NUM lines of trailing context\n",
      "  -C, --context=NUM         print NUM lines of output context\n",
      "  -NUM                      same as --context=NUM\n",
      "      --color[=WHEN],\n",
      "      --colour[=WHEN]       use markers to highlight the matching strings;\n",
      "                            WHEN is 'always', 'never', or 'auto'\n",
      "  -U, --binary              do not strip CR characters at EOL (MSDOS/Windows)\n",
      "\n",
      "When FILE is '-', read standard input.  With no FILE, read '.' if\n",
      "recursive, '-' otherwise.  With fewer than two FILEs, assume -h.\n",
      "Exit status is 0 if any line (or file if -L) is selected, 1 otherwise;\n",
      "if any error occurs and -q is not given, the exit status is 2.\n",
      "\n",
      "Report bugs to: bug-grep@gnu.org\n",
      "GNU grep home page: <http://www.gnu.org/software/grep/>\n",
      "General help using GNU software: <https://www.gnu.org/gethelp/>\n"
     ]
    }
   ],
   "source": [
    "%%bash \n",
    "grep --help"
   ]
  },
  {
   "cell_type": "code",
   "execution_count": 17,
   "id": "df5432a7-6cdd-4f4b-80b4-e6f9778111d6",
   "metadata": {},
   "outputs": [
    {
     "name": "stdout",
     "output_type": "stream",
     "text": [
      "4\n"
     ]
    }
   ],
   "source": [
    "%%bash\n",
    "grep -c 'Metoprolol' data/pacientes.txt #la opción -c muestra cuantas veces está la busqueda en el archivo."
   ]
  },
  {
   "cell_type": "code",
   "execution_count": 18,
   "id": "6b9a0567-4ed6-4253-a59c-39077c7345b2",
   "metadata": {},
   "outputs": [
    {
     "name": "stdout",
     "output_type": "stream",
     "text": [
      "Bert Joyner,Sed@eratsemperrutrum.com,Premarin,16110619-8573,2000-07-11T08:57:17-07:00,Haasdonk,43908\n"
     ]
    }
   ],
   "source": [
    "%%bash\n",
    "grep -E '^Bert' data/pacientes.txt "
   ]
  },
  {
   "cell_type": "markdown",
   "id": "7b4521a9-7946-459b-b616-8284281ff936",
   "metadata": {},
   "source": [
    "A continuación se reemplaza el separador en las primeras 10 lineas del archivo y se almacena en una variable:"
   ]
  },
  {
   "cell_type": "code",
   "execution_count": 19,
   "id": "e6af98d9-c847-452a-a185-4de229a8c4ee",
   "metadata": {},
   "outputs": [
    {
     "name": "stderr",
     "output_type": "stream",
     "text": [
      "shell-init: error retrieving current directory: getcwd: cannot access parent directories: No such file or directory\n"
     ]
    },
    {
     "name": "stdout",
     "output_type": "stream",
     "text": [
      "fullname;email;drug;phone;birthdate;city;bill\n",
      "Bert Joyner;Sed@eratsemperrutrum.com;Premarin;16110619-8573;2000-07-11T08:57:17-07:00;Haasdonk;43908\n",
      "Igor Yates;urna.Nullam.lobortis@lectusquismassa.edu;Namenda;16640818-9113;1985-02-24T02:13:13-08:00;Wilmont;43682\n",
      "Christian Savage;imperdiet@at.org;Amlodipine Besylate;16610609-4276;1984-03-05T20:51:57-08:00;Pamplona;13601\n",
      "Zia Hooper;sem.Pellentesque.ut@molestiedapibus.org;Metoprolol Tartrate ;16060507-3121;2009-12-27T13:06:26-08:00;Oostende;59905\n",
      "Colette Mcclain;egestas@Etiamgravida.org;Folic Acid;16340721-4661;1986-06-30T05:23:50-07:00;Saumur;57966\n",
      "Boris Strong;tincidunt.dui.augue@ProinmiAliquam.edu;Promethazine HCl;16511224-2796;2006-10-06T14:05:18-07:00;Beaumaris;74102\n",
      "Tallulah Cain;a.auctor@Donec.org;Metformin HCl;16150821-4358;1978-11-30T04:17:15-08:00;Verres;80813\n",
      "Lucy Snow;Aliquam@Mauris.net;Metoprolol Succinate;16920126-8985;2007-12-08T06:42:00-08:00;Villa Latina;2842\n",
      "Jasmine Curtis;sapien@sit.edu;Amlodipine Besylate;16930312-2726;2007-10-07T22:27:34-07:00;Chilliwack;68878\n"
     ]
    }
   ],
   "source": [
    "%%bash\n",
    "head -n 10 data/pacientes.txt | tr ',' ';' > out.1\n",
    "cat out.1"
   ]
  },
  {
   "cell_type": "markdown",
   "id": "88c7d915-ec92-4a2e-84aa-8230253af4cc",
   "metadata": {},
   "source": [
    "A continuación se obtienen los tipos de drogas que consumen los pacientes organizadas en orden alfabético:"
   ]
  },
  {
   "cell_type": "code",
   "execution_count": 20,
   "id": "e851e9c7-cced-4b38-905e-e9dab08b5b7c",
   "metadata": {},
   "outputs": [
    {
     "name": "stdout",
     "output_type": "stream",
     "text": [
      "Abilify\n",
      "Advair Diskus\n",
      "Allopurinol\n",
      "Alprazolam\n",
      "Alprazolam\n",
      "Alprazolam\n",
      "Amlodipine Besylate\n",
      "Amlodipine Besylate\n",
      "Amlodipine Besylate\n",
      "Amlodipine Besylate\n",
      "Amlodipine Besylate\n",
      "Amlodipine Besylate\n",
      "Amoxicillin\n",
      "Amoxicillin\n",
      "Amoxicillin\n",
      "Amoxicillin\n",
      "Amoxicillin Trihydrate/Potassium Clavulanate\n",
      "Amphetamine Salts\n",
      "Atenolol\n",
      "Atenolol\n",
      "Atenolol\n",
      "Azithromycin\n",
      "Bystolic\n",
      "Bystolic\n",
      "Cephalexin\n",
      "Cephalexin\n",
      "Ciprofloxacin HCl\n",
      "Ciprofloxacin HCl\n",
      "Citalopram HBR\n",
      "Clonazepam\n",
      "Cyclobenzaprin HCl\n",
      "Cymbalta\n",
      "Cymbalta\n",
      "Cymbalta\n",
      "Diazepam\n",
      "Diazepam\n",
      "Diovan\n",
      "Doxycycline Hyclate\n",
      "Flovent HFA\n",
      "Fluconazole\n",
      "Fluconazole\n",
      "Fluoxetine HCl\n",
      "Fluoxetine HCl\n",
      "Folic Acid\n",
      "Furosemide\n",
      "Furosemide\n",
      "Furosemide\n",
      "Gabapentin\n",
      "Gabapentin\n",
      "Gabapentin\n",
      "Glipizide\n",
      "Glyburide\n",
      "Hydrochlorothiazide\n",
      "Ibuprofen (Rx)\n",
      "LevothyroxineSodium\n",
      "LevothyroxineSodium\n",
      "LevothyroxineSodium\n",
      "Lisinopril\n",
      "Metformin HCl\n",
      "Metformin HCl\n",
      "Metformin HCl\n",
      "Methylprednisolone\n",
      "Metoprolol Succinate\n",
      "Metoprolol Succinatee\n",
      "Metoprolol Tartrate \n",
      "Metoprolol Tartrate \n",
      "Namenda\n",
      "Namenda\n",
      "Nasonex\n",
      "Nexium\n",
      "Nexium\n",
      "Oxycodone HCl\n",
      "Pantoprazole Sodium\n",
      "Penicillin VK\n",
      "Potassium Chloride\n",
      "Prednisone\n",
      "Premarin\n",
      "Premarin\n",
      "Promethazine HCl\n",
      "Seroquel\n",
      "Simvastatin\n",
      "Simvastatin\n",
      "Simvastatin\n",
      "Simvastatin\n",
      "Suboxone\n",
      "Suboxone\n",
      "Sulfamethoxazole/Trimethoprim\n",
      "Tamsulosin HCl\n",
      "Tramadol HCl\n",
      "Triamterene/Hydrochlorothiazide\n",
      "Triamterene/Hydrochlorothiazide\n",
      "Tricor\n",
      "Venlafaxine HCl ER\n",
      "Viagra\n",
      "Vyvanse\n",
      "Warfarin Sodium\n",
      "Zetia\n",
      "Zolpidem Tartrate\n",
      "drug\n"
     ]
    }
   ],
   "source": [
    "%%bash\n",
    "#cut -d, -f3 data/pacientes.txt | sort | uniq\n",
    "cut -d, -f3 data/pacientes.txt | uniq | sort"
   ]
  },
  {
   "cell_type": "markdown",
   "id": "aaffa5d3-67af-4102-88ee-d811bef297c1",
   "metadata": {},
   "source": [
    "A continuación se extrae el nombre y cuenta de cada paciente:"
   ]
  },
  {
   "cell_type": "code",
   "execution_count": 21,
   "id": "e24e789b-319c-469a-8d7d-6c24cdbd51e5",
   "metadata": {},
   "outputs": [
    {
     "name": "stdout",
     "output_type": "stream",
     "text": [
      "fullname;bill\n",
      "Bert Joyner;43908\n",
      "Igor Yates;43682\n",
      "Christian Savage;13601\n",
      "Zia Hooper;59905\n"
     ]
    }
   ],
   "source": [
    "%%bash\n",
    "awk -F',' '{print $1 \";\" $7}' data/pacientes.txt | head -n5"
   ]
  },
  {
   "cell_type": "code",
   "execution_count": 22,
   "id": "077000ca-b04a-44ba-975a-a906e5f81bce",
   "metadata": {},
   "outputs": [
    {
     "name": "stdout",
     "output_type": "stream",
     "text": [
      "Boris Strong,tincidunt.dui.augue@ProinmiAliquam.edu,Promethazine HCl,16511224-2796,2006-10-06T14:05:18-07:00,Beaumaris,74102\n",
      "Tallulah Cain,a.auctor@Donec.org,Metformin HCl,16150821-4358,1978-11-30T04:17:15-08:00,Verres,80813\n",
      "Wesley Head,et@Donectempor.edu,Metformin HCl,16070604-4211,1995-10-28T11:46:15-07:00,Moradabad,89326\n",
      "Ursa Peters,netus@amet.edu,Amoxicillin,16820919-0126,2014-09-30T12:56:49-07:00,Innisfail,72497\n",
      "Oprah Larsen,eu@nonenimcommodo.org,Bystolic,16520726-8474,1998-03-28T02:09:21-08:00,Sierning,90019\n",
      "Wynne Roberts,ultricies@vitaepurusgravida.edu,Fluoxetine HCl,16800807-0743,1986-12-29T11:42:59-08:00,Rosolini,99116\n",
      "Austin Larsen,augue@pharetraNamac.edu,Diazepam,16371001-0707,2002-11-08T16:31:56-08:00,Deutschkreutz,94057\n",
      "Paula Carlson,sed@vitaerisus.edu,Cephalexin,16870516-8774,1994-11-19T22:07:26-08:00,Anzegem,76082\n",
      "Lael Mccullough,vitae.orci.Phasellus@feugiatnonlobortis.edu,Warfarin Sodium,16270413-2154,2014-11-17T02:09:20-08:00,Rae Lakes,72754\n"
     ]
    }
   ],
   "source": [
    "%%bash \n",
    "awk '/\\.(org|edu)/' data/pacientes.txt| awk -F',' '$7 > 70000'"
   ]
  },
  {
   "cell_type": "markdown",
   "id": "96fb6c32-5d27-44f3-b60e-b2b35cacbda4",
   "metadata": {},
   "source": [
    "---"
   ]
  }
 ],
 "metadata": {
  "kernelspec": {
   "display_name": "Python 3 (ipykernel)",
   "language": "python",
   "name": "python3"
  },
  "language_info": {
   "codemirror_mode": {
    "name": "ipython",
    "version": 3
   },
   "file_extension": ".py",
   "mimetype": "text/x-python",
   "name": "python",
   "nbconvert_exporter": "python",
   "pygments_lexer": "ipython3",
   "version": "3.8.10"
  }
 },
 "nbformat": 4,
 "nbformat_minor": 5
}
