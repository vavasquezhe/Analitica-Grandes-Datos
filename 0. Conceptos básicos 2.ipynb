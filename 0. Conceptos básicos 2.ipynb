{
 "cells": [
  {
   "cell_type": "markdown",
   "id": "6e36dbf9-bc65-42a2-8682-ed38fe6de8f1",
   "metadata": {
    "tags": []
   },
   "source": [
    "## Intro Linux: Conceptos básicos\n",
    "---"
   ]
  },
  {
   "cell_type": "markdown",
   "id": "32afd4dc-294e-4f97-9a03-a2d2dfabba84",
   "metadata": {
    "tags": []
   },
   "source": [
    "## Analítica de Grandes Datos\n",
    "* ##### Facultad de Minas\n",
    "* ##### Universidad Nacional de Colombia\n",
    "* ##### Autor: Valentina Vásquez Hernandez"
   ]
  },
  {
   "cell_type": "markdown",
   "id": "86bb679c-265b-4002-9e1d-4e7335bc910b",
   "metadata": {},
   "source": [
    "![alt text](memes/meme4.webp \"Title\")"
   ]
  },
  {
   "cell_type": "markdown",
   "id": "4c266e7d-191d-4ee4-9308-5ff2f9d8ab95",
   "metadata": {},
   "source": [
    "---"
   ]
  },
  {
   "cell_type": "markdown",
   "id": "b6773e0a-7ccc-4761-87fd-35a446670bd1",
   "metadata": {},
   "source": [
    "### 1. ¿Linux Vs. Unix?"
   ]
  },
  {
   "cell_type": "markdown",
   "id": "ef6b2354-8d80-4c53-814d-6b03cd73fb1c",
   "metadata": {},
   "source": [
    "Linux es un sistema operativo (OS) de código libre basado en Unix. En 1970, Unix fue creado en laboratorios de computación en Estados Unidos y fue licenciado, es decir, no se podía acceder a su codigo fuente y para usarlo se requeria la compra a los propietarios. En consecuencia, 2 años mas tarde, nació Linux basado en el diseño de Unix pero con la filosofia de software libre y enfocado en el desarrollo de computadoras personales. \n",
    "\n",
    "Actualmente, tanto Unix como Linux son ampliamente utilizados en servidores, sistemas integrados y telefonos moviles. Para que un sistema se considere Unix, incluido el uso de la marca, debe cumplir con una serie de parametros licenciados, como es el caso de MacOS. Para que un sistema de considere Linux, debe implementar el kernel de linux, sin embargo, no se encuentra licenciado y el acceso por parte de los usuarios depende de las distribuciones. A la distribución original se le denomina GNU/Linux.\n",
    "\n",
    "* **Algunas distribuciones Linux**: Ubuntu, Debian, Slackware, Gentoo y Arch Linux\n",
    "* **Algunas versiones Unix**: BSD, GNU, Linux, Solaris, AIX, HP-UX y macOS\n"
   ]
  },
  {
   "cell_type": "markdown",
   "id": "4092e9aa-6f9f-48b1-9c42-90f974f554ab",
   "metadata": {},
   "source": [
    "### 2. ¿Cómo interactuo con Linux?"
   ]
  },
  {
   "cell_type": "markdown",
   "id": "0d11488d-2393-4cf0-a2e4-810bf1513637",
   "metadata": {},
   "source": [
    "Todos los sistemas operativos cuentan con una interfaz gráfica de usuario (Graphical User Interface, GUI), inclusive algunas distribuciones de Linux. El objetivo de estas es poner a disposicion las funcionalidades de una manera visual al usuario, sin embargo, no es la única forma de interactuar. Todos los comandos se pueden replicar a través de una interfaz de linea de comandos (CLI) para interatuar directamente con el OS. Tanto la GUI como la CLI son tipos de shell. \n",
    "\n",
    "> La CLI por defecto para Linux es BASH (Bourne Again SHell), para Windows es Windows PowerShell y para MacOS es Terminal.\n",
    "\n",
    "Dado que este módulo del curso se desarrolla con comandos Linux, es necesario tener disponible BASH. A continuación varias maneras de interactuar con BASH dado el OS disponible:\n",
    "\n",
    "* Mi computador tiene una distribución de Linux como OS principal \n",
    "* Mi computador tiene una distribución de Linux como un doble arranque\n",
    "* Mi computador tiene Windows/MacOs como OS principal y tengo instalada una máquina virtual con una distribución de Linux\n",
    "* `Mi computador tiene Windows/MacOs como OS principal y tengo disponible una imágen de Docker preconfigurada con una distribución de Linux` \n",
    "* Mi computador tiene MacOs como OS principal y puedo ejecutar comandos Unix que son homólogos a los usados en Linux en este curso"
   ]
  },
  {
   "cell_type": "markdown",
   "id": "bc97e9cc-4cc4-4684-9f74-9cdf34bc20ad",
   "metadata": {},
   "source": [
    "### 3. ¿Por qué aprender Bash si quiero ser Científico de Datos?"
   ]
  },
  {
   "cell_type": "markdown",
   "id": "5934eb97-b8ef-4639-b89d-b8281bb242a9",
   "metadata": {},
   "source": [
    "* Un cientifico de datos debe tener un abanico extenso de herramientas para preprocesar datos.\n",
    "* Los datasets del mundo real requieren mucho trabajo de limpieza y actualmente la capacidad de almacenamiento de los mismos implica costos para las compañias. \n",
    "* Bash es una herramienta perfecta para tareas sencillas de procesamiento de texto.\n",
    "* Interactuar a nivel de CLI es una habilidad valorada y requerida en el mercado laboral.\n",
    "* Algunos perfiles como ingenieros de datos, arquiotectos de datos, machine learning engineer, data dev, entre otros, deben conocer muy bien este tipo de herramientas"
   ]
  },
  {
   "cell_type": "markdown",
   "id": "96fb6c32-5d27-44f3-b60e-b2b35cacbda4",
   "metadata": {},
   "source": [
    "---"
   ]
  }
 ],
 "metadata": {
  "kernelspec": {
   "display_name": "Python 3 (ipykernel)",
   "language": "python",
   "name": "python3"
  },
  "language_info": {
   "codemirror_mode": {
    "name": "ipython",
    "version": 3
   },
   "file_extension": ".py",
   "mimetype": "text/x-python",
   "name": "python",
   "nbconvert_exporter": "python",
   "pygments_lexer": "ipython3",
   "version": "3.8.10"
  }
 },
 "nbformat": 4,
 "nbformat_minor": 5
}
