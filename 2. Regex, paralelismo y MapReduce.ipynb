{
 "cells": [
  {
   "cell_type": "markdown",
   "metadata": {
    "tags": []
   },
   "source": [
    "## Intro MapReduce y paralelismo\n",
    "---"
   ]
  },
  {
   "cell_type": "markdown",
   "metadata": {
    "tags": []
   },
   "source": [
    "## Analítica de Grandes Datos\n",
    "* ##### Facultad de Minas\n",
    "* ##### Universidad Nacional de Colombia\n",
    "* ##### Autor: Valentina Vásquez Hernandez"
   ]
  },
  {
   "cell_type": "markdown",
   "metadata": {},
   "source": [
    "<img src=\"meme1.jpg\" alt=\"drawing\" width=\"300\"/>"
   ]
  },
  {
   "cell_type": "markdown",
   "metadata": {},
   "source": [
    "---"
   ]
  },
  {
   "cell_type": "markdown",
   "metadata": {},
   "source": [
    "### 1. ¿Qué es una expresión regular en Python?"
   ]
  },
  {
   "cell_type": "markdown",
   "metadata": {},
   "source": [
    "Una expresión regular se define \"como una secuencia de comandos que especifica un patrón de busqueda en texto\" [1]. Originalmente, se crean dos tipos de interpretacines: POSIX y Perl. Son utilizadas desde su nacimiento para procesar datos tipo texto y cuentan con una implementación en la mayoría de lenguajes de programación.\n",
    "\n",
    "\n",
    " Las expresiones regulares en Python se basan en Perl y es necesario importar la librería `re` para su uso. A continuación algunas consideraciones importantes:"
   ]
  },
  {
   "cell_type": "markdown",
   "metadata": {},
   "source": [
    "**Consideraciones:**\n",
    "\n",
    "* Instalar: Usualmente viene por defecto, en caso de no contar con este, instalar con el siguiente comando: `pip install re`. \n",
    "* Importar: `import re`\n",
    "* Metacaracteres: `. ^ $ * + ? { } [ ] \\ | ( )`\n",
    "* Funciones principales: `re.match()`, `re.search()`\n",
    "* `timeit`: función utlizada para medir el tiempo de ejecucicón de un fragmento de código. Por defecto, el fragmento principal de ejecutará 1.000.000 de veces, sin embargo, con el parámetro *numbers* es posible modificarlo\n",
    "\n",
    "\n",
    " *Documentación*: https://docs.python.org/3/library/re.html"
   ]
  },
  {
   "cell_type": "markdown",
   "metadata": {},
   "source": [
    "**Ejemplo**"
   ]
  },
  {
   "cell_type": "code",
   "execution_count": 1,
   "metadata": {},
   "outputs": [],
   "source": [
    "## Se importa la librería\n",
    "import re\n",
    "import glob\n",
    "## Se leen los datos a los que se le aplicarán las funciones\n",
    "data_logs = open(\"data/logs.csv\", 'r')"
   ]
  },
  {
   "cell_type": "code",
   "execution_count": 2,
   "metadata": {},
   "outputs": [
    {
     "name": "stdout",
     "output_type": "stream",
     "text": [
      "id;hour;city_country\n",
      "1;2000-07-11T08:57:17-07:00;Medellin Antioquia\n",
      "2;2022-04-11T01:57:20-07:00;Medellin Antioquia\n",
      "3;2000-07-11T08:57:17-07:01;medellin Antioquia\n",
      "4;2022-04-11T01:57:20-07:01;Pasto Nariño\n",
      "5;2000-07-11T03:57:17-07:02;Bogota Cundinamarca\n",
      "6;2022-04-11T01:57:20-07:02;Bogota Cundinamarca\n",
      "7;2000-07-11T08:57:17-07:03;Manizales Caldas\n",
      "8;2022-04-11T01:14:20-07:03;Manisalez Caldas\n",
      "9;2000-07-11T08:33:17-07:04;Medellin Antioquia\n"
     ]
    }
   ],
   "source": [
    "!head data/logs.csv"
   ]
  },
  {
   "cell_type": "markdown",
   "metadata": {},
   "source": [
    "*PSL*"
   ]
  },
  {
   "cell_type": "code",
   "execution_count": 3,
   "metadata": {},
   "outputs": [],
   "source": [
    "## Se establece el archivo en donde se van a guardar los datos formateados\n",
    "file_new = open(\"data/logs_clean.csv\", 'w')\n",
    "file_new.write(\"id;date;hour;city;region\\n\")\n",
    "\n",
    "primera_linea = True\n",
    "\n",
    "for line in data_logs: \n",
    "    if primera_linea is True:\n",
    "        primera_linea = False\n",
    "        continue\n",
    "        \n",
    "    line = line.replace(';Manisalez',';Manizales')\n",
    "    line = line.replace(';medellin',';Medellin')\n",
    "    groups_hour = re.search('([0-9]+);([0-9]+-[0-9]+-[0-9]+)[a-zA-z]+([0-9]+:[0-9]+)', line)\n",
    "    groups_city = re.search(';([a-zA-z]+) ([a-zA-z]+)', line)\n",
    "    \n",
    "    new_line =  groups_hour.group(1)+';'+groups_hour.group(2)+';'+groups_hour.group(3)+';'+groups_city.group(1)+';'+groups_city.group(2)+'\\n'  \n",
    "    line = line.replace(line,new_line)\n",
    "    \n",
    "    file_new.write(line)\n",
    "    \n",
    "    \n",
    "data_logs.close()\n",
    "file_new.close()"
   ]
  },
  {
   "cell_type": "code",
   "execution_count": 4,
   "metadata": {},
   "outputs": [
    {
     "name": "stdout",
     "output_type": "stream",
     "text": [
      "id;date;hour;city;region\n",
      "1;2000-07-11;08:57;Medellin;Antioquia\n",
      "2;2022-04-11;01:57;Medellin;Antioquia\n",
      "3;2000-07-11;08:57;Medellin;Antioquia\n",
      "4;2022-04-11;01:57;Pasto;Nari\n",
      "5;2000-07-11;03:57;Bogota;Cundinamarca\n",
      "6;2022-04-11;01:57;Bogota;Cundinamarca\n",
      "7;2000-07-11;08:57;Manizales;Caldas\n",
      "8;2022-04-11;01:14;Manizales;Caldas\n",
      "9;2000-07-11;08:33;Medellin;Antioquia\n"
     ]
    }
   ],
   "source": [
    "!head data/logs_clean.csv"
   ]
  },
  {
   "cell_type": "markdown",
   "metadata": {},
   "source": [
    "### 2. ¿Qué es el paralelismo?\n",
    "\n",
    "Computación en paralelo o paralelismo es una arquitectura computacional que divide trabajos de gran envergadura en pequeñas tareas que se caracterizan por ser independientes y similares (con respecto al trabajo inicial). Estas tareas se ejecutan se manera secuencial, tomando un nodo por cada procesador del equipo actual (lo indica el usuario y es máximo el número de procesadores con los que cuente la máquina) o una red de procesadores (cluster)."
   ]
  },
  {
   "cell_type": "markdown",
   "metadata": {},
   "source": [
    "> Esquema tradicional de procesamiento [1](https://hpc.llnl.gov/documentation/tutorials/introduction-parallel-computing-tutorial)\n",
    "\n",
    "\n",
    "<img src=\"parallel1.jpg\" alt=\"drawing\" width=\"600\"/>\n",
    "\n",
    "> Esquema de procesamiento en paralelo [1](https://hpc.llnl.gov/documentation/tutorials/introduction-parallel-computing-tutorial)\n",
    "\n",
    "\n",
    "\n",
    "\n",
    "<img src=\"parallel2.jpg\" alt=\"drawing\" width=\"600\"/>"
   ]
  },
  {
   "cell_type": "markdown",
   "metadata": {},
   "source": [
    "Para efectos del curso y los conceptos asociados al mismo, se trabajará con la librería `multiprocessing` que ofrece al usuario paralelizar procesos de manera local y remota. \n",
    "\n",
    "**Tips**\n",
    "\n",
    "* La clase `Pool` permite ejecutar multiples tareas por proceso (procesador), por lo que no es necesario que el usuario administre por si mismo el número de tareas ni monitoree los procesos a usar. \n",
    "* La clase `Pool` no funciona en interpretes interactivos (Eje. Jupyter). Requiere del __main__ module.\n",
    "* Se se utiliza `Pool` dentro de un interprete interactivo, la ejecución aparentemente se mostrará inconclusa y en el terminal se levantan los errores.\n",
    "* Por defecto, la clase `Pool` utiliza como procesos todos los procesadores disponibles dentro de la máquina donde se ejecuta (os.cpu_count()). El usuario puede modificarlo con el parámetro *processes*.\n",
    "\n",
    "*Documentación:* https://docs.python.org/3/library/multiprocessing.html "
   ]
  },
  {
   "cell_type": "code",
   "execution_count": 5,
   "metadata": {},
   "outputs": [
    {
     "data": {
      "text/plain": [
       "8"
      ]
     },
     "execution_count": 5,
     "metadata": {},
     "output_type": "execute_result"
    }
   ],
   "source": [
    "##Cuenta cuántos procesadores tiene el equipo actual\n",
    "import os\n",
    "os.cpu_count()"
   ]
  },
  {
   "cell_type": "markdown",
   "metadata": {},
   "source": [
    "### 3. ¿Qué es el algoritmo MapReduce?\n",
    "Es un framework que se considera la base de la computación en paralelo que nació a principios de los años 80. El paper inicial fue publicado por Yahoo, sin embargo, la implementación aceptada por la comunidad, en OpenSource, la mantiene actualmente Apache. \n",
    "\n",
    "> Esquema tradicional MapReduce [2](https://www.researchgate.net/figure/The-MapReduce-architecture-MapReduce-Algorithm-There-are-four-steps-to-implement_fig2_305489358)\n",
    "\n",
    "\n",
    "<img src=\"mapreduce.jpg\" alt=\"drawing\" width=\"600\"/>\n"
   ]
  },
  {
   "cell_type": "markdown",
   "metadata": {},
   "source": [
    "#### Paso 1. Map\n",
    "Extraer una lista única de palabras dentro del dataset `data/logs_clean.csv`"
   ]
  },
  {
   "cell_type": "code",
   "execution_count": 7,
   "metadata": {},
   "outputs": [],
   "source": [
    "import etl\n",
    "from multiprocessing import Pool\n",
    "from toolz.functoolz import compose\n",
    "from toolz.itertoolz import concat"
   ]
  },
  {
   "cell_type": "code",
   "execution_count": 8,
   "metadata": {},
   "outputs": [
    {
     "name": "stdout",
     "output_type": "stream",
     "text": [
      "['id', 'date', 'hour', 'city', 'region\\n']\n",
      "['1', '2000-07-11', '08:57', 'Medellin', 'Antioquia\\n']\n",
      "['2', '2022-04-11', '01:57', 'Medellin', 'Antioquia\\n']\n",
      "['3', '2000-07-11', '08:57', 'Medellin', 'Antioquia\\n']\n",
      "['4', '2022-04-11', '01:57', 'Pasto', 'Nari\\n']\n",
      "['5', '2000-07-11', '03:57', 'Bogota', 'Cundinamarca\\n']\n",
      "['6', '2022-04-11', '01:57', 'Bogota', 'Cundinamarca\\n']\n",
      "['7', '2000-07-11', '08:57', 'Manizales', 'Caldas\\n']\n",
      "['8', '2022-04-11', '01:14', 'Manizales', 'Caldas\\n']\n",
      "['9', '2000-07-11', '08:33', 'Medellin', 'Antioquia\\n']\n",
      "['10', '2022-04-11', '01:36', 'Medellin', 'Antioquia\\n']\n"
     ]
    }
   ],
   "source": [
    "## Se aplica la función .split a todo el archivo leyendo linea por linea\n",
    "with open(\"data/logs_clean.csv\", \"rt\") as file:\n",
    "    for line in file:\n",
    "        print(line.split(\";\"))"
   ]
  },
  {
   "cell_type": "code",
   "execution_count": 9,
   "metadata": {},
   "outputs": [
    {
     "name": "stdout",
     "output_type": "stream",
     "text": [
      "['id', 'date', 'hour', 'city', 'region\\n']\n",
      "['1', '2000-07-11', '08:57', 'Medellin', 'Antioquia\\n']\n",
      "['2', '2022-04-11', '01:57', 'Medellin', 'Antioquia\\n']\n",
      "['3', '2000-07-11', '08:57', 'Medellin', 'Antioquia\\n']\n",
      "['4', '2022-04-11', '01:57', 'Pasto', 'Nari\\n']\n",
      "['5', '2000-07-11', '03:57', 'Bogota', 'Cundinamarca\\n']\n",
      "['6', '2022-04-11', '01:57', 'Bogota', 'Cundinamarca\\n']\n",
      "['7', '2000-07-11', '08:57', 'Manizales', 'Caldas\\n']\n",
      "['8', '2022-04-11', '01:14', 'Manizales', 'Caldas\\n']\n",
      "['9', '2000-07-11', '08:33', 'Medellin', 'Antioquia\\n']\n",
      "['10', '2022-04-11', '01:36', 'Medellin', 'Antioquia\\n']\n"
     ]
    }
   ],
   "source": [
    "## Se aplica la función de usuario, de la función split_lines, a cada linea\n",
    "with open(\"data/logs_clean.csv\", \"rt\") as file:\n",
    "    for line in file:\n",
    "        print(etl.split_lines(line))"
   ]
  },
  {
   "cell_type": "code",
   "execution_count": 10,
   "metadata": {},
   "outputs": [
    {
     "name": "stdout",
     "output_type": "stream",
     "text": [
      "city;region\n",
      "\n",
      "Medellin;Antioquia\n",
      "\n",
      "Medellin;Antioquia\n",
      "\n",
      "Medellin;Antioquia\n",
      "\n",
      "Pasto;Nari\n",
      "\n",
      "Bogota;Cundinamarca\n",
      "\n",
      "Bogota;Cundinamarca\n",
      "\n",
      "Manizales;Caldas\n",
      "\n",
      "Manizales;Caldas\n",
      "\n",
      "Medellin;Antioquia\n",
      "\n",
      "Medellin;Antioquia\n",
      "\n"
     ]
    }
   ],
   "source": [
    "## Se aplica la función de usuario a cada linea y se extraen los dos últimos campos\n",
    "with open(\"data/logs_clean.csv\", \"rt\") as file:\n",
    "    for line in file:\n",
    "        print(line.split(\";\")[-2]+\";\"+line.split(\";\")[-1])"
   ]
  },
  {
   "cell_type": "code",
   "execution_count": 11,
   "metadata": {},
   "outputs": [
    {
     "data": {
      "text/plain": [
       "<map at 0x7f7dcf662e20>"
      ]
     },
     "execution_count": 11,
     "metadata": {},
     "output_type": "execute_result"
    }
   ],
   "source": [
    "## Se aplica la función split_lines a cada linea que retorna la función load_data\n",
    "logs_clean_list = map(etl.split_lines, etl.load_data(\"data/logs_clean.csv\"))\n",
    "logs_clean_list"
   ]
  },
  {
   "cell_type": "code",
   "execution_count": 12,
   "metadata": {},
   "outputs": [
    {
     "name": "stdout",
     "output_type": "stream",
     "text": [
      "['Medellin', 'Antioquia\\n']\n",
      "['Medellin', 'Antioquia\\n']\n",
      "['Medellin', 'Antioquia\\n']\n",
      "['Pasto', 'Nari\\n']\n",
      "['Bogota', 'Cundinamarca\\n']\n",
      "['Bogota', 'Cundinamarca\\n']\n",
      "['Manizales', 'Caldas\\n']\n",
      "['Manizales', 'Caldas\\n']\n",
      "['Medellin', 'Antioquia\\n']\n",
      "['Medellin', 'Antioquia\\n']\n"
     ]
    }
   ],
   "source": [
    "## Retorna un objeto iterable\n",
    "for i in logs_clean_list:\n",
    "    print(i)"
   ]
  },
  {
   "cell_type": "code",
   "execution_count": 13,
   "metadata": {},
   "outputs": [],
   "source": [
    "## Se aplican todas las funciones de preprocesamiento que se encuentran el `etl` con Pool\n",
    "with Pool(processes=6) as pool:\n",
    "    result = pool.map(etl.split_lines, etl.load_data(\"data/logs_clean.csv\"))\n",
    "    result = concat(result)\n",
    "    result = pool.map(etl.remove_newline, result)\n",
    "    result = pool.map(etl.remove_punctuation, result)\n",
    "    result = pool.map(etl.tolower, result)"
   ]
  },
  {
   "cell_type": "code",
   "execution_count": 14,
   "metadata": {},
   "outputs": [
    {
     "data": {
      "text/plain": [
       "['medellin',\n",
       " 'antioquia',\n",
       " 'medellin',\n",
       " 'antioquia',\n",
       " 'medellin',\n",
       " 'antioquia',\n",
       " 'pasto',\n",
       " 'nari',\n",
       " 'bogota',\n",
       " 'cundinamarca',\n",
       " 'bogota',\n",
       " 'cundinamarca',\n",
       " 'manizales',\n",
       " 'caldas',\n",
       " 'manizales',\n",
       " 'caldas',\n",
       " 'medellin',\n",
       " 'antioquia',\n",
       " 'medellin',\n",
       " 'antioquia']"
      ]
     },
     "execution_count": 14,
     "metadata": {},
     "output_type": "execute_result"
    }
   ],
   "source": [
    "result"
   ]
  },
  {
   "cell_type": "code",
   "execution_count": 15,
   "metadata": {},
   "outputs": [
    {
     "data": {
      "text/plain": [
       "['medellin',\n",
       " 'antioquia',\n",
       " 'medellin',\n",
       " 'antioquia',\n",
       " 'medellin',\n",
       " 'antioquia',\n",
       " 'pasto',\n",
       " 'nari',\n",
       " 'bogota',\n",
       " 'cundinamarca',\n",
       " 'bogota',\n",
       " 'cundinamarca',\n",
       " 'manizales',\n",
       " 'caldas',\n",
       " 'manizales',\n",
       " 'caldas',\n",
       " 'medellin',\n",
       " 'antioquia',\n",
       " 'medellin',\n",
       " 'antioquia']"
      ]
     },
     "execution_count": 15,
     "metadata": {},
     "output_type": "execute_result"
    }
   ],
   "source": [
    "## Se utiliza `compose` para definir el pipeline de la etl\n",
    "compose_pipeline = compose(\n",
    "    etl.remove_newline,\n",
    "    etl.remove_punctuation,\n",
    "    etl.tolower\n",
    ")\n",
    "\n",
    "with Pool() as pool:\n",
    "    result = pool.map(etl.split_lines, etl.load_data(\"data/logs_clean.csv\"))\n",
    "    result = concat(result)\n",
    "    result = pool.map(compose_pipeline, result)\n",
    "\n",
    "result"
   ]
  },
  {
   "cell_type": "markdown",
   "metadata": {},
   "source": [
    "#### Paso 2. Reduce\n",
    "Contar las repeticiones de las palabras presentes en el dataset `data/logs_clean.csv`"
   ]
  },
  {
   "cell_type": "code",
   "execution_count": 16,
   "metadata": {},
   "outputs": [
    {
     "data": {
      "text/plain": [
       "{'medellin': 5,\n",
       " 'antioquia': 5,\n",
       " 'pasto': 1,\n",
       " 'nari': 1,\n",
       " 'bogota': 2,\n",
       " 'cundinamarca': 2,\n",
       " 'manizales': 2,\n",
       " 'caldas': 2}"
      ]
     },
     "execution_count": 16,
     "metadata": {},
     "output_type": "execute_result"
    }
   ],
   "source": [
    "## Se cuentas las repeticiones que hay dentro de result\n",
    "from functools import reduce\n",
    "reduce(\n",
    "    etl.make_counts,\n",
    "    result,\n",
    "    {},\n",
    ")"
   ]
  },
  {
   "cell_type": "markdown",
   "metadata": {},
   "source": [
    "#### MapReduce\n",
    "Mapear las palabras y realizar el conteo las repeticiones de las palabras presentes en el dataset `data/logs_clean.csv`"
   ]
  },
  {
   "cell_type": "code",
   "execution_count": 17,
   "metadata": {},
   "outputs": [],
   "source": [
    "from toolz.sandbox.parallel import fold\n",
    "\n",
    "compose_pipeline = compose(\n",
    "    etl.remove_newline,\n",
    "    etl.remove_punctuation,\n",
    "    etl.tolower\n",
    ") \n",
    "with Pool() as pool:\n",
    "\n",
    "    result = pool.map(etl.split_lines, etl.load_data(\"data/logs_clean.csv\"))\n",
    "    result = concat(result)\n",
    "    result = pool.map(compose_pipeline, result)\n",
    "    result = fold(\n",
    "        etl.make_counts,\n",
    "        result,\n",
    "        {},\n",
    "        pool.map,\n",
    "        10000,\n",
    "        etl.sum_counts,\n",
    "    )"
   ]
  },
  {
   "cell_type": "code",
   "execution_count": 18,
   "metadata": {},
   "outputs": [
    {
     "data": {
      "text/plain": [
       "{'medellin': 5,\n",
       " 'antioquia': 5,\n",
       " 'pasto': 1,\n",
       " 'nari': 1,\n",
       " 'bogota': 2,\n",
       " 'cundinamarca': 2,\n",
       " 'manizales': 2,\n",
       " 'caldas': 2}"
      ]
     },
     "execution_count": 18,
     "metadata": {},
     "output_type": "execute_result"
    }
   ],
   "source": [
    "result"
   ]
  },
  {
   "cell_type": "markdown",
   "metadata": {},
   "source": [
    "---"
   ]
  }
 ],
 "metadata": {
  "kernelspec": {
   "display_name": "Python 3",
   "language": "python",
   "name": "python3"
  },
  "language_info": {
   "codemirror_mode": {
    "name": "ipython",
    "version": 3
   },
   "file_extension": ".py",
   "mimetype": "text/x-python",
   "name": "python",
   "nbconvert_exporter": "python",
   "pygments_lexer": "ipython3",
   "version": "3.8.5"
  }
 },
 "nbformat": 4,
 "nbformat_minor": 5
}
