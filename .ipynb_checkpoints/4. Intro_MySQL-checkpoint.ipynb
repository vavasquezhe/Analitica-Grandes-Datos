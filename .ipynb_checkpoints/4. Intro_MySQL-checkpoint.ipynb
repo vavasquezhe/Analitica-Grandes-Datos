{
 "cells": [
  {
   "cell_type": "markdown",
   "id": "6d7ba7ea",
   "metadata": {
    "tags": []
   },
   "source": [
    "## Repaso MySQL\n",
    "---"
   ]
  },
  {
   "cell_type": "markdown",
   "id": "7b2c6bf2",
   "metadata": {
    "tags": []
   },
   "source": [
    "## Analítica de Grandes Datos\n",
    "* ##### Facultad de Minas\n",
    "* ##### Universidad Nacional de Colombia\n",
    "* ##### Autor: Valentina Vásquez Hernandez"
   ]
  },
  {
   "cell_type": "markdown",
   "id": "a92927a1-9da6-4118-aaf1-ca90036c65e8",
   "metadata": {
    "tags": []
   },
   "source": [
    "#### 0. ¿Cómo ejecuto el código de este taller?"
   ]
  },
  {
   "cell_type": "markdown",
   "id": "a71c3b2e-c30c-47e2-bbf1-4b1eb1f61c90",
   "metadata": {},
   "source": [
    "* **Paso 1.** Ejecutar la imagen de docker `jdvelasq/mariadb:10.3.34` [click aquí para ver el comando](https://jdvelasq.github.io/courses/analitica_de_grandes_datos/index.html#sesion-05-2022-06-10)\n",
    "* **Paso 2.** Una vez se encuentren dentro de la imágen, pueden seguir cualquiera de las siguientes opciones: \n",
    "    > **Paso 2.1.** Clonar el repositorio de los talleres dentro de su máquina e inicializar jupyter [lab o notebook] en el directorio donde se encuentre este libro .ipynb\n",
    "    \n",
    "    > **Paso 2.2.** Ejecutar el comando `mariadb -u root` y escribir los comandos directamente en la consola MariaDB"
   ]
  },
  {
   "cell_type": "markdown",
   "id": "5be3fcc6-9182-4f06-aa25-3b874303e279",
   "metadata": {},
   "source": [
    "---"
   ]
  },
  {
   "cell_type": "markdown",
   "id": "28a8f885",
   "metadata": {},
   "source": [
    "### 1. ¿Qué es MySQL?"
   ]
  },
  {
   "cell_type": "markdown",
   "id": "d2d87177",
   "metadata": {},
   "source": [
    "Es el sistema de base de datos relacionales más extendido en el mundo. Se caracteriza por contar con una arquitectura cliente-servidor, tener una compatibilidad completa con `SQL` (lenguaje estandar en la comunidad), y sobretodo, cuenta con una combinación de código abierto y distribución comercial; es decir, permite a pequeñas empresas tener acceso a un almacenamiento escalable y, a través de `Oracle - MySQL HeatWave Data Database Service - Enterprise Edition (entre otros productos)`, facilidades para realizar migración a la distribución comercial.\n",
    "\n",
    "`MariaDB` es una distribución *OpenSource* de MySQL, creado por ex-empleados y fundadores de MySQL, quienes no estaban de acuerdo con la distribución comercial y sus politicas. entre sus objetivos de encuentra disminuir la brecha de conocimiento entre principiantes y expertos, ofrecer continuidad en el ecosistema y mantener el código abierto. [1](https://mariadb.org/about/) \n",
    "\n",
    "> Esquema base de datos relacional [2](https://www.pragimtech.com/blog/mongodb-tutorial/relational-and-non-relational-databases/)\n",
    "\n",
    "\n",
    "<img src=\"relationaldb.jpg\" alt=\"drawing\" width=\"600\"/>\n"
   ]
  },
  {
   "cell_type": "markdown",
   "id": "02c66283",
   "metadata": {},
   "source": [
    "**Principales comandos:**\n",
    "\n",
    "* `SELECT`, `SELECT DISTINCT`: comando obligatorio en cualquier sentancia. Selecciona todos los registros y únicos, respectivamente.\n",
    "* `WHERE`, `HAVING`: permiten filtrar columnas de la tabla, estáticos y calculados, respectivamente.\n",
    "* `ORDER BY`: ordena el resultado de una columna de acuerdo a lo que especifique el usuario.\n",
    "* `CREATE USER`. `DROP USER`,`GRANT`, `SHOW GRANTS FOR`, `REVOKE`: comandos para crear/modificar/actualizar roles.\n",
    "* `SHOW DATABASES`, `CREATE DATABASE`, `DROP DATABASE`: comandos básicos para manejar databases.\n",
    "* `SHOW TABLES`, `CREATE TABLE`, `DROP TABLE`, `ALTER TABLE`: comandos básicos para manejar tablas.\n",
    "* `INSERT INTO`, `DELETE`, `UPDATE`\n",
    "* `COUNT`, `MAX`, `MIN`, `SUM`, `GROUP BY`: funciones de agregación.\n",
    "\n",
    "**Estructura:**    \n",
    "> Database \n",
    ">> Tables\n",
    "\n",
    "\n",
    "*Documentación*: https://dev.mysql.com/doc/refman/8.0/en/mysql-commands.html"
   ]
  },
  {
   "cell_type": "markdown",
   "id": "0e9ff925",
   "metadata": {},
   "source": [
    "### 1. ¿Cómo uso MySQL/MariaDB?"
   ]
  },
  {
   "cell_type": "markdown",
   "id": "d2d9ebe1-0f64-4f78-9d5b-33951f9991f0",
   "metadata": {},
   "source": [
    "El valor agregado de MariaDB es replicar un entorno productivo de manera local, *OpenSource* y explorar la integración de varias herramientas con un sistema de gestión de bases de datos."
   ]
  },
  {
   "cell_type": "code",
   "execution_count": 1,
   "id": "f1ef8c3a",
   "metadata": {},
   "outputs": [
    {
     "name": "stdout",
     "output_type": "stream",
     "text": [
      "Requirement already satisfied: mariadb in /usr/local/lib/python3.8/dist-packages (1.0.11)\n",
      "\u001b[33mWARNING: Running pip as the 'root' user can result in broken permissions and conflicting behaviour with the system package manager. It is recommended to use a virtual environment instead: https://pip.pypa.io/warnings/venv\u001b[0m\u001b[33m\n",
      "\u001b[0m\u001b[33mWARNING: There was an error checking the latest version of pip.\u001b[0m\u001b[33m\n",
      "\u001b[0m"
     ]
    }
   ],
   "source": [
    "##Se debe verificar que esté instalada la librería mariadb en Python\n",
    "##Esta instalación se encuentra por defecto si se encuentran en la imagen de Docker jdvelasq/mariadb:10.3.34\n",
    "!pip3 install mariadb"
   ]
  },
  {
   "cell_type": "code",
   "execution_count": 1,
   "id": "6eb54d0c-a8b4-42fd-98c2-252395e73801",
   "metadata": {},
   "outputs": [],
   "source": [
    "## Se crea una carpeta donde se almacenarán los scripts en formato .sql\n",
    "!rm -rf tmp\n",
    "!mkdir -p tmp"
   ]
  },
  {
   "cell_type": "code",
   "execution_count": 2,
   "id": "d668958f-3de4-4934-a339-3d3a1674be4e",
   "metadata": {},
   "outputs": [],
   "source": [
    "import mariadb\n",
    "\n",
    "conn = mariadb.connect(\n",
    "    user=\"root\",\n",
    "    password=\"\",)\n",
    "\n",
    "cur = conn.cursor()"
   ]
  },
  {
   "cell_type": "markdown",
   "id": "af4a7ec8-4262-4e6c-a8e1-4446af00497a",
   "metadata": {},
   "source": [
    "A continuación se crea la base de datos a usar y se establece el esquema de la tabla:"
   ]
  },
  {
   "cell_type": "code",
   "execution_count": 12,
   "id": "b409b55c-5bed-4826-99b2-e889334a0de5",
   "metadata": {},
   "outputs": [],
   "source": [
    "cur.execute(\"DROP DATABASE IF EXISTS vehicles;\")\n",
    "cur.execute(\"CREATE DATABASE vehicles;\")"
   ]
  },
  {
   "cell_type": "code",
   "execution_count": 13,
   "id": "f95c1fee-9379-444e-86d3-4b2c796b8258",
   "metadata": {},
   "outputs": [],
   "source": [
    "## Se ubica en la nueva database\n",
    "cur.execute(\"USE vehicles;\")"
   ]
  },
  {
   "cell_type": "markdown",
   "id": "619d0c2d-6ad6-4302-9923-c820c9a01e2d",
   "metadata": {},
   "source": [
    "Se debe especificar el tipo de dato que contiene la tabla:"
   ]
  },
  {
   "cell_type": "code",
   "execution_count": 14,
   "id": "b3832850-8f43-40cf-ac4c-56331380a351",
   "metadata": {},
   "outputs": [],
   "source": [
    "## Se crea la tabla \n",
    "cur.execute(\"DROP TABLE IF EXISTS cars;\")\n",
    "\n",
    "cur.execute(\n",
    "    \"\"\"\n",
    "    CREATE TABLE cars (\n",
    "        Id             INT,\n",
    "        symboling      FLOAT(8,4),\n",
    "        normalized_losses      INT,\n",
    "        make      VARCHAR(20),\n",
    "        fuel_type      VARCHAR(20),\n",
    "        aspiration      VARCHAR(20),\n",
    "        num_of_doors      VARCHAR(20),\n",
    "        body_style      VARCHAR(20),\n",
    "        drive_wheels      VARCHAR(20),\n",
    "        engine_location      VARCHAR(20),\n",
    "        wheel_base       FLOAT(8,4),\n",
    "        length      FLOAT(8,4),\n",
    "        width      FLOAT(8,4),\n",
    "        height      FLOAT(8,4),\n",
    "        curb_weight      FLOAT(8,4),\n",
    "        engine_type      VARCHAR(20),\n",
    "        num_of_cylinders      VARCHAR(20),\n",
    "        engine_size      FLOAT(8,4),\n",
    "        fuel_system      VARCHAR(20),\n",
    "        bore      FLOAT(8,4),\n",
    "        stroke      FLOAT(8,4),\n",
    "        compression_ratio      INT,\n",
    "        horsepower      INT,\n",
    "        peak_rpm      INT,\n",
    "        city_mpg      INT,\n",
    "        highway_mpg      INT,\n",
    "        price      INT\n",
    "        );\n",
    "    \"\"\"\n",
    ")\n",
    "\n",
    "conn.commit()"
   ]
  },
  {
   "cell_type": "markdown",
   "id": "ac2df7d8-5816-49cf-b98a-a888391cb61b",
   "metadata": {},
   "source": [
    "A continuación se cargaran los datos `data/cars.csv` a una tabla, de los cuales se puede leer la descripción en el archivo `data/description.txt`:"
   ]
  },
  {
   "cell_type": "code",
   "execution_count": 15,
   "id": "fe09d539-b1ac-443d-81c1-08ac15ff2762",
   "metadata": {},
   "outputs": [],
   "source": [
    "import pandas as pd\n",
    "\n",
    "drivers = pd.read_csv(\"data/cars.csv\", sep=\";\")\n",
    "n = 1\n",
    "for i, row in drivers.iterrows():\n",
    "    sql = \"INSERT INTO cars VALUES (%s,%s,%s,%s,%s,%s,%s,%s,%s,%s,%s,%s,%s,%s,%s,%s,%s,%s,%s,%s,%s,%s,%s,%s,%s,%s,%s)\"\n",
    "    cur.execute(sql, tuple([n] + list(row)))   \n",
    "    conn.commit()\n",
    "    n += 1\n",
    "\n",
    "conn.close()"
   ]
  },
  {
   "cell_type": "code",
   "execution_count": 16,
   "id": "86a2e930-d950-43e7-9c3f-920a569d26b0",
   "metadata": {},
   "outputs": [
    {
     "name": "stdout",
     "output_type": "stream",
     "text": [
      "+--------------------+\n",
      "| Tables_in_vehicles |\n",
      "+--------------------+\n",
      "| cars               |\n",
      "+--------------------+\n"
     ]
    }
   ],
   "source": [
    "!mariadb -u root -e \"USE vehicles;SHOW TABLES\""
   ]
  },
  {
   "cell_type": "code",
   "execution_count": 17,
   "id": "e192a274-0d33-4c73-9435-45433a29e1e0",
   "metadata": {},
   "outputs": [
    {
     "name": "stdout",
     "output_type": "stream",
     "text": [
      "+------+-----------+-------------------+------+-----------+------------+--------------+------------+--------------+-----------------+------------+----------+---------+---------+-------------+-------------+------------------+-------------+-------------+--------+--------+-------------------+------------+----------+----------+-------------+-------+\n",
      "| Id   | symboling | normalized_losses | make | fuel_type | aspiration | num_of_doors | body_style | drive_wheels | engine_location | wheel_base | length   | width   | height  | curb_weight | engine_type | num_of_cylinders | engine_size | fuel_system | bore   | stroke | compression_ratio | horsepower | peak_rpm | city_mpg | highway_mpg | price |\n",
      "+------+-----------+-------------------+------+-----------+------------+--------------+------------+--------------+-----------------+------------+----------+---------+---------+-------------+-------------+------------------+-------------+-------------+--------+--------+-------------------+------------+----------+----------+-------------+-------+\n",
      "|    1 |    2.0000 |               164 | audi | gas       | std        | four         | sedan      | 4wd          | front           |    99.4000 | 176.6000 | 66.4000 | 54.3000 |   2824.0000 | ohc         | five             |    136.0000 | mpfi        | 3.1900 | 3.4000 |                 8 |        115 |     5500 |       18 |          22 | 17450 |\n",
      "|    2 |    1.0000 |               158 | audi | gas       | std        | four         | sedan      | fwd          | front           |   105.8000 | 192.7000 | 71.4000 | 55.7000 |   2844.0000 | ohc         | five             |    136.0000 | mpfi        | 3.1900 | 3.4000 |                 8 |        110 |     5500 |       19 |          25 | 17710 |\n",
      "|    3 |    1.0000 |               158 | audi | gas       | turbo      | four         | sedan      | fwd          | front           |   105.8000 | 192.7000 | 71.4000 | 55.9000 |   3086.0000 | ohc         | five             |    131.0000 | mpfi        | 3.1300 | 3.4000 |                 8 |        140 |     5500 |       17 |          20 | 23875 |\n",
      "|    4 |    2.0000 |               192 | bmw  | gas       | std        | two          | sedan      | rwd          | front           |   101.2000 | 176.8000 | 64.8000 | 54.3000 |   2395.0000 | ohc         | four             |    108.0000 | mpfi        | 3.5000 | 2.8000 |                 9 |        101 |     5800 |       23 |          29 | 16430 |\n",
      "|    5 |    0.0000 |               192 | bmw  | gas       | std        | four         | sedan      | rwd          | front           |   101.2000 | 176.8000 | 64.8000 | 54.3000 |   2395.0000 | ohc         | four             |    108.0000 | mpfi        | 3.5000 | 2.8000 |                 9 |        101 |     5800 |       23 |          29 | 16925 |\n",
      "+------+-----------+-------------------+------+-----------+------------+--------------+------------+--------------+-----------------+------------+----------+---------+---------+-------------+-------------+------------------+-------------+-------------+--------+--------+-------------------+------------+----------+----------+-------------+-------+\n"
     ]
    }
   ],
   "source": [
    "!mariadb -u root -e \"USE vehicles; SELECT * FROM cars LIMIT 5;\""
   ]
  },
  {
   "cell_type": "markdown",
   "id": "7e905699-777f-4e58-9a22-a105597d47ea",
   "metadata": {},
   "source": [
    "Dada la integración con Python, es posible ejecutar consultas sobre MariaDB e interactuar con funciones de usuario en Python:"
   ]
  },
  {
   "cell_type": "code",
   "execution_count": null,
   "id": "3be2e32f-ae47-47cd-97e8-7d3da684f49e",
   "metadata": {},
   "outputs": [],
   "source": [
    "USE vehicles;\n",
    "SELECT make,\n",
    "fuel_type,\n",
    "num_of_doors,\n",
    "MIN(price) AS min_price,\n",
    "AVG(price) AS avg_price,\n",
    "MAX(price) AS max_price\n",
    "FROM cars\n",
    "GROUP BY fuel_type,num_of_doors,make \n",
    "ORDER BY max_price;"
   ]
  },
  {
   "cell_type": "code",
   "execution_count": 9,
   "id": "49449865-16ef-47b0-9261-c0732bc3b927",
   "metadata": {},
   "outputs": [
    {
     "name": "stdout",
     "output_type": "stream",
     "text": [
      "+---------------+-----------+--------------+-----------+------------+-----------+\n",
      "| make          | fuel_type | num_of_doors | min_price | avg_price  | max_price |\n",
      "+---------------+-----------+--------------+-----------+------------+-----------+\n",
      "| chevrolet     | gas       | two          |      5151 |  5723.0000 |      6295 |\n",
      "| chevrolet     | gas       | four         |      6575 |  6575.0000 |      6575 |\n",
      "| nissan        | diesel    | two          |      7099 |  7099.0000 |      7099 |\n",
      "| subaru        | gas       | two          |      5118 |  6591.3333 |      7603 |\n",
      "| volkswagen    | diesel    | two          |      7775 |  7775.0000 |      7775 |\n",
      "| plymouth      | gas       | two          |      5572 |  6764.5000 |      7957 |\n",
      "| dodge         | gas       | four         |      6229 |  7362.7500 |      8921 |\n",
      "| plymouth      | gas       | four         |      6229 |  7362.7500 |      8921 |\n",
      "| mitsubishi    | gas       | four         |      6989 |  8434.0000 |      9279 |\n",
      "| volkswagen    | diesel    | four         |      7995 |  8745.0000 |      9495 |\n",
      "| mitsubishi    | gas       | two          |      5389 |  7399.0000 |      9959 |\n",
      "| volkswagen    | gas       | two          |      7975 |  8977.5000 |      9980 |\n",
      "| volkswagen    | gas       | four         |      8195 |  8895.0000 |      9995 |\n",
      "| honda         | gas       | two          |      5399 |  7465.7500 |     10345 |\n",
      "| mazda         | gas       | two          |      5195 |  7505.0000 |     10595 |\n",
      "| toyota        | diesel    | four         |      7788 |  8794.6667 |     10698 |\n",
      "| subaru        | gas       | four         |      7126 |  9191.2222 |     11694 |\n",
      "| honda         | gas       | four         |      7295 |  9335.0000 |     12945 |\n",
      "| dodge         | gas       | two          |      5572 |  8217.5000 |     12964 |\n",
      "| nissan        | gas       | four         |      6849 |  9954.5556 |     14399 |\n",
      "| toyota        | gas       | four         |      6488 |  9024.5714 |     15690 |\n",
      "| toyota        | gas       | two          |      5348 | 10562.0000 |     17669 |\n",
      "| peugot        | diesel    | four         |     13200 | 16016.6667 |     17950 |\n",
      "| saab          | gas       | two          |     11850 | 15013.3333 |     18150 |\n",
      "| peugot        | gas       | four         |     11900 | 15565.0000 |     18150 |\n",
      "| mazda         | gas       | four         |      6695 | 10392.5000 |     18280 |\n",
      "| saab          | gas       | four         |     12170 | 15433.3333 |     18620 |\n",
      "| nissan        | gas       | two          |      5499 | 11349.0000 |     19699 |\n",
      "| bmw           | gas       | two          |     16430 | 18700.0000 |     20970 |\n",
      "| bmw           | gas       | four         |     16925 | 19015.0000 |     21105 |\n",
      "| porsche       | gas       | two          |     22018 | 22018.0000 |     22018 |\n",
      "| volvo         | diesel    | four         |     22470 | 22470.0000 |     22470 |\n",
      "| volvo         | gas       | four         |     12940 | 17622.5000 |     22625 |\n",
      "| audi          | gas       | four         |     17450 | 19678.3333 |     23875 |\n",
      "| mercedes-benz | diesel    | two          |     28176 | 28176.0000 |     28176 |\n",
      "| mercedes-benz | diesel    | four         |     25552 | 28466.6667 |     31600 |\n",
      "| jaguar        | gas       | four         |     32250 | 32250.0000 |     32250 |\n",
      "| mercedes-benz | gas       | two          |     35056 | 35056.0000 |     35056 |\n",
      "+---------------+-----------+--------------+-----------+------------+-----------+\n"
     ]
    }
   ],
   "source": [
    "!mariadb -u root -e \"USE vehicles; SELECT make,fuel_type, num_of_doors,MIN(price) AS min_price,AVG(price) AS avg_price,MAX(price) AS max_price FROM cars GROUP BY fuel_type,num_of_doors,make ORDER BY max_price;\""
   ]
  },
  {
   "cell_type": "code",
   "execution_count": 18,
   "id": "0f1ba684-7e98-4187-9f75-46c27f9ff8cd",
   "metadata": {},
   "outputs": [
    {
     "name": "stdout",
     "output_type": "stream",
     "text": [
      "Overwriting /tmp/query_make.sql\n"
     ]
    }
   ],
   "source": [
    "%%writefile /tmp/query_make.sql\n",
    "USE vehicles; \n",
    "SELECT make,fuel_type, num_of_doors,MIN(price) AS min_price,AVG(price) AS avg_price,MAX(price) AS max_price \n",
    "FROM cars \n",
    "WHERE make = {}{}{}\n",
    "GROUP BY fuel_type,num_of_doors,make \n",
    "ORDER BY max_price;"
   ]
  },
  {
   "cell_type": "code",
   "execution_count": 19,
   "id": "9341b544-ab1b-4f1f-96dd-0d6bd1158254",
   "metadata": {},
   "outputs": [],
   "source": [
    "def make_query(make):\n",
    "    file = open(\"/tmp/query_make.sql\", 'r').read()\n",
    "    query = file.format(\"'\",str(make),\"'\")\n",
    "    query_path = \"tmp/query_make_{}.sql\".format(make)\n",
    "    with open(query_path, 'w') as f:\n",
    "        f.write(query)\n",
    "    f.close()\n",
    "    return query_path"
   ]
  },
  {
   "cell_type": "code",
   "execution_count": 20,
   "id": "2b6d4f2b-b365-4421-b9cf-87bd6211d271",
   "metadata": {},
   "outputs": [
    {
     "data": {
      "text/plain": [
       "'tmp/query_make_jaguar.sql'"
      ]
     },
     "execution_count": 20,
     "metadata": {},
     "output_type": "execute_result"
    }
   ],
   "source": [
    "make_query(\"jaguar\")"
   ]
  },
  {
   "cell_type": "code",
   "execution_count": 21,
   "id": "32f2950c-f762-4799-b653-85b300293678",
   "metadata": {},
   "outputs": [
    {
     "data": {
      "text/plain": [
       "'tmp/query_make_mazda.sql'"
      ]
     },
     "execution_count": 21,
     "metadata": {},
     "output_type": "execute_result"
    }
   ],
   "source": [
    "make_query(\"mazda\")"
   ]
  },
  {
   "cell_type": "code",
   "execution_count": 22,
   "id": "1daa3c27-7991-4f31-9157-be99e37456d0",
   "metadata": {},
   "outputs": [
    {
     "data": {
      "text/plain": [
       "'tmp/query_make_toyota.sql'"
      ]
     },
     "execution_count": 22,
     "metadata": {},
     "output_type": "execute_result"
    }
   ],
   "source": [
    "make_query(\"toyota\")"
   ]
  },
  {
   "cell_type": "code",
   "execution_count": 26,
   "id": "382fe814-4afa-4f66-91a8-79728f8cf8c3",
   "metadata": {},
   "outputs": [
    {
     "name": "stdout",
     "output_type": "stream",
     "text": [
      "mariadb  Ver 15.1 Distrib 10.3.34-MariaDB, for debian-linux-gnu (x86_64) using readline 5.2\n",
      "Copyright (c) 2000, 2018, Oracle, MariaDB Corporation Ab and others.\n",
      "\n",
      "Usage: mariadb [OPTIONS] [database]\n",
      "\n",
      "Default options are read from the following files in the given order:\n",
      "/etc/my.cnf /etc/mysql/my.cnf ~/.my.cnf \n",
      "The following groups are read: mysql client client-server client-mariadb\n",
      "The following options may be given as the first argument:\n",
      "--print-defaults          Print the program argument list and exit.\n",
      "--no-defaults             Don't read default options from any option file.\n",
      "The following specify which files/extra groups are read (specified before remaining options):\n",
      "--defaults-file=#         Only read default options from the given file #.\n",
      "--defaults-extra-file=#   Read this file after the global files are read.\n",
      "--defaults-group-suffix=# Additionally read default groups with # appended as a suffix.\n",
      "\n",
      "  -?, --help          Display this help and exit.\n",
      "  -I, --help          Synonym for -?\n",
      "  --abort-source-on-error \n",
      "                      Abort 'source filename' operations in case of errors\n",
      "  --auto-rehash       Enable automatic rehashing. One doesn't need to use\n",
      "                      'rehash' to get table and field completion, but startup\n",
      "                      and reconnecting may take a longer time. Disable with\n",
      "                      --disable-auto-rehash.\n",
      "                      (Defaults to on; use --skip-auto-rehash to disable.)\n",
      "  -A, --no-auto-rehash \n",
      "                      No automatic rehashing. One has to use 'rehash' to get\n",
      "                      table and field completion. This gives a quicker start of\n",
      "                      mysql and disables rehashing on reconnect.\n",
      "  --auto-vertical-output \n",
      "                      Automatically switch to vertical output mode if the\n",
      "                      result is wider than the terminal width.\n",
      "  -B, --batch         Don't use history file. Disable interactive behavior.\n",
      "                      (Enables --silent.)\n",
      "  --binary-as-hex     Print binary data as hex\n",
      "  --character-sets-dir=name \n",
      "                      Directory for character set files.\n",
      "  --column-type-info  Display column type information.\n",
      "  -c, --comments      Preserve comments. Send comments to the server. The\n",
      "                      default is --skip-comments (discard comments), enable\n",
      "                      with --comments.\n",
      "  -C, --compress      Use compression in server/client protocol.\n",
      "  -#, --debug[=#]     This is a non-debug version. Catch this and exit.\n",
      "  --debug-check       Check memory and open file usage at exit.\n",
      "  -T, --debug-info    Print some debug info at exit.\n",
      "  -D, --database=name Database to use.\n",
      "  --default-character-set=name \n",
      "                      Set the default character set.\n",
      "  --delimiter=name    Delimiter to be used.\n",
      "  -e, --execute=name  Execute command and quit. (Disables --force and history\n",
      "                      file.)\n",
      "  -E, --vertical      Print the output of a query (rows) vertically.\n",
      "  -f, --force         Continue even if we get an SQL error. Sets\n",
      "                      abort-source-on-error to 0\n",
      "  -G, --named-commands \n",
      "                      Enable named commands. Named commands mean this program's\n",
      "                      internal commands; see mysql> help . When enabled, the\n",
      "                      named commands can be used from any line of the query,\n",
      "                      otherwise only from the first line, before an enter.\n",
      "                      Disable with --disable-named-commands. This option is\n",
      "                      disabled by default.\n",
      "  -i, --ignore-spaces Ignore space after function names.\n",
      "  --init-command=name SQL Command to execute when connecting to MySQL server.\n",
      "                      Will automatically be re-executed when reconnecting.\n",
      "  --local-infile      Enable/disable LOAD DATA LOCAL INFILE.\n",
      "  -b, --no-beep       Turn off beep on error.\n",
      "  -h, --host=name     Connect to host.\n",
      "  -H, --html          Produce HTML output.\n",
      "  -X, --xml           Produce XML output.\n",
      "  --line-numbers      Write line numbers for errors.\n",
      "                      (Defaults to on; use --skip-line-numbers to disable.)\n",
      "  -L, --skip-line-numbers \n",
      "                      Don't write line number for errors.\n",
      "  -n, --unbuffered    Flush buffer after each query.\n",
      "  --column-names      Write column names in results.\n",
      "                      (Defaults to on; use --skip-column-names to disable.)\n",
      "  -N, --skip-column-names \n",
      "                      Don't write column names in results.\n",
      "  --sigint-ignore     Ignore SIGINT (CTRL-C).\n",
      "  -o, --one-database  Ignore statements except those that occur while the\n",
      "                      default database is the one named at the command line.\n",
      "  --pager[=name]      Pager to use to display results. If you don't supply an\n",
      "                      option, the default pager is taken from your ENV variable\n",
      "                      PAGER. Valid pagers are less, more, cat [> filename],\n",
      "                      etc. See interactive help (\\h) also. This option does not\n",
      "                      work in batch mode. Disable with --disable-pager. This\n",
      "                      option is disabled by default.\n",
      "  -p, --password[=name] \n",
      "                      Password to use when connecting to server. If password is\n",
      "                      not given it's asked from the tty.\n",
      "  -P, --port=#        Port number to use for connection or 0 for default to, in\n",
      "                      order of preference, my.cnf, $MYSQL_TCP_PORT,\n",
      "                      /etc/services, built-in default (3306).\n",
      "  --progress-reports  Get progress reports for long running commands (like\n",
      "                      ALTER TABLE)\n",
      "                      (Defaults to on; use --skip-progress-reports to disable.)\n",
      "  --prompt=name       Set the mysql prompt to this value.\n",
      "  --protocol=name     The protocol to use for connection (tcp, socket, pipe,\n",
      "                      memory).\n",
      "  -q, --quick         Don't cache result, print it row by row. This may slow\n",
      "                      down the server if the output is suspended. Doesn't use\n",
      "                      history file.\n",
      "  -r, --raw           Write fields without conversion. Used with --batch.\n",
      "  --reconnect         Reconnect if the connection is lost. Disable with\n",
      "                      --disable-reconnect. This option is enabled by default.\n",
      "                      (Defaults to on; use --skip-reconnect to disable.)\n",
      "  -s, --silent        Be more silent. Print results with a tab as separator,\n",
      "                      each row on new line.\n",
      "  -S, --socket=name   The socket file to use for connection.\n",
      "  --ssl               Enable SSL for connection (automatically enabled with\n",
      "                      other flags).\n",
      "  --ssl-ca=name       CA file in PEM format (check OpenSSL docs, implies\n",
      "                      --ssl).\n",
      "  --ssl-capath=name   CA directory (check OpenSSL docs, implies --ssl).\n",
      "  --ssl-cert=name     X509 cert in PEM format (implies --ssl).\n",
      "  --ssl-cipher=name   SSL cipher to use (implies --ssl).\n",
      "  --ssl-key=name      X509 key in PEM format (implies --ssl).\n",
      "  --ssl-crl=name      Certificate revocation list (implies --ssl).\n",
      "  --ssl-crlpath=name  Certificate revocation list path (implies --ssl).\n",
      "  --ssl-verify-server-cert \n",
      "                      Verify server's \"Common Name\" in its cert against\n",
      "                      hostname used when connecting. This option is disabled by\n",
      "                      default.\n",
      "  -t, --table         Output in table format.\n",
      "  --tee=name          Append everything into outfile. See interactive help (\\h)\n",
      "                      also. Does not work in batch mode. Disable with\n",
      "                      --disable-tee. This option is disabled by default.\n",
      "  -u, --user=name     User for login if not current user.\n",
      "  -U, --safe-updates  Only allow UPDATE and DELETE that uses keys.\n",
      "  -U, --i-am-a-dummy  Synonym for option --safe-updates, -U.\n",
      "  -v, --verbose       Write more. (-v -v -v gives the table output format).\n",
      "  -V, --version       Output version information and exit.\n",
      "  -w, --wait          Wait and retry if connection is down.\n",
      "  --connect-timeout=# Number of seconds before connection timeout.\n",
      "  --max-allowed-packet=# \n",
      "                      The maximum packet length to send to or receive from\n",
      "                      server.\n",
      "  --net-buffer-length=# \n",
      "                      The buffer size for TCP/IP and socket communication.\n",
      "  --select-limit=#    Automatic limit for SELECT when using --safe-updates.\n",
      "  --max-join-size=#   Automatic limit for rows in a join when using\n",
      "                      --safe-updates.\n",
      "  --secure-auth       Refuse client connecting to server if it uses old\n",
      "                      (pre-4.1.1) protocol.\n",
      "  --server-arg=name   Send embedded server this as a parameter.\n",
      "  --show-warnings     Show warnings after every statement.\n",
      "  --plugin-dir=name   Directory for client-side plugins.\n",
      "  --default-auth=name Default authentication client-side plugin to use.\n",
      "  --binary-mode       Binary mode allows certain character sequences to be\n",
      "                      processed as data that would otherwise be treated with a\n",
      "                      special meaning by the parser. Specifically, this switch\n",
      "                      turns off parsing of all client commands except \\C and\n",
      "                      DELIMITER in non-interactive mode (i.e., when binary mode\n",
      "                      is combined with either 1) piped input, 2) the --batch\n",
      "                      mysql option, or 3) the 'source' command). Also, in\n",
      "                      binary mode, occurrences of '\\r\\n' and ASCII '\\0' are\n",
      "                      preserved within strings, whereas by default, '\\r\\n' is\n",
      "                      translated to '\\n' and '\\0' is disallowed in user input.\n",
      "\n",
      "Variables (--variable-name=value)\n",
      "and boolean options {FALSE|TRUE}  Value (after reading options)\n",
      "--------------------------------- ----------------------------------------\n",
      "abort-source-on-error             FALSE\n",
      "auto-rehash                       TRUE\n",
      "auto-vertical-output              FALSE\n",
      "binary-as-hex                     FALSE\n",
      "character-sets-dir                (No default value)\n",
      "column-type-info                  FALSE\n",
      "comments                          FALSE\n",
      "compress                          FALSE\n",
      "debug-check                       FALSE\n",
      "debug-info                        FALSE\n",
      "database                          (No default value)\n",
      "default-character-set             utf8mb4\n",
      "delimiter                         ;\n",
      "vertical                          FALSE\n",
      "force                             FALSE\n",
      "named-commands                    FALSE\n",
      "ignore-spaces                     FALSE\n",
      "init-command                      (No default value)\n",
      "local-infile                      FALSE\n",
      "no-beep                           FALSE\n",
      "host                              (No default value)\n",
      "html                              FALSE\n",
      "xml                               FALSE\n",
      "line-numbers                      TRUE\n",
      "unbuffered                        FALSE\n",
      "column-names                      TRUE\n",
      "sigint-ignore                     FALSE\n",
      "port                              0\n",
      "progress-reports                  TRUE\n",
      "prompt                            \\N [\\d]> \n",
      "quick                             FALSE\n",
      "raw                               FALSE\n",
      "reconnect                         TRUE\n",
      "socket                            /var/run/mysqld/mysqld.sock\n",
      "ssl                               FALSE\n",
      "ssl-ca                            (No default value)\n",
      "ssl-capath                        (No default value)\n",
      "ssl-cert                          (No default value)\n",
      "ssl-cipher                        (No default value)\n",
      "ssl-key                           (No default value)\n",
      "ssl-crl                           (No default value)\n",
      "ssl-crlpath                       (No default value)\n",
      "ssl-verify-server-cert            FALSE\n",
      "table                             FALSE\n",
      "user                              (No default value)\n",
      "safe-updates                      FALSE\n",
      "i-am-a-dummy                      FALSE\n",
      "connect-timeout                   0\n",
      "max-allowed-packet                16777216\n",
      "net-buffer-length                 16384\n",
      "select-limit                      1000\n",
      "max-join-size                     1000000\n",
      "secure-auth                       FALSE\n",
      "show-warnings                     FALSE\n",
      "plugin-dir                        (No default value)\n",
      "default-auth                      (No default value)\n",
      "binary-mode                       FALSE\n"
     ]
    }
   ],
   "source": [
    "!mariadb --help"
   ]
  },
  {
   "cell_type": "code",
   "execution_count": 23,
   "id": "ea2446e5-fd0c-4d36-b83e-3059a2944f97",
   "metadata": {},
   "outputs": [
    {
     "name": "stdout",
     "output_type": "stream",
     "text": [
      "make\tfuel_type\tnum_of_doors\tmin_price\tavg_price\tmax_price\n",
      "jaguar\tgas\tfour\t32250\t32250.0000\t32250\n"
     ]
    }
   ],
   "source": [
    "!mariadb -u root < tmp/query_make_jaguar.sql > tmp/results_jaguar.csv\n",
    "!cat tmp/results_jaguar.csv"
   ]
  },
  {
   "cell_type": "code",
   "execution_count": null,
   "id": "eb8c5812-7b3c-4952-bd55-2d893dcb3a44",
   "metadata": {},
   "outputs": [],
   "source": []
  },
  {
   "cell_type": "code",
   "execution_count": 24,
   "id": "b2f05860-53a6-40fe-8b94-cb784dd66f09",
   "metadata": {},
   "outputs": [
    {
     "name": "stdout",
     "output_type": "stream",
     "text": [
      "make\tfuel_type\tnum_of_doors\tmin_price\tavg_price\tmax_price\n",
      "mazda\tgas\ttwo\t5195\t7505.0000\t10595\n",
      "mazda\tgas\tfour\t6695\t10392.5000\t18280\n"
     ]
    }
   ],
   "source": [
    "!mariadb -u root < tmp/query_make_mazda.sql > tmp/results_mazda.csv\n",
    "!cat tmp/results_mazda.csv"
   ]
  },
  {
   "cell_type": "code",
   "execution_count": 25,
   "id": "932b4bda-f964-4487-bf79-0493841c67ad",
   "metadata": {},
   "outputs": [
    {
     "name": "stdout",
     "output_type": "stream",
     "text": [
      "make\tfuel_type\tnum_of_doors\tmin_price\tavg_price\tmax_price\n",
      "toyota\tdiesel\tfour\t7788\t8794.6667\t10698\n",
      "toyota\tgas\tfour\t6488\t9024.5714\t15690\n",
      "toyota\tgas\ttwo\t5348\t10562.0000\t17669\n"
     ]
    }
   ],
   "source": [
    "!mariadb -u root < tmp/query_make_toyota.sql > tmp/results_toyota.csv\n",
    "!cat tmp/results_toyota.csv"
   ]
  },
  {
   "cell_type": "markdown",
   "id": "8871486a-9fc0-4d2e-a0f8-e34675e7b699",
   "metadata": {},
   "source": [
    "**Operaciones de ventana**"
   ]
  },
  {
   "cell_type": "code",
   "execution_count": 18,
   "id": "9ac918db-39a6-4f56-8ef5-f37c145eefde",
   "metadata": {},
   "outputs": [
    {
     "name": "stdout",
     "output_type": "stream",
     "text": [
      "Overwriting /tmp/mariadb_window_func_1.sql\n"
     ]
    }
   ],
   "source": [
    "%%writefile /tmp/mariadb_window_func_1.sql\n",
    "USE vehicles;\n",
    "SELECT \n",
    "RANK() OVER (PARTITION BY engine_location ORDER BY aspiration DESC) AS rank, \n",
    "DENSE_RANK() OVER (PARTITION BY engine_location ORDER BY aspiration DESC) AS dense_rank, \n",
    "ROW_NUMBER() OVER (PARTITION BY engine_location ORDER BY aspiration DESC) AS row_num,\n",
    "engine_location, aspiration\n",
    "FROM cars;"
   ]
  },
  {
   "cell_type": "code",
   "execution_count": 19,
   "id": "0d66ccdb-7c72-44c6-9114-75ed82a0243d",
   "metadata": {},
   "outputs": [
    {
     "name": "stdout",
     "output_type": "stream",
     "text": [
      "rank\tdense_rank\trow_num\tengine_location\taspiration\n",
      "1\t1\t1\tfront\tturbo\n",
      "1\t1\t2\tfront\tturbo\n",
      "1\t1\t3\tfront\tturbo\n",
      "1\t1\t4\tfront\tturbo\n",
      "1\t1\t5\tfront\tturbo\n",
      "1\t1\t6\tfront\tturbo\n",
      "1\t1\t7\tfront\tturbo\n",
      "1\t1\t8\tfront\tturbo\n",
      "1\t1\t9\tfront\tturbo\n",
      "1\t1\t10\tfront\tturbo\n",
      "1\t1\t11\tfront\tturbo\n",
      "1\t1\t12\tfront\tturbo\n",
      "1\t1\t13\tfront\tturbo\n",
      "1\t1\t14\tfront\tturbo\n",
      "1\t1\t15\tfront\tturbo\n",
      "1\t1\t16\tfront\tturbo\n",
      "1\t1\t17\tfront\tturbo\n",
      "1\t1\t18\tfront\tturbo\n",
      "1\t1\t19\tfront\tturbo\n",
      "1\t1\t20\tfront\tturbo\n",
      "1\t1\t21\tfront\tturbo\n",
      "1\t1\t22\tfront\tturbo\n",
      "1\t1\t23\tfront\tturbo\n",
      "1\t1\t24\tfront\tturbo\n",
      "1\t1\t25\tfront\tturbo\n",
      "1\t1\t26\tfront\tturbo\n",
      "1\t1\t27\tfront\tturbo\n",
      "28\t2\t28\tfront\tstd\n",
      "28\t2\t29\tfront\tstd\n",
      "28\t2\t30\tfront\tstd\n",
      "28\t2\t31\tfront\tstd\n",
      "28\t2\t32\tfront\tstd\n",
      "28\t2\t33\tfront\tstd\n",
      "28\t2\t34\tfront\tstd\n",
      "28\t2\t35\tfront\tstd\n",
      "28\t2\t36\tfront\tstd\n",
      "28\t2\t37\tfront\tstd\n",
      "28\t2\t38\tfront\tstd\n",
      "28\t2\t39\tfront\tstd\n",
      "28\t2\t40\tfront\tstd\n",
      "28\t2\t41\tfront\tstd\n",
      "28\t2\t42\tfront\tstd\n",
      "28\t2\t43\tfront\tstd\n",
      "28\t2\t44\tfront\tstd\n",
      "28\t2\t45\tfront\tstd\n",
      "28\t2\t46\tfront\tstd\n",
      "28\t2\t47\tfront\tstd\n",
      "28\t2\t48\tfront\tstd\n",
      "28\t2\t49\tfront\tstd\n",
      "28\t2\t50\tfront\tstd\n",
      "28\t2\t51\tfront\tstd\n",
      "28\t2\t52\tfront\tstd\n",
      "28\t2\t53\tfront\tstd\n",
      "28\t2\t54\tfront\tstd\n",
      "28\t2\t55\tfront\tstd\n",
      "28\t2\t56\tfront\tstd\n",
      "28\t2\t57\tfront\tstd\n",
      "28\t2\t58\tfront\tstd\n",
      "28\t2\t59\tfront\tstd\n",
      "28\t2\t60\tfront\tstd\n",
      "28\t2\t61\tfront\tstd\n",
      "28\t2\t62\tfront\tstd\n",
      "28\t2\t63\tfront\tstd\n",
      "28\t2\t64\tfront\tstd\n",
      "28\t2\t65\tfront\tstd\n",
      "28\t2\t66\tfront\tstd\n",
      "28\t2\t67\tfront\tstd\n",
      "28\t2\t68\tfront\tstd\n",
      "28\t2\t69\tfront\tstd\n",
      "28\t2\t70\tfront\tstd\n",
      "28\t2\t71\tfront\tstd\n",
      "28\t2\t72\tfront\tstd\n",
      "28\t2\t73\tfront\tstd\n",
      "28\t2\t74\tfront\tstd\n",
      "28\t2\t75\tfront\tstd\n",
      "28\t2\t76\tfront\tstd\n",
      "28\t2\t77\tfront\tstd\n",
      "28\t2\t78\tfront\tstd\n",
      "28\t2\t79\tfront\tstd\n",
      "28\t2\t80\tfront\tstd\n",
      "28\t2\t81\tfront\tstd\n",
      "28\t2\t82\tfront\tstd\n",
      "28\t2\t83\tfront\tstd\n",
      "28\t2\t84\tfront\tstd\n",
      "28\t2\t85\tfront\tstd\n",
      "28\t2\t86\tfront\tstd\n",
      "28\t2\t87\tfront\tstd\n",
      "28\t2\t88\tfront\tstd\n",
      "28\t2\t89\tfront\tstd\n",
      "28\t2\t90\tfront\tstd\n",
      "28\t2\t91\tfront\tstd\n",
      "28\t2\t92\tfront\tstd\n",
      "28\t2\t93\tfront\tstd\n",
      "28\t2\t94\tfront\tstd\n",
      "28\t2\t95\tfront\tstd\n",
      "28\t2\t96\tfront\tstd\n",
      "28\t2\t97\tfront\tstd\n",
      "28\t2\t98\tfront\tstd\n",
      "28\t2\t99\tfront\tstd\n",
      "28\t2\t100\tfront\tstd\n",
      "28\t2\t101\tfront\tstd\n",
      "28\t2\t102\tfront\tstd\n",
      "28\t2\t103\tfront\tstd\n",
      "28\t2\t104\tfront\tstd\n",
      "28\t2\t105\tfront\tstd\n",
      "28\t2\t106\tfront\tstd\n",
      "28\t2\t107\tfront\tstd\n",
      "28\t2\t108\tfront\tstd\n",
      "28\t2\t109\tfront\tstd\n",
      "28\t2\t110\tfront\tstd\n",
      "28\t2\t111\tfront\tstd\n",
      "28\t2\t112\tfront\tstd\n",
      "28\t2\t113\tfront\tstd\n",
      "28\t2\t114\tfront\tstd\n",
      "28\t2\t115\tfront\tstd\n",
      "28\t2\t116\tfront\tstd\n",
      "28\t2\t117\tfront\tstd\n",
      "28\t2\t118\tfront\tstd\n",
      "28\t2\t119\tfront\tstd\n",
      "28\t2\t120\tfront\tstd\n",
      "28\t2\t121\tfront\tstd\n",
      "28\t2\t122\tfront\tstd\n",
      "28\t2\t123\tfront\tstd\n",
      "28\t2\t124\tfront\tstd\n",
      "28\t2\t125\tfront\tstd\n",
      "28\t2\t126\tfront\tstd\n",
      "28\t2\t127\tfront\tstd\n",
      "28\t2\t128\tfront\tstd\n",
      "28\t2\t129\tfront\tstd\n",
      "28\t2\t130\tfront\tstd\n",
      "28\t2\t131\tfront\tstd\n",
      "28\t2\t132\tfront\tstd\n",
      "28\t2\t133\tfront\tstd\n",
      "28\t2\t134\tfront\tstd\n",
      "28\t2\t135\tfront\tstd\n",
      "28\t2\t136\tfront\tstd\n",
      "28\t2\t137\tfront\tstd\n",
      "28\t2\t138\tfront\tstd\n",
      "28\t2\t139\tfront\tstd\n",
      "28\t2\t140\tfront\tstd\n",
      "28\t2\t141\tfront\tstd\n",
      "28\t2\t142\tfront\tstd\n",
      "28\t2\t143\tfront\tstd\n",
      "28\t2\t144\tfront\tstd\n",
      "28\t2\t145\tfront\tstd\n",
      "28\t2\t146\tfront\tstd\n",
      "28\t2\t147\tfront\tstd\n",
      "28\t2\t148\tfront\tstd\n",
      "28\t2\t149\tfront\tstd\n",
      "28\t2\t150\tfront\tstd\n",
      "28\t2\t151\tfront\tstd\n",
      "28\t2\t152\tfront\tstd\n",
      "28\t2\t153\tfront\tstd\n",
      "28\t2\t154\tfront\tstd\n",
      "28\t2\t155\tfront\tstd\n",
      "28\t2\t156\tfront\tstd\n",
      "28\t2\t157\tfront\tstd\n",
      "28\t2\t158\tfront\tstd\n"
     ]
    }
   ],
   "source": [
    "!mariadb -u root < /tmp/mariadb_window_func_1.sql"
   ]
  },
  {
   "cell_type": "code",
   "execution_count": 20,
   "id": "b7707d22-02dc-464b-bb2f-47aab9eaf741",
   "metadata": {},
   "outputs": [
    {
     "name": "stdout",
     "output_type": "stream",
     "text": [
      "Overwriting /tmp/mariadb_window_func_2.sql\n"
     ]
    }
   ],
   "source": [
    "%%writefile /tmp/mariadb_window_func_2.sql\n",
    "USE vehicles;\n",
    "SELECT \n",
    "Id, drive_wheels, price,\n",
    "LAG(price,1) OVER (ORDER BY price) AS price_lag\n",
    "FROM cars;"
   ]
  },
  {
   "cell_type": "code",
   "execution_count": 21,
   "id": "c19298bf-7fc0-436f-919d-5129b945862a",
   "metadata": {},
   "outputs": [
    {
     "name": "stdout",
     "output_type": "stream",
     "text": [
      "Id\tdrive_wheels\tprice\tprice_lag\n",
      "97\tfwd\t5118\tNULL\n",
      "8\tfwd\t5151\t5118\n",
      "33\tfwd\t5195\t5151\n",
      "109\tfwd\t5348\t5195\n",
      "49\tfwd\t5389\t5348\n",
      "21\tfwd\t5399\t5389\n",
      "59\tfwd\t5499\t5399\n",
      "84\tfwd\t5572\t5499\n",
      "11\tfwd\t5572\t5572\n",
      "34\tfwd\t6095\t5572\n",
      "50\tfwd\t6189\t6095\n",
      "14\tfwd\t6229\t6189\n",
      "86\tfwd\t6229\t6229\n",
      "9\tfwd\t6295\t6229\n",
      "110\tfwd\t6338\t6295\n",
      "12\tfwd\t6377\t6338\n",
      "19\tfwd\t6479\t6377\n",
      "111\tfwd\t6488\t6479\n",
      "22\tfwd\t6529\t6488\n",
      "10\tfwd\t6575\t6529\n",
      "61\tfwd\t6649\t6575\n",
      "51\tfwd\t6669\t6649\n",
      "15\tfwd\t6692\t6669\n",
      "87\tfwd\t6692\t6692\n",
      "36\tfwd\t6695\t6692\n",
      "35\tfwd\t6795\t6695\n",
      "62\tfwd\t6849\t6795\n",
      "20\tfwd\t6855\t6849\n",
      "112\tfwd\t6918\t6855\n",
      "115\tfwd\t6938\t6918\n",
      "55\tfwd\t6989\t6938\n",
      "98\tfwd\t7053\t6989\n",
      "60\tfwd\t7099\t7053\n",
      "100\tfwd\t7126\t7099\n",
      "23\tfwd\t7129\t7126\n",
      "116\tfwd\t7198\t7129\n",
      "24\tfwd\t7295\t7198\n",
      "25\tfwd\t7295\t7295\n",
      "64\tfwd\t7299\t7295\n",
      "63\tfwd\t7349\t7299\n",
      "37\tfwd\t7395\t7349\n",
      "105\tfwd\t7463\t7395\n",
      "66\tfwd\t7499\t7463\n",
      "99\t4wd\t7603\t7499\n",
      "88\tfwd\t7609\t7603\n",
      "16\tfwd\t7609\t7609\n",
      "52\tfwd\t7689\t7609\n",
      "119\tfwd\t7738\t7689\n",
      "140\tfwd\t7775\t7738\n",
      "101\tfwd\t7775\t7775\n",
      "118\tfwd\t7788\t7775\n",
      "65\tfwd\t7799\t7788\n",
      "26\tfwd\t7895\t7799\n",
      "113\t4wd\t7898\t7895\n",
      "117\tfwd\t7898\t7898\n",
      "13\tfwd\t7957\t7898\n",
      "85\tfwd\t7957\t7957\n",
      "141\tfwd\t7975\t7957\n",
      "142\tfwd\t7995\t7975\n",
      "67\tfwd\t7999\t7995\n",
      "107\t4wd\t8013\t7999\n",
      "122\trwd\t8058\t8013\n",
      "56\tfwd\t8189\t8058\n",
      "143\tfwd\t8195\t8189\n",
      "123\trwd\t8238\t8195\n",
      "68\tfwd\t8249\t8238\n",
      "120\tfwd\t8358\t8249\n",
      "126\trwd\t8449\t8358\n",
      "39\tfwd\t8495\t8449\n",
      "144\tfwd\t8495\t8495\n",
      "54\tfwd\t8499\t8495\n",
      "114\t4wd\t8778\t8499\n",
      "28\tfwd\t8845\t8778\n",
      "38\tfwd\t8845\t8845\n",
      "17\tfwd\t8921\t8845\n",
      "89\tfwd\t8921\t8921\n",
      "132\tfwd\t8948\t8921\n",
      "69\tfwd\t8949\t8948\n",
      "27\tfwd\t9095\t8949\n",
      "103\t4wd\t9233\t9095\n",
      "121\tfwd\t9258\t9233\n",
      "57\tfwd\t9279\t9258\n",
      "58\tfwd\t9279\t9279\n",
      "124\trwd\t9298\t9279\n",
      "145\tfwd\t9495\t9298\n",
      "125\trwd\t9538\t9495\n",
      "70\tfwd\t9549\t9538\n",
      "127\trwd\t9639\t9549\n",
      "53\tfwd\t9959\t9639\n",
      "102\tfwd\t9960\t9959\n",
      "147\tfwd\t9980\t9960\n",
      "134\tfwd\t9988\t9980\n",
      "128\trwd\t9989\t9988\n",
      "146\tfwd\t9995\t9989\n",
      "106\tfwd\t10198\t9995\n",
      "41\tfwd\t10245\t10198\n",
      "29\tfwd\t10295\t10245\n",
      "31\tfwd\t10345\t10295\n",
      "40\tfwd\t10595\t10345\n",
      "133\tfwd\t10698\t10595\n",
      "135\tfwd\t10898\t10698\n",
      "129\trwd\t11199\t10898\n",
      "42\tfwd\t11245\t11199\n",
      "136\tfwd\t11248\t11245\n",
      "104\t4wd\t11259\t11248\n",
      "130\trwd\t11549\t11259\n",
      "108\t4wd\t11694\t11549\n",
      "91\tfwd\t11850\t11694\n",
      "77\trwd\t11900\t11850\n",
      "92\tfwd\t12170\t11900\n",
      "148\trwd\t12940\t12170\n",
      "30\tfwd\t12945\t12940\n",
      "18\tfwd\t12964\t12945\n",
      "78\trwd\t13200\t12964\n",
      "149\trwd\t13415\t13200\n",
      "73\tfwd\t13499\t13415\n",
      "71\tfwd\t13499\t13499\n",
      "72\tfwd\t14399\t13499\n",
      "93\tfwd\t15040\t14399\n",
      "94\tfwd\t15510\t15040\n",
      "79\trwd\t15580\t15510\n",
      "139\trwd\t15690\t15580\n",
      "150\trwd\t15985\t15690\n",
      "138\trwd\t15998\t15985\n",
      "4\trwd\t16430\t15998\n",
      "151\trwd\t16515\t16430\n",
      "137\trwd\t16558\t16515\n",
      "81\trwd\t16630\t16558\n",
      "154\trwd\t16845\t16630\n",
      "80\trwd\t16900\t16845\n",
      "5\trwd\t16925\t16900\n",
      "74\trwd\t17199\t16925\n",
      "1\t4wd\t17450\t17199\n",
      "131\trwd\t17669\t17450\n",
      "2\tfwd\t17710\t17669\n",
      "82\trwd\t17950\t17710\n",
      "83\trwd\t18150\t17950\n",
      "95\tfwd\t18150\t18150\n",
      "43\trwd\t18280\t18150\n",
      "76\trwd\t18399\t18280\n",
      "152\trwd\t18420\t18399\n",
      "96\tfwd\t18620\t18420\n",
      "153\trwd\t18950\t18620\n",
      "155\trwd\t19045\t18950\n",
      "75\trwd\t19699\t19045\n",
      "6\trwd\t20970\t19699\n",
      "7\trwd\t21105\t20970\n",
      "156\trwd\t21485\t21105\n",
      "90\trwd\t22018\t21485\n",
      "157\trwd\t22470\t22018\n",
      "158\trwd\t22625\t22470\n",
      "3\tfwd\t23875\t22625\n",
      "44\trwd\t25552\t23875\n",
      "46\trwd\t28176\t25552\n",
      "45\trwd\t28248\t28176\n",
      "47\trwd\t31600\t28248\n",
      "32\trwd\t32250\t31600\n",
      "48\trwd\t35056\t32250\n"
     ]
    }
   ],
   "source": [
    "!mariadb -u root < /tmp/mariadb_window_func_2.sql"
   ]
  },
  {
   "cell_type": "markdown",
   "id": "1676c16b",
   "metadata": {},
   "source": [
    "---"
   ]
  }
 ],
 "metadata": {
  "kernelspec": {
   "display_name": "Python 3 (ipykernel)",
   "language": "python",
   "name": "python3"
  },
  "language_info": {
   "codemirror_mode": {
    "name": "ipython",
    "version": 3
   },
   "file_extension": ".py",
   "mimetype": "text/x-python",
   "name": "python",
   "nbconvert_exporter": "python",
   "pygments_lexer": "ipython3",
   "version": "3.8.10"
  }
 },
 "nbformat": 4,
 "nbformat_minor": 5
}
