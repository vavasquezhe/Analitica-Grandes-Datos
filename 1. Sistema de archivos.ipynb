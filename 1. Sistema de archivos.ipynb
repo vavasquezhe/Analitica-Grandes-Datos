{
 "cells": [
  {
   "cell_type": "markdown",
   "id": "6e36dbf9-bc65-42a2-8682-ed38fe6de8f1",
   "metadata": {
    "tags": []
   },
   "source": [
    "# Intro Linux: Sistemas de archivos y help\n",
    "---"
   ]
  },
  {
   "cell_type": "markdown",
   "id": "32afd4dc-294e-4f97-9a03-a2d2dfabba84",
   "metadata": {
    "tags": []
   },
   "source": [
    "## Analítica de Grandes Datos\n",
    "* ##### Facultad de Minas\n",
    "* ##### Universidad Nacional de Colombia\n",
    "* ##### Autor: Valentina Vásquez Hernandez"
   ]
  },
  {
   "cell_type": "markdown",
   "id": "86bb679c-265b-4002-9e1d-4e7335bc910b",
   "metadata": {},
   "source": [
    "![alt text](memes/meme1.png \"Title\")"
   ]
  },
  {
   "cell_type": "markdown",
   "id": "4c266e7d-191d-4ee4-9308-5ff2f9d8ab95",
   "metadata": {},
   "source": [
    "---"
   ]
  },
  {
   "cell_type": "markdown",
   "id": "b6773e0a-7ccc-4761-87fd-35a446670bd1",
   "metadata": {},
   "source": [
    "### 1. ¿Qué es una ruta?"
   ]
  },
  {
   "cell_type": "markdown",
   "id": "ef6b2354-8d80-4c53-814d-6b03cd73fb1c",
   "metadata": {},
   "source": [
    "Tanto Linux como Windows y MacOs, funcionan a través de archivos y árbol de directorios. Para poder modificar o crear un archivos, ya sea a traves de una GUI o desde el Terminal, debemos conocer en qué parte del árbol nos encontramos y hacia dónde queremos movernos para hacer cambios. Existen dos tipos de rutas: \n",
    "\n",
    "* **Ruta absoluta**: contiene la raiz del arbol de archivos y finaliza con la ubicacion actual o deseada\n",
    "* **Ruta relativa**: obvia la raiz del arbol de archivos y finaliza con la ubicacion actual o deseada"
   ]
  },
  {
   "cell_type": "code",
   "execution_count": 1,
   "id": "43d4085f-fb54-4517-9a50-e26898b1df42",
   "metadata": {},
   "outputs": [
    {
     "name": "stdout",
     "output_type": "stream",
     "text": [
      "Reading package lists... Done\n",
      "Building dependency tree       \n",
      "Reading state information... Done\n",
      "tree is already the newest version (1.8.0-1).\n",
      "0 upgraded, 0 newly installed, 0 to remove and 0 not upgraded.\n"
     ]
    }
   ],
   "source": [
    "!apt-get install tree"
   ]
  },
  {
   "cell_type": "code",
   "execution_count": 2,
   "id": "cccb7a4b-053e-43a2-8caf-111597679dde",
   "metadata": {},
   "outputs": [
    {
     "name": "stdout",
     "output_type": "stream",
     "text": [
      "memes\n",
      "├── Recursive.jpg\n",
      "├── meme1.png\n",
      "├── meme2.png\n",
      "├── meme3.jpeg\n",
      "└── meme4.webp\n",
      "\n",
      "0 directories, 5 files\n"
     ]
    }
   ],
   "source": [
    "%%bash \n",
    "tree memes"
   ]
  },
  {
   "cell_type": "code",
   "execution_count": 3,
   "id": "548c32ce-abe8-4b9a-9592-2a636c0d8886",
   "metadata": {},
   "outputs": [
    {
     "name": "stdout",
     "output_type": "stream",
     "text": [
      "/workspace/Desktop/Maestría [error opening dir]\n",
      "Ingeniería [error opening dir]\n",
      "- [error opening dir]\n",
      "Analítica/2022-01_Monitoria_AnaliticaGrandesDatos [error opening dir]\n",
      "\n",
      "0 directories, 0 files\n"
     ]
    }
   ],
   "source": [
    "%%bash\n",
    "tree /workspace/Desktop/Maestría Ingeniería - Analítica/2022-01_Monitoria_AnaliticaGrandesDatos"
   ]
  },
  {
   "cell_type": "code",
   "execution_count": 4,
   "id": "ec41eb93-f75a-4548-9927-5826fc1e1c20",
   "metadata": {},
   "outputs": [
    {
     "name": "stdout",
     "output_type": "stream",
     "text": [
      "/workspace/Desktop/Maestría Ingeniería - Analítica/2022-01_Monitoria_AnaliticaGrandesDatos\n",
      "└── Taller_1_IntroLinux\n",
      "    ├── 0. Conceptos básicos 2.ipynb\n",
      "    ├── 1. Sistema de archivos.ipynb\n",
      "    ├── 2. Manejo de archivos planos.ipynb\n",
      "    ├── data\n",
      "    │   └── pacientes.txt\n",
      "    ├── memes\n",
      "    │   ├── Recursive.jpg\n",
      "    │   ├── meme1.png\n",
      "    │   ├── meme2.png\n",
      "    │   ├── meme3.jpeg\n",
      "    │   └── meme4.webp\n",
      "    ├── out.1\n",
      "    └── out.2\n",
      "\n",
      "3 directories, 11 files\n"
     ]
    }
   ],
   "source": [
    "%%bash\n",
    "tree /workspace/Desktop/\"Maestría Ingeniería - Analítica\"/2022-01_Monitoria_AnaliticaGrandesDatos"
   ]
  },
  {
   "cell_type": "code",
   "execution_count": 5,
   "id": "2f3496c4-3d85-4ecf-b265-e6d18efb565d",
   "metadata": {},
   "outputs": [
    {
     "name": "stdout",
     "output_type": "stream",
     "text": [
      "/workspace/Downloads/archive\n",
      "├── energy_dataset.csv\n",
      "└── weather_features.csv\n",
      "\n",
      "0 directories, 2 files\n"
     ]
    }
   ],
   "source": [
    "%%bash\n",
    "tree /workspace/Downloads/archive"
   ]
  },
  {
   "cell_type": "markdown",
   "id": "dfa50259-b8a8-4fc7-95a7-5007ce432249",
   "metadata": {},
   "source": [
    "### 2. ¿Ayuda?"
   ]
  },
  {
   "cell_type": "markdown",
   "id": "12cf8bc7-690e-4f95-afce-d11c020a4d7f",
   "metadata": {},
   "source": [
    "Para utilizar comandos en BASH es importante acceder a la documentación oficial. Desde la linea de comandos, se accede a la documentación a través del comando`help`."
   ]
  },
  {
   "cell_type": "code",
   "execution_count": 6,
   "id": "b8b1b38b-2e79-49cf-a1e8-f5d2f4a4326a",
   "metadata": {},
   "outputs": [
    {
     "name": "stdout",
     "output_type": "stream",
     "text": [
      "apt 2.0.6 (amd64)\n",
      "Usage: apt-get [options] command\n",
      "       apt-get [options] install|remove pkg1 [pkg2 ...]\n",
      "       apt-get [options] source pkg1 [pkg2 ...]\n",
      "\n",
      "apt-get is a command line interface for retrieval of packages\n",
      "and information about them from authenticated sources and\n",
      "for installation, upgrade and removal of packages together\n",
      "with their dependencies.\n",
      "\n",
      "Most used commands:\n",
      "  update - Retrieve new lists of packages\n",
      "  upgrade - Perform an upgrade\n",
      "  install - Install new packages (pkg is libc6 not libc6.deb)\n",
      "  reinstall - Reinstall packages (pkg is libc6 not libc6.deb)\n",
      "  remove - Remove packages\n",
      "  purge - Remove packages and config files\n",
      "  autoremove - Remove automatically all unused packages\n",
      "  dist-upgrade - Distribution upgrade, see apt-get(8)\n",
      "  dselect-upgrade - Follow dselect selections\n",
      "  build-dep - Configure build-dependencies for source packages\n",
      "  satisfy - Satisfy dependency strings\n",
      "  clean - Erase downloaded archive files\n",
      "  autoclean - Erase old downloaded archive files\n",
      "  check - Verify that there are no broken dependencies\n",
      "  source - Download source archives\n",
      "  download - Download the binary package into the current directory\n",
      "  changelog - Download and display the changelog for the given package\n",
      "\n",
      "See apt-get(8) for more information about the available commands.\n",
      "Configuration options and syntax is detailed in apt.conf(5).\n",
      "Information about how to configure sources can be found in sources.list(5).\n",
      "Package and version choices can be expressed via apt_preferences(5).\n",
      "Security details are available in apt-secure(8).\n",
      "                                        This APT has Super Cow Powers.\n"
     ]
    }
   ],
   "source": [
    "%%bash\n",
    "apt-get --help"
   ]
  },
  {
   "cell_type": "code",
   "execution_count": 7,
   "id": "cab984b9-3439-439e-9d8c-4abec058133c",
   "metadata": {},
   "outputs": [
    {
     "name": "stdout",
     "output_type": "stream",
     "text": [
      "Usage: ls [OPTION]... [FILE]...\n",
      "List information about the FILEs (the current directory by default).\n",
      "Sort entries alphabetically if none of -cftuvSUX nor --sort is specified.\n",
      "\n",
      "Mandatory arguments to long options are mandatory for short options too.\n",
      "  -a, --all                  do not ignore entries starting with .\n",
      "  -A, --almost-all           do not list implied . and ..\n",
      "      --author               with -l, print the author of each file\n",
      "  -b, --escape               print C-style escapes for nongraphic characters\n",
      "      --block-size=SIZE      with -l, scale sizes by SIZE when printing them;\n",
      "                               e.g., '--block-size=M'; see SIZE format below\n",
      "  -B, --ignore-backups       do not list implied entries ending with ~\n",
      "  -c                         with -lt: sort by, and show, ctime (time of last\n",
      "                               modification of file status information);\n",
      "                               with -l: show ctime and sort by name;\n",
      "                               otherwise: sort by ctime, newest first\n",
      "  -C                         list entries by columns\n",
      "      --color[=WHEN]         colorize the output; WHEN can be 'always' (default\n",
      "                               if omitted), 'auto', or 'never'; more info below\n",
      "  -d, --directory            list directories themselves, not their contents\n",
      "  -D, --dired                generate output designed for Emacs' dired mode\n",
      "  -f                         do not sort, enable -aU, disable -ls --color\n",
      "  -F, --classify             append indicator (one of */=>@|) to entries\n",
      "      --file-type            likewise, except do not append '*'\n",
      "      --format=WORD          across -x, commas -m, horizontal -x, long -l,\n",
      "                               single-column -1, verbose -l, vertical -C\n",
      "      --full-time            like -l --time-style=full-iso\n",
      "  -g                         like -l, but do not list owner\n",
      "      --group-directories-first\n",
      "                             group directories before files;\n",
      "                               can be augmented with a --sort option, but any\n",
      "                               use of --sort=none (-U) disables grouping\n",
      "  -G, --no-group             in a long listing, don't print group names\n",
      "  -h, --human-readable       with -l and -s, print sizes like 1K 234M 2G etc.\n",
      "      --si                   likewise, but use powers of 1000 not 1024\n",
      "  -H, --dereference-command-line\n",
      "                             follow symbolic links listed on the command line\n",
      "      --dereference-command-line-symlink-to-dir\n",
      "                             follow each command line symbolic link\n",
      "                               that points to a directory\n",
      "      --hide=PATTERN         do not list implied entries matching shell PATTERN\n",
      "                               (overridden by -a or -A)\n",
      "      --hyperlink[=WHEN]     hyperlink file names; WHEN can be 'always'\n",
      "                               (default if omitted), 'auto', or 'never'\n",
      "      --indicator-style=WORD  append indicator with style WORD to entry names:\n",
      "                               none (default), slash (-p),\n",
      "                               file-type (--file-type), classify (-F)\n",
      "  -i, --inode                print the index number of each file\n",
      "  -I, --ignore=PATTERN       do not list implied entries matching shell PATTERN\n",
      "  -k, --kibibytes            default to 1024-byte blocks for disk usage;\n",
      "                               used only with -s and per directory totals\n",
      "  -l                         use a long listing format\n",
      "  -L, --dereference          when showing file information for a symbolic\n",
      "                               link, show information for the file the link\n",
      "                               references rather than for the link itself\n",
      "  -m                         fill width with a comma separated list of entries\n",
      "  -n, --numeric-uid-gid      like -l, but list numeric user and group IDs\n",
      "  -N, --literal              print entry names without quoting\n",
      "  -o                         like -l, but do not list group information\n",
      "  -p, --indicator-style=slash\n",
      "                             append / indicator to directories\n",
      "  -q, --hide-control-chars   print ? instead of nongraphic characters\n",
      "      --show-control-chars   show nongraphic characters as-is (the default,\n",
      "                               unless program is 'ls' and output is a terminal)\n",
      "  -Q, --quote-name           enclose entry names in double quotes\n",
      "      --quoting-style=WORD   use quoting style WORD for entry names:\n",
      "                               literal, locale, shell, shell-always,\n",
      "                               shell-escape, shell-escape-always, c, escape\n",
      "                               (overrides QUOTING_STYLE environment variable)\n",
      "  -r, --reverse              reverse order while sorting\n",
      "  -R, --recursive            list subdirectories recursively\n",
      "  -s, --size                 print the allocated size of each file, in blocks\n",
      "  -S                         sort by file size, largest first\n",
      "      --sort=WORD            sort by WORD instead of name: none (-U), size (-S),\n",
      "                               time (-t), version (-v), extension (-X)\n",
      "      --time=WORD            with -l, show time as WORD instead of default\n",
      "                               modification time: atime or access or use (-u);\n",
      "                               ctime or status (-c); also use specified time\n",
      "                               as sort key if --sort=time (newest first)\n",
      "      --time-style=TIME_STYLE  time/date format with -l; see TIME_STYLE below\n",
      "  -t                         sort by modification time, newest first\n",
      "  -T, --tabsize=COLS         assume tab stops at each COLS instead of 8\n",
      "  -u                         with -lt: sort by, and show, access time;\n",
      "                               with -l: show access time and sort by name;\n",
      "                               otherwise: sort by access time, newest first\n",
      "  -U                         do not sort; list entries in directory order\n",
      "  -v                         natural sort of (version) numbers within text\n",
      "  -w, --width=COLS           set output width to COLS.  0 means no limit\n",
      "  -x                         list entries by lines instead of by columns\n",
      "  -X                         sort alphabetically by entry extension\n",
      "  -Z, --context              print any security context of each file\n",
      "  -1                         list one file per line.  Avoid '\\n' with -q or -b\n",
      "      --help     display this help and exit\n",
      "      --version  output version information and exit\n",
      "\n",
      "The SIZE argument is an integer and optional unit (example: 10K is 10*1024).\n",
      "Units are K,M,G,T,P,E,Z,Y (powers of 1024) or KB,MB,... (powers of 1000).\n",
      "\n",
      "The TIME_STYLE argument can be full-iso, long-iso, iso, locale, or +FORMAT.\n",
      "FORMAT is interpreted like in date(1).  If FORMAT is FORMAT1<newline>FORMAT2,\n",
      "then FORMAT1 applies to non-recent files and FORMAT2 to recent files.\n",
      "TIME_STYLE prefixed with 'posix-' takes effect only outside the POSIX locale.\n",
      "Also the TIME_STYLE environment variable sets the default style to use.\n",
      "\n",
      "Using color to distinguish file types is disabled both by default and\n",
      "with --color=never.  With --color=auto, ls emits color codes only when\n",
      "standard output is connected to a terminal.  The LS_COLORS environment\n",
      "variable can change the settings.  Use the dircolors command to set it.\n",
      "\n",
      "Exit status:\n",
      " 0  if OK,\n",
      " 1  if minor problems (e.g., cannot access subdirectory),\n",
      " 2  if serious trouble (e.g., cannot access command-line argument).\n",
      "\n",
      "GNU coreutils online help: <https://www.gnu.org/software/coreutils/>\n",
      "Report ls translation bugs to <https://translationproject.org/team/>\n",
      "Full documentation at: <https://www.gnu.org/software/coreutils/ls>\n",
      "or available locally via: info '(coreutils) ls invocation'\n"
     ]
    }
   ],
   "source": [
    "%%bash\n",
    "ls -l --help"
   ]
  },
  {
   "cell_type": "markdown",
   "id": "98629add-36a3-40ff-80ab-294b46078e96",
   "metadata": {},
   "source": [
    "### 4. ¿En qué ruta estoy y hacia donde me puedo mover?"
   ]
  },
  {
   "cell_type": "markdown",
   "id": "f08acb85-ea6d-4512-a4db-dd0e4bd6a27b",
   "metadata": {},
   "source": [
    "El comando `pwd` retorna la ruta absoluta de la ubicación actual del usuario."
   ]
  },
  {
   "cell_type": "code",
   "execution_count": 8,
   "id": "12a5f432-db4a-4381-ada0-ba2ff3dfebbb",
   "metadata": {},
   "outputs": [
    {
     "name": "stdout",
     "output_type": "stream",
     "text": [
      "/workspace/Desktop/Maestría Ingeniería - Analítica/2022-01_Monitoria_AnaliticaGrandesDatos/Taller_1_IntroLinux\n"
     ]
    }
   ],
   "source": [
    "%%bash\n",
    "pwd"
   ]
  },
  {
   "cell_type": "markdown",
   "id": "a01087a2-0ad4-4bac-8fd4-b2979a4414dd",
   "metadata": {},
   "source": [
    "El comando `ls` lista los archivos y directorios que contiene la ubicación actual del usuario."
   ]
  },
  {
   "cell_type": "code",
   "execution_count": 9,
   "id": "16c715f4-0c17-493f-8d49-4df47fb0cf1d",
   "metadata": {},
   "outputs": [
    {
     "name": "stdout",
     "output_type": "stream",
     "text": [
      "0. Conceptos básicos 2.ipynb\n",
      "1. Sistema de archivos.ipynb\n",
      "2. Manejo de archivos planos.ipynb\n",
      "data\n",
      "memes\n",
      "out.1\n",
      "out.2\n"
     ]
    }
   ],
   "source": [
    "%%bash\n",
    "ls"
   ]
  },
  {
   "cell_type": "code",
   "execution_count": 10,
   "id": "07a80ac5-881d-404c-b3d8-bcc3eb7da245",
   "metadata": {},
   "outputs": [
    {
     "name": "stdout",
     "output_type": "stream",
     "text": [
      "total 68\n",
      "-rw-r--r-- 1 root root  5529 May 18  2022 0. Conceptos básicos 2.ipynb\n",
      "-rw-r--r-- 1 root root 23187 May 18  2022 1. Sistema de archivos.ipynb\n",
      "-rw-r--r-- 1 root root 26644 May 18  2022 2. Manejo de archivos planos.ipynb\n",
      "drwxr-xr-x 4 root root   128 May 18 11:23 data\n",
      "drwxr-xr-x 7 root root   224 May 18  2022 memes\n",
      "-rw-r--r-- 1 root root  1042 May 18  2022 out.1\n",
      "-rw-r--r-- 1 root root  1042 May 18  2022 out.2\n"
     ]
    }
   ],
   "source": [
    "%%bash\n",
    "ls -l"
   ]
  },
  {
   "cell_type": "markdown",
   "id": "f6a82c44-774d-4875-953a-5da8a13a61d1",
   "metadata": {},
   "source": [
    "El comando `cd` permite al usuario moverse entre ubicaciones."
   ]
  },
  {
   "cell_type": "code",
   "execution_count": 11,
   "id": "266e7df7-4b33-4f19-9fa3-2a90b76f8842",
   "metadata": {},
   "outputs": [
    {
     "name": "stdout",
     "output_type": "stream",
     "text": [
      "/workspace/Desktop/Maestría Ingeniería - Analítica/2022-01_Monitoria_AnaliticaGrandesDatos/Taller_1_IntroLinux\n"
     ]
    }
   ],
   "source": [
    "%%bash\n",
    "pwd"
   ]
  },
  {
   "cell_type": "code",
   "execution_count": 12,
   "id": "ca3dc745-2d6d-4944-8792-d2af229057fd",
   "metadata": {},
   "outputs": [
    {
     "name": "stdout",
     "output_type": "stream",
     "text": [
      "/workspace/Desktop/Maestría Ingeniería - Analítica/2022-01_Monitoria_AnaliticaGrandesDatos\n"
     ]
    }
   ],
   "source": [
    "%%bash\n",
    "cd ..\n",
    "pwd"
   ]
  },
  {
   "cell_type": "code",
   "execution_count": 13,
   "id": "a50c9fb6-ce49-463b-922e-be3ea8e8761b",
   "metadata": {},
   "outputs": [
    {
     "name": "stdout",
     "output_type": "stream",
     "text": [
      "/workspace/Desktop/Maestría Ingeniería - Analítica/2022-01_Monitoria_AnaliticaGrandesDatos/Taller_1_IntroLinux/memes\n"
     ]
    }
   ],
   "source": [
    "%%bash\n",
    "cd /workspace/Desktop/\"Maestría Ingeniería - Analítica\"/\"2022-01_Monitoria_AnaliticaGrandesDatos\"/Taller_1_IntroLinux/memes\n",
    "pwd"
   ]
  },
  {
   "cell_type": "markdown",
   "id": "6947b1c1-c129-42e1-9181-be68d2e2df09",
   "metadata": {},
   "source": [
    "### 2. ¿Qué es la recursión?"
   ]
  },
  {
   "cell_type": "markdown",
   "id": "f7154e42-e1db-4523-bb46-0e2932694332",
   "metadata": {},
   "source": [
    "La recursión es un concepto originado en la teoría fractal que consiste en usar pequeños fragmentos de una misma forma para representarse a sí mismo. En Ciencias de la Computación es una forma de abordar problemas e indica que un método se llamará a sí mismo hasta converger. "
   ]
  },
  {
   "cell_type": "markdown",
   "id": "36805e37-de9e-4322-ac85-36fdecab9002",
   "metadata": {},
   "source": [
    "<img src=\"memes/Recursive.jpg\" alt=\"drawing\" width=\"600\"/>"
   ]
  },
  {
   "cell_type": "markdown",
   "id": "777c653f-97e6-4142-85d4-f43901e80d08",
   "metadata": {},
   "source": [
    "En el manejo de archivos y directorios, la recursión se utiliza como parametro para recorrer directorios hasta la raiz. Es decir, que se listen o recorran los subdirectorios de cada directorio. A continuación un ejemplo en BASH:"
   ]
  },
  {
   "cell_type": "code",
   "execution_count": 14,
   "id": "54cdd161-5378-4904-a46e-f764e549d9ef",
   "metadata": {},
   "outputs": [
    {
     "name": "stdout",
     "output_type": "stream",
     "text": [
      ".:\n",
      "0. Conceptos básicos 2.ipynb\n",
      "1. Sistema de archivos.ipynb\n",
      "2. Manejo de archivos planos.ipynb\n",
      "data\n",
      "memes\n",
      "out.1\n",
      "out.2\n",
      "\n",
      "./data:\n",
      "pacientes.txt\n",
      "\n",
      "./memes:\n",
      "Recursive.jpg\n",
      "meme1.png\n",
      "meme2.png\n",
      "meme3.jpeg\n",
      "meme4.webp\n"
     ]
    }
   ],
   "source": [
    "%%bash\n",
    "cd .. | ls -R"
   ]
  },
  {
   "cell_type": "code",
   "execution_count": 15,
   "id": "46a96b24-401f-4491-9ad5-c733bd6a01aa",
   "metadata": {},
   "outputs": [
    {
     "name": "stdout",
     "output_type": "stream",
     "text": [
      ".:\n",
      "total 68\n",
      " 8 0. Conceptos básicos 2.ipynb\n",
      "24 1. Sistema de archivos.ipynb\n",
      "28 2. Manejo de archivos planos.ipynb\n",
      " 0 data\n",
      " 0 memes\n",
      " 4 out.1\n",
      " 4 out.2\n",
      "\n",
      "./data:\n",
      "total 12\n",
      "12 pacientes.txt\n",
      "\n",
      "./memes:\n",
      "total 484\n",
      "104 Recursive.jpg\n",
      "232 meme1.png\n",
      "  8 meme2.png\n",
      "112 meme3.jpeg\n",
      " 28 meme4.webp\n"
     ]
    }
   ],
   "source": [
    "%%bash\n",
    "ls -R -s"
   ]
  },
  {
   "cell_type": "markdown",
   "id": "96fb6c32-5d27-44f3-b60e-b2b35cacbda4",
   "metadata": {},
   "source": [
    "---"
   ]
  }
 ],
 "metadata": {
  "kernelspec": {
   "display_name": "Python 3 (ipykernel)",
   "language": "python",
   "name": "python3"
  },
  "language_info": {
   "codemirror_mode": {
    "name": "ipython",
    "version": 3
   },
   "file_extension": ".py",
   "mimetype": "text/x-python",
   "name": "python",
   "nbconvert_exporter": "python",
   "pygments_lexer": "ipython3",
   "version": "3.8.10"
  }
 },
 "nbformat": 4,
 "nbformat_minor": 5
}
